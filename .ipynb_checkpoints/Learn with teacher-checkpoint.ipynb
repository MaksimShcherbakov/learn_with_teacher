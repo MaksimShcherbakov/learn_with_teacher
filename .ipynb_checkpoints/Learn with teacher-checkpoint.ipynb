{
 "cells": [
  {
   "cell_type": "markdown",
   "metadata": {
    "toc": true
   },
   "source": [
    "<h1>Содержание<span class=\"tocSkip\"></span></h1>\n",
    "<div class=\"toc\"><ul class=\"toc-item\"><li><span><a href=\"#Подготовка-данных\" data-toc-modified-id=\"Подготовка-данных-1\"><span class=\"toc-item-num\">1&nbsp;&nbsp;</span>Подготовка данных</a></span></li><li><span><a href=\"#Исследование-задачи\" data-toc-modified-id=\"Исследование-задачи-2\"><span class=\"toc-item-num\">2&nbsp;&nbsp;</span>Исследование задачи</a></span></li><li><span><a href=\"#Борьба-с-дисбалансом\" data-toc-modified-id=\"Борьба-с-дисбалансом-3\"><span class=\"toc-item-num\">3&nbsp;&nbsp;</span>Борьба с дисбалансом</a></span></li><li><span><a href=\"#Тестирование-модели\" data-toc-modified-id=\"Тестирование-модели-4\"><span class=\"toc-item-num\">4&nbsp;&nbsp;</span>Тестирование модели</a></span></li><li><span><a href=\"#Чек-лист-готовности-проекта\" data-toc-modified-id=\"Чек-лист-готовности-проекта-5\"><span class=\"toc-item-num\">5&nbsp;&nbsp;</span>Чек-лист готовности проекта</a></span></li></ul></div>"
   ]
  },
  {
   "cell_type": "markdown",
   "metadata": {},
   "source": [
    "# Отток клиентов"
   ]
  },
  {
   "cell_type": "markdown",
   "metadata": {},
   "source": [
    "Из «Бета-Банка» стали уходить клиенты. Каждый месяц. Немного, но заметно. Банковские маркетологи посчитали: сохранять текущих клиентов дешевле, чем привлекать новых.\n",
    "\n",
    "Нужно спрогнозировать, уйдёт клиент из банка в ближайшее время или нет. Вам предоставлены исторические данные о поведении клиентов и расторжении договоров с банком. \n",
    "\n",
    "Постройте модель с предельно большим значением *F1*-меры. Чтобы сдать проект успешно, нужно довести метрику до 0.59. Проверьте *F1*-меру на тестовой выборке самостоятельно.\n",
    "\n",
    "Дополнительно измеряйте *AUC-ROC*, сравнивайте её значение с *F1*-мерой.\n",
    "\n",
    "Источник данных: [https://www.kaggle.com/barelydedicated/bank-customer-churn-modeling](https://www.kaggle.com/barelydedicated/bank-customer-churn-modeling)"
   ]
  },
  {
   "cell_type": "markdown",
   "metadata": {},
   "source": [
    "**Введение:\n",
    "\n",
    "По имеющимся данным заказчик просит спрогнозировать, уйдет ли клиент в ближайшее время.\n",
    "\n",
    "**Цель:\n",
    "\n",
    "Подготовить модель, имеющую F1 меру не менее 0,59"
   ]
  },
  {
   "cell_type": "markdown",
   "metadata": {},
   "source": [
    "## Подготовка данных"
   ]
  },
  {
   "cell_type": "code",
   "execution_count": 1,
   "metadata": {},
   "outputs": [],
   "source": [
    "import pandas as pd\n",
    "import numpy as np\n",
    "import matplotlib.pyplot as plt\n",
    "import pylab as pl\n",
    "\n",
    "from sklearn.model_selection import train_test_split\n",
    "from sklearn.linear_model import LogisticRegression\n",
    "from sklearn.preprocessing import StandardScaler \n",
    "from sklearn.metrics import roc_auc_score, roc_curve, f1_score\n",
    "from sklearn.utils import shuffle\n",
    "from sklearn.tree import DecisionTreeClassifier\n",
    "from sklearn.ensemble import RandomForestClassifier\n",
    "from sklearn.linear_model import LinearRegression"
   ]
  },
  {
   "cell_type": "markdown",
   "metadata": {},
   "source": [
    "Импортирую необходимые библиотеки"
   ]
  },
  {
   "cell_type": "code",
   "execution_count": 2,
   "metadata": {},
   "outputs": [],
   "source": [
    "RANDOM_STATE = 12345"
   ]
  },
  {
   "cell_type": "markdown",
   "metadata": {},
   "source": [
    "Глобальные константы"
   ]
  },
  {
   "cell_type": "code",
   "execution_count": 3,
   "metadata": {},
   "outputs": [],
   "source": [
    "data = pd.read_csv('/datasets/Churn.csv')"
   ]
  },
  {
   "cell_type": "code",
   "execution_count": 4,
   "metadata": {},
   "outputs": [
    {
     "data": {
      "text/html": [
       "<div>\n",
       "<style scoped>\n",
       "    .dataframe tbody tr th:only-of-type {\n",
       "        vertical-align: middle;\n",
       "    }\n",
       "\n",
       "    .dataframe tbody tr th {\n",
       "        vertical-align: top;\n",
       "    }\n",
       "\n",
       "    .dataframe thead th {\n",
       "        text-align: right;\n",
       "    }\n",
       "</style>\n",
       "<table border=\"1\" class=\"dataframe\">\n",
       "  <thead>\n",
       "    <tr style=\"text-align: right;\">\n",
       "      <th></th>\n",
       "      <th>RowNumber</th>\n",
       "      <th>CustomerId</th>\n",
       "      <th>Surname</th>\n",
       "      <th>CreditScore</th>\n",
       "      <th>Geography</th>\n",
       "      <th>Gender</th>\n",
       "      <th>Age</th>\n",
       "      <th>Tenure</th>\n",
       "      <th>Balance</th>\n",
       "      <th>NumOfProducts</th>\n",
       "      <th>HasCrCard</th>\n",
       "      <th>IsActiveMember</th>\n",
       "      <th>EstimatedSalary</th>\n",
       "      <th>Exited</th>\n",
       "    </tr>\n",
       "  </thead>\n",
       "  <tbody>\n",
       "    <tr>\n",
       "      <th>0</th>\n",
       "      <td>1</td>\n",
       "      <td>15634602</td>\n",
       "      <td>Hargrave</td>\n",
       "      <td>619</td>\n",
       "      <td>France</td>\n",
       "      <td>Female</td>\n",
       "      <td>42</td>\n",
       "      <td>2.0</td>\n",
       "      <td>0.00</td>\n",
       "      <td>1</td>\n",
       "      <td>1</td>\n",
       "      <td>1</td>\n",
       "      <td>101348.88</td>\n",
       "      <td>1</td>\n",
       "    </tr>\n",
       "    <tr>\n",
       "      <th>1</th>\n",
       "      <td>2</td>\n",
       "      <td>15647311</td>\n",
       "      <td>Hill</td>\n",
       "      <td>608</td>\n",
       "      <td>Spain</td>\n",
       "      <td>Female</td>\n",
       "      <td>41</td>\n",
       "      <td>1.0</td>\n",
       "      <td>83807.86</td>\n",
       "      <td>1</td>\n",
       "      <td>0</td>\n",
       "      <td>1</td>\n",
       "      <td>112542.58</td>\n",
       "      <td>0</td>\n",
       "    </tr>\n",
       "    <tr>\n",
       "      <th>2</th>\n",
       "      <td>3</td>\n",
       "      <td>15619304</td>\n",
       "      <td>Onio</td>\n",
       "      <td>502</td>\n",
       "      <td>France</td>\n",
       "      <td>Female</td>\n",
       "      <td>42</td>\n",
       "      <td>8.0</td>\n",
       "      <td>159660.80</td>\n",
       "      <td>3</td>\n",
       "      <td>1</td>\n",
       "      <td>0</td>\n",
       "      <td>113931.57</td>\n",
       "      <td>1</td>\n",
       "    </tr>\n",
       "    <tr>\n",
       "      <th>3</th>\n",
       "      <td>4</td>\n",
       "      <td>15701354</td>\n",
       "      <td>Boni</td>\n",
       "      <td>699</td>\n",
       "      <td>France</td>\n",
       "      <td>Female</td>\n",
       "      <td>39</td>\n",
       "      <td>1.0</td>\n",
       "      <td>0.00</td>\n",
       "      <td>2</td>\n",
       "      <td>0</td>\n",
       "      <td>0</td>\n",
       "      <td>93826.63</td>\n",
       "      <td>0</td>\n",
       "    </tr>\n",
       "    <tr>\n",
       "      <th>4</th>\n",
       "      <td>5</td>\n",
       "      <td>15737888</td>\n",
       "      <td>Mitchell</td>\n",
       "      <td>850</td>\n",
       "      <td>Spain</td>\n",
       "      <td>Female</td>\n",
       "      <td>43</td>\n",
       "      <td>2.0</td>\n",
       "      <td>125510.82</td>\n",
       "      <td>1</td>\n",
       "      <td>1</td>\n",
       "      <td>1</td>\n",
       "      <td>79084.10</td>\n",
       "      <td>0</td>\n",
       "    </tr>\n",
       "    <tr>\n",
       "      <th>5</th>\n",
       "      <td>6</td>\n",
       "      <td>15574012</td>\n",
       "      <td>Chu</td>\n",
       "      <td>645</td>\n",
       "      <td>Spain</td>\n",
       "      <td>Male</td>\n",
       "      <td>44</td>\n",
       "      <td>8.0</td>\n",
       "      <td>113755.78</td>\n",
       "      <td>2</td>\n",
       "      <td>1</td>\n",
       "      <td>0</td>\n",
       "      <td>149756.71</td>\n",
       "      <td>1</td>\n",
       "    </tr>\n",
       "    <tr>\n",
       "      <th>6</th>\n",
       "      <td>7</td>\n",
       "      <td>15592531</td>\n",
       "      <td>Bartlett</td>\n",
       "      <td>822</td>\n",
       "      <td>France</td>\n",
       "      <td>Male</td>\n",
       "      <td>50</td>\n",
       "      <td>7.0</td>\n",
       "      <td>0.00</td>\n",
       "      <td>2</td>\n",
       "      <td>1</td>\n",
       "      <td>1</td>\n",
       "      <td>10062.80</td>\n",
       "      <td>0</td>\n",
       "    </tr>\n",
       "    <tr>\n",
       "      <th>7</th>\n",
       "      <td>8</td>\n",
       "      <td>15656148</td>\n",
       "      <td>Obinna</td>\n",
       "      <td>376</td>\n",
       "      <td>Germany</td>\n",
       "      <td>Female</td>\n",
       "      <td>29</td>\n",
       "      <td>4.0</td>\n",
       "      <td>115046.74</td>\n",
       "      <td>4</td>\n",
       "      <td>1</td>\n",
       "      <td>0</td>\n",
       "      <td>119346.88</td>\n",
       "      <td>1</td>\n",
       "    </tr>\n",
       "    <tr>\n",
       "      <th>8</th>\n",
       "      <td>9</td>\n",
       "      <td>15792365</td>\n",
       "      <td>He</td>\n",
       "      <td>501</td>\n",
       "      <td>France</td>\n",
       "      <td>Male</td>\n",
       "      <td>44</td>\n",
       "      <td>4.0</td>\n",
       "      <td>142051.07</td>\n",
       "      <td>2</td>\n",
       "      <td>0</td>\n",
       "      <td>1</td>\n",
       "      <td>74940.50</td>\n",
       "      <td>0</td>\n",
       "    </tr>\n",
       "    <tr>\n",
       "      <th>9</th>\n",
       "      <td>10</td>\n",
       "      <td>15592389</td>\n",
       "      <td>H?</td>\n",
       "      <td>684</td>\n",
       "      <td>France</td>\n",
       "      <td>Male</td>\n",
       "      <td>27</td>\n",
       "      <td>2.0</td>\n",
       "      <td>134603.88</td>\n",
       "      <td>1</td>\n",
       "      <td>1</td>\n",
       "      <td>1</td>\n",
       "      <td>71725.73</td>\n",
       "      <td>0</td>\n",
       "    </tr>\n",
       "  </tbody>\n",
       "</table>\n",
       "</div>"
      ],
      "text/plain": [
       "   RowNumber  CustomerId   Surname  CreditScore Geography  Gender  Age  \\\n",
       "0          1    15634602  Hargrave          619    France  Female   42   \n",
       "1          2    15647311      Hill          608     Spain  Female   41   \n",
       "2          3    15619304      Onio          502    France  Female   42   \n",
       "3          4    15701354      Boni          699    France  Female   39   \n",
       "4          5    15737888  Mitchell          850     Spain  Female   43   \n",
       "5          6    15574012       Chu          645     Spain    Male   44   \n",
       "6          7    15592531  Bartlett          822    France    Male   50   \n",
       "7          8    15656148    Obinna          376   Germany  Female   29   \n",
       "8          9    15792365        He          501    France    Male   44   \n",
       "9         10    15592389        H?          684    France    Male   27   \n",
       "\n",
       "   Tenure    Balance  NumOfProducts  HasCrCard  IsActiveMember  \\\n",
       "0     2.0       0.00              1          1               1   \n",
       "1     1.0   83807.86              1          0               1   \n",
       "2     8.0  159660.80              3          1               0   \n",
       "3     1.0       0.00              2          0               0   \n",
       "4     2.0  125510.82              1          1               1   \n",
       "5     8.0  113755.78              2          1               0   \n",
       "6     7.0       0.00              2          1               1   \n",
       "7     4.0  115046.74              4          1               0   \n",
       "8     4.0  142051.07              2          0               1   \n",
       "9     2.0  134603.88              1          1               1   \n",
       "\n",
       "   EstimatedSalary  Exited  \n",
       "0        101348.88       1  \n",
       "1        112542.58       0  \n",
       "2        113931.57       1  \n",
       "3         93826.63       0  \n",
       "4         79084.10       0  \n",
       "5        149756.71       1  \n",
       "6         10062.80       0  \n",
       "7        119346.88       1  \n",
       "8         74940.50       0  \n",
       "9         71725.73       0  "
      ]
     },
     "execution_count": 4,
     "metadata": {},
     "output_type": "execute_result"
    }
   ],
   "source": [
    "data.head(10)"
   ]
  },
  {
   "cell_type": "code",
   "execution_count": 5,
   "metadata": {},
   "outputs": [
    {
     "name": "stdout",
     "output_type": "stream",
     "text": [
      "<class 'pandas.core.frame.DataFrame'>\n",
      "RangeIndex: 10000 entries, 0 to 9999\n",
      "Data columns (total 14 columns):\n",
      " #   Column           Non-Null Count  Dtype  \n",
      "---  ------           --------------  -----  \n",
      " 0   RowNumber        10000 non-null  int64  \n",
      " 1   CustomerId       10000 non-null  int64  \n",
      " 2   Surname          10000 non-null  object \n",
      " 3   CreditScore      10000 non-null  int64  \n",
      " 4   Geography        10000 non-null  object \n",
      " 5   Gender           10000 non-null  object \n",
      " 6   Age              10000 non-null  int64  \n",
      " 7   Tenure           9091 non-null   float64\n",
      " 8   Balance          10000 non-null  float64\n",
      " 9   NumOfProducts    10000 non-null  int64  \n",
      " 10  HasCrCard        10000 non-null  int64  \n",
      " 11  IsActiveMember   10000 non-null  int64  \n",
      " 12  EstimatedSalary  10000 non-null  float64\n",
      " 13  Exited           10000 non-null  int64  \n",
      "dtypes: float64(3), int64(8), object(3)\n",
      "memory usage: 1.1+ MB\n"
     ]
    }
   ],
   "source": [
    "data.info()"
   ]
  },
  {
   "cell_type": "code",
   "execution_count": 6,
   "metadata": {},
   "outputs": [],
   "source": [
    "data_second = data"
   ]
  },
  {
   "cell_type": "markdown",
   "metadata": {},
   "source": [
    "Прочитал и изучил данные. \n",
    "По первой оценке видно, что есть пропуски в столбце \"Tenure\". Возможно, эти данные неполучилось собрать, т.к. клиент пользуется услугамми банка дольше, чем сам банк собирает данные"
   ]
  },
  {
   "cell_type": "code",
   "execution_count": 7,
   "metadata": {},
   "outputs": [
    {
     "data": {
      "text/plain": [
       "array(['Female', 'Male'], dtype=object)"
      ]
     },
     "execution_count": 7,
     "metadata": {},
     "output_type": "execute_result"
    }
   ],
   "source": [
    "data_second['Gender'].unique()"
   ]
  },
  {
   "cell_type": "markdown",
   "metadata": {},
   "source": [
    "В этом столбце есть всего два гендера"
   ]
  },
  {
   "cell_type": "code",
   "execution_count": 8,
   "metadata": {},
   "outputs": [
    {
     "data": {
      "text/plain": [
       "array(['France', 'Spain', 'Germany'], dtype=object)"
      ]
     },
     "execution_count": 8,
     "metadata": {},
     "output_type": "execute_result"
    }
   ],
   "source": [
    "data_second['Geography'].unique()"
   ]
  },
  {
   "cell_type": "markdown",
   "metadata": {},
   "source": [
    "В категориальном стобце 'Geography', его трогать не будем, т.к. это может быть значимый фактор"
   ]
  },
  {
   "cell_type": "code",
   "execution_count": 9,
   "metadata": {},
   "outputs": [],
   "source": [
    "data_second = data_second.drop(['Surname', 'CustomerId', 'RowNumber'], axis = 1);"
   ]
  },
  {
   "cell_type": "markdown",
   "metadata": {},
   "source": [
    "Безжалостно удалю все имена. Ведб как известно, исчезновение одного человека - трагедия, 10000 - статистика\n",
    "\n",
    "P.S. Предполагаю, что фамилия не влияет на выход из клиентов банка"
   ]
  },
  {
   "cell_type": "markdown",
   "metadata": {},
   "source": [
    "Аналогично поступлю с CustomerId и RowNumber"
   ]
  },
  {
   "cell_type": "code",
   "execution_count": 10,
   "metadata": {},
   "outputs": [
    {
     "data": {
      "text/plain": [
       "0"
      ]
     },
     "execution_count": 10,
     "metadata": {},
     "output_type": "execute_result"
    }
   ],
   "source": [
    "data['CustomerId'].duplicated().sum()"
   ]
  },
  {
   "cell_type": "markdown",
   "metadata": {},
   "source": [
    "В наиболее важном столбце данных \"CustomerId\" нет дубликатов"
   ]
  },
  {
   "cell_type": "code",
   "execution_count": 11,
   "metadata": {},
   "outputs": [
    {
     "data": {
      "text/plain": [
       "count    9091.000000\n",
       "mean        4.997690\n",
       "std         2.894723\n",
       "min         0.000000\n",
       "25%         2.000000\n",
       "50%         5.000000\n",
       "75%         7.000000\n",
       "max        10.000000\n",
       "Name: Tenure, dtype: float64"
      ]
     },
     "execution_count": 11,
     "metadata": {},
     "output_type": "execute_result"
    }
   ],
   "source": [
    "data['Tenure'].describe()"
   ]
  },
  {
   "cell_type": "code",
   "execution_count": 12,
   "metadata": {},
   "outputs": [
    {
     "data": {
      "text/plain": [
       "909"
      ]
     },
     "execution_count": 12,
     "metadata": {},
     "output_type": "execute_result"
    }
   ],
   "source": [
    "data['Tenure'].isnull().sum()"
   ]
  },
  {
   "cell_type": "markdown",
   "metadata": {},
   "source": [
    "909 пропусков в столбце Tenure. Т.к. удаление приведет к значительной потере данных (около 9%), заменим пропуски на медианные значения в зависимости от возраста"
   ]
  },
  {
   "cell_type": "code",
   "execution_count": 13,
   "metadata": {
    "scrolled": true
   },
   "outputs": [],
   "source": [
    "#data_second = data\n",
    "\n",
    "#for age in data_second['Age'].unique():\n",
    "#    data_second.loc[(data_second['Tenure'].isna()) & (data_second['Age'] == age), 'Tenure']\\\n",
    "#    = data_second.loc[(data_second['Age'] == age), 'Tenure'].median()"
   ]
  },
  {
   "cell_type": "code",
   "execution_count": 14,
   "metadata": {},
   "outputs": [
    {
     "name": "stdout",
     "output_type": "stream",
     "text": [
      "   CreditScore  Age  Tenure    Balance  NumOfProducts  HasCrCard  \\\n",
      "0          619   42     2.0       0.00              1          1   \n",
      "1          608   41     1.0   83807.86              1          0   \n",
      "2          502   42     8.0  159660.80              3          1   \n",
      "3          699   39     1.0       0.00              2          0   \n",
      "4          850   43     2.0  125510.82              1          1   \n",
      "5          645   44     8.0  113755.78              2          1   \n",
      "6          822   50     7.0       0.00              2          1   \n",
      "7          376   29     4.0  115046.74              4          1   \n",
      "8          501   44     4.0  142051.07              2          0   \n",
      "9          684   27     2.0  134603.88              1          1   \n",
      "\n",
      "   IsActiveMember  EstimatedSalary  Exited  Geography_Germany  \\\n",
      "0               1        101348.88       1                  0   \n",
      "1               1        112542.58       0                  0   \n",
      "2               0        113931.57       1                  0   \n",
      "3               0         93826.63       0                  0   \n",
      "4               1         79084.10       0                  0   \n",
      "5               0        149756.71       1                  0   \n",
      "6               1         10062.80       0                  0   \n",
      "7               0        119346.88       1                  1   \n",
      "8               1         74940.50       0                  0   \n",
      "9               1         71725.73       0                  0   \n",
      "\n",
      "   Geography_Spain  Gender_Male  \n",
      "0                0            0  \n",
      "1                1            0  \n",
      "2                0            0  \n",
      "3                0            0  \n",
      "4                1            0  \n",
      "5                1            1  \n",
      "6                0            1  \n",
      "7                0            0  \n",
      "8                0            1  \n",
      "9                0            1  \n"
     ]
    },
    {
     "data": {
      "text/html": [
       "<div>\n",
       "<style scoped>\n",
       "    .dataframe tbody tr th:only-of-type {\n",
       "        vertical-align: middle;\n",
       "    }\n",
       "\n",
       "    .dataframe tbody tr th {\n",
       "        vertical-align: top;\n",
       "    }\n",
       "\n",
       "    .dataframe thead th {\n",
       "        text-align: right;\n",
       "    }\n",
       "</style>\n",
       "<table border=\"1\" class=\"dataframe\">\n",
       "  <thead>\n",
       "    <tr style=\"text-align: right;\">\n",
       "      <th></th>\n",
       "      <th>CreditScore</th>\n",
       "      <th>Age</th>\n",
       "      <th>Tenure</th>\n",
       "      <th>Balance</th>\n",
       "      <th>NumOfProducts</th>\n",
       "      <th>HasCrCard</th>\n",
       "      <th>IsActiveMember</th>\n",
       "      <th>EstimatedSalary</th>\n",
       "      <th>Exited</th>\n",
       "      <th>Geography_Germany</th>\n",
       "      <th>Geography_Spain</th>\n",
       "      <th>Gender_Male</th>\n",
       "    </tr>\n",
       "  </thead>\n",
       "  <tbody>\n",
       "    <tr>\n",
       "      <th>0</th>\n",
       "      <td>619.0</td>\n",
       "      <td>42.0</td>\n",
       "      <td>2.000000</td>\n",
       "      <td>0.00</td>\n",
       "      <td>1.0</td>\n",
       "      <td>1.0</td>\n",
       "      <td>1.0</td>\n",
       "      <td>101348.88</td>\n",
       "      <td>1.0</td>\n",
       "      <td>0.0</td>\n",
       "      <td>2.775558e-17</td>\n",
       "      <td>0.0</td>\n",
       "    </tr>\n",
       "    <tr>\n",
       "      <th>1</th>\n",
       "      <td>608.0</td>\n",
       "      <td>41.0</td>\n",
       "      <td>1.000000</td>\n",
       "      <td>83807.86</td>\n",
       "      <td>1.0</td>\n",
       "      <td>0.0</td>\n",
       "      <td>1.0</td>\n",
       "      <td>112542.58</td>\n",
       "      <td>0.0</td>\n",
       "      <td>0.0</td>\n",
       "      <td>1.000000e+00</td>\n",
       "      <td>0.0</td>\n",
       "    </tr>\n",
       "    <tr>\n",
       "      <th>2</th>\n",
       "      <td>502.0</td>\n",
       "      <td>42.0</td>\n",
       "      <td>8.000000</td>\n",
       "      <td>159660.80</td>\n",
       "      <td>3.0</td>\n",
       "      <td>1.0</td>\n",
       "      <td>0.0</td>\n",
       "      <td>113931.57</td>\n",
       "      <td>1.0</td>\n",
       "      <td>0.0</td>\n",
       "      <td>2.775558e-17</td>\n",
       "      <td>0.0</td>\n",
       "    </tr>\n",
       "    <tr>\n",
       "      <th>3</th>\n",
       "      <td>699.0</td>\n",
       "      <td>39.0</td>\n",
       "      <td>1.000000</td>\n",
       "      <td>0.00</td>\n",
       "      <td>2.0</td>\n",
       "      <td>0.0</td>\n",
       "      <td>0.0</td>\n",
       "      <td>93826.63</td>\n",
       "      <td>0.0</td>\n",
       "      <td>0.0</td>\n",
       "      <td>2.775558e-17</td>\n",
       "      <td>0.0</td>\n",
       "    </tr>\n",
       "    <tr>\n",
       "      <th>4</th>\n",
       "      <td>850.0</td>\n",
       "      <td>43.0</td>\n",
       "      <td>2.000000</td>\n",
       "      <td>125510.82</td>\n",
       "      <td>1.0</td>\n",
       "      <td>1.0</td>\n",
       "      <td>1.0</td>\n",
       "      <td>79084.10</td>\n",
       "      <td>0.0</td>\n",
       "      <td>0.0</td>\n",
       "      <td>1.000000e+00</td>\n",
       "      <td>0.0</td>\n",
       "    </tr>\n",
       "    <tr>\n",
       "      <th>...</th>\n",
       "      <td>...</td>\n",
       "      <td>...</td>\n",
       "      <td>...</td>\n",
       "      <td>...</td>\n",
       "      <td>...</td>\n",
       "      <td>...</td>\n",
       "      <td>...</td>\n",
       "      <td>...</td>\n",
       "      <td>...</td>\n",
       "      <td>...</td>\n",
       "      <td>...</td>\n",
       "      <td>...</td>\n",
       "    </tr>\n",
       "    <tr>\n",
       "      <th>9995</th>\n",
       "      <td>771.0</td>\n",
       "      <td>39.0</td>\n",
       "      <td>5.000000</td>\n",
       "      <td>0.00</td>\n",
       "      <td>2.0</td>\n",
       "      <td>1.0</td>\n",
       "      <td>0.0</td>\n",
       "      <td>96270.64</td>\n",
       "      <td>0.0</td>\n",
       "      <td>0.0</td>\n",
       "      <td>2.775558e-17</td>\n",
       "      <td>1.0</td>\n",
       "    </tr>\n",
       "    <tr>\n",
       "      <th>9996</th>\n",
       "      <td>516.0</td>\n",
       "      <td>35.0</td>\n",
       "      <td>10.000000</td>\n",
       "      <td>57369.61</td>\n",
       "      <td>1.0</td>\n",
       "      <td>1.0</td>\n",
       "      <td>1.0</td>\n",
       "      <td>101699.77</td>\n",
       "      <td>0.0</td>\n",
       "      <td>0.0</td>\n",
       "      <td>2.775558e-17</td>\n",
       "      <td>1.0</td>\n",
       "    </tr>\n",
       "    <tr>\n",
       "      <th>9997</th>\n",
       "      <td>709.0</td>\n",
       "      <td>36.0</td>\n",
       "      <td>7.000000</td>\n",
       "      <td>0.00</td>\n",
       "      <td>1.0</td>\n",
       "      <td>0.0</td>\n",
       "      <td>1.0</td>\n",
       "      <td>42085.58</td>\n",
       "      <td>1.0</td>\n",
       "      <td>0.0</td>\n",
       "      <td>2.775558e-17</td>\n",
       "      <td>0.0</td>\n",
       "    </tr>\n",
       "    <tr>\n",
       "      <th>9998</th>\n",
       "      <td>772.0</td>\n",
       "      <td>42.0</td>\n",
       "      <td>3.000000</td>\n",
       "      <td>75075.31</td>\n",
       "      <td>2.0</td>\n",
       "      <td>1.0</td>\n",
       "      <td>0.0</td>\n",
       "      <td>92888.52</td>\n",
       "      <td>1.0</td>\n",
       "      <td>1.0</td>\n",
       "      <td>2.775558e-17</td>\n",
       "      <td>1.0</td>\n",
       "    </tr>\n",
       "    <tr>\n",
       "      <th>9999</th>\n",
       "      <td>792.0</td>\n",
       "      <td>28.0</td>\n",
       "      <td>5.088443</td>\n",
       "      <td>130142.79</td>\n",
       "      <td>1.0</td>\n",
       "      <td>1.0</td>\n",
       "      <td>0.0</td>\n",
       "      <td>38190.78</td>\n",
       "      <td>0.0</td>\n",
       "      <td>0.0</td>\n",
       "      <td>2.775558e-17</td>\n",
       "      <td>0.0</td>\n",
       "    </tr>\n",
       "  </tbody>\n",
       "</table>\n",
       "<p>10000 rows × 12 columns</p>\n",
       "</div>"
      ],
      "text/plain": [
       "      CreditScore   Age     Tenure    Balance  NumOfProducts  HasCrCard  \\\n",
       "0           619.0  42.0   2.000000       0.00            1.0        1.0   \n",
       "1           608.0  41.0   1.000000   83807.86            1.0        0.0   \n",
       "2           502.0  42.0   8.000000  159660.80            3.0        1.0   \n",
       "3           699.0  39.0   1.000000       0.00            2.0        0.0   \n",
       "4           850.0  43.0   2.000000  125510.82            1.0        1.0   \n",
       "...           ...   ...        ...        ...            ...        ...   \n",
       "9995        771.0  39.0   5.000000       0.00            2.0        1.0   \n",
       "9996        516.0  35.0  10.000000   57369.61            1.0        1.0   \n",
       "9997        709.0  36.0   7.000000       0.00            1.0        0.0   \n",
       "9998        772.0  42.0   3.000000   75075.31            2.0        1.0   \n",
       "9999        792.0  28.0   5.088443  130142.79            1.0        1.0   \n",
       "\n",
       "      IsActiveMember  EstimatedSalary  Exited  Geography_Germany  \\\n",
       "0                1.0        101348.88     1.0                0.0   \n",
       "1                1.0        112542.58     0.0                0.0   \n",
       "2                0.0        113931.57     1.0                0.0   \n",
       "3                0.0         93826.63     0.0                0.0   \n",
       "4                1.0         79084.10     0.0                0.0   \n",
       "...              ...              ...     ...                ...   \n",
       "9995             0.0         96270.64     0.0                0.0   \n",
       "9996             1.0        101699.77     0.0                0.0   \n",
       "9997             1.0         42085.58     1.0                0.0   \n",
       "9998             0.0         92888.52     1.0                1.0   \n",
       "9999             0.0         38190.78     0.0                0.0   \n",
       "\n",
       "      Geography_Spain  Gender_Male  \n",
       "0        2.775558e-17          0.0  \n",
       "1        1.000000e+00          0.0  \n",
       "2        2.775558e-17          0.0  \n",
       "3        2.775558e-17          0.0  \n",
       "4        1.000000e+00          0.0  \n",
       "...               ...          ...  \n",
       "9995     2.775558e-17          1.0  \n",
       "9996     2.775558e-17          1.0  \n",
       "9997     2.775558e-17          0.0  \n",
       "9998     2.775558e-17          1.0  \n",
       "9999     2.775558e-17          0.0  \n",
       "\n",
       "[10000 rows x 12 columns]"
      ]
     },
     "execution_count": 14,
     "metadata": {},
     "output_type": "execute_result"
    }
   ],
   "source": [
    "data_second = pd.get_dummies(data_second, prefix = ['Geography', 'Gender'], drop_first = True)\n",
    "print(data_second.head(10))\n",
    "scaler = StandardScaler()\n",
    "\n",
    "data_second = pd.DataFrame(scaler.fit_transform(data_second), columns = data_second.columns)\n",
    "\n",
    "data_second_test = data_second[data_second['Tenure'].isnull()].copy()\n",
    "data_second_train = data_second.dropna().copy()\n",
    "\n",
    "features_train_second = data_second_train.drop('Tenure', axis = 1)\n",
    "features_test_second = data_second_test.drop('Tenure', axis = 1)\n",
    "\n",
    "target_train_second = data_second_train['Tenure']\n",
    "target_test_second = data_second_test['Tenure']\n",
    "\n",
    "drops_model = LinearRegression()\n",
    "drops_model.fit(features_train_second, target_train_second)\n",
    "drops_predict = drops_model.predict(features_test_second)\n",
    "\n",
    "data_second_test['Tenure'] = drops_predict\n",
    "\n",
    "data_second = pd.concat([data_second_train, data_second_test])\n",
    "data_second.sort_index(inplace = True)\n",
    "data_second = pd.DataFrame(scaler.inverse_transform(data_second), columns = data_second.columns)\n",
    "\n",
    "data_second"
   ]
  },
  {
   "cell_type": "code",
   "execution_count": 15,
   "metadata": {},
   "outputs": [
    {
     "name": "stdout",
     "output_type": "stream",
     "text": [
      "<class 'pandas.core.frame.DataFrame'>\n",
      "RangeIndex: 10000 entries, 0 to 9999\n",
      "Data columns (total 12 columns):\n",
      " #   Column             Non-Null Count  Dtype  \n",
      "---  ------             --------------  -----  \n",
      " 0   CreditScore        10000 non-null  float64\n",
      " 1   Age                10000 non-null  float64\n",
      " 2   Tenure             10000 non-null  float64\n",
      " 3   Balance            10000 non-null  float64\n",
      " 4   NumOfProducts      10000 non-null  float64\n",
      " 5   HasCrCard          10000 non-null  float64\n",
      " 6   IsActiveMember     10000 non-null  float64\n",
      " 7   EstimatedSalary    10000 non-null  float64\n",
      " 8   Exited             10000 non-null  float64\n",
      " 9   Geography_Germany  10000 non-null  float64\n",
      " 10  Geography_Spain    10000 non-null  float64\n",
      " 11  Gender_Male        10000 non-null  float64\n",
      "dtypes: float64(12)\n",
      "memory usage: 937.6 KB\n"
     ]
    }
   ],
   "source": [
    "data_second.info()"
   ]
  },
  {
   "cell_type": "markdown",
   "metadata": {},
   "source": [
    "Устранена проблема пропусков"
   ]
  },
  {
   "cell_type": "code",
   "execution_count": 16,
   "metadata": {},
   "outputs": [
    {
     "data": {
      "text/html": [
       "<div>\n",
       "<style scoped>\n",
       "    .dataframe tbody tr th:only-of-type {\n",
       "        vertical-align: middle;\n",
       "    }\n",
       "\n",
       "    .dataframe tbody tr th {\n",
       "        vertical-align: top;\n",
       "    }\n",
       "\n",
       "    .dataframe thead th {\n",
       "        text-align: right;\n",
       "    }\n",
       "</style>\n",
       "<table border=\"1\" class=\"dataframe\">\n",
       "  <thead>\n",
       "    <tr style=\"text-align: right;\">\n",
       "      <th></th>\n",
       "      <th>CreditScore</th>\n",
       "      <th>Age</th>\n",
       "      <th>Tenure</th>\n",
       "      <th>Balance</th>\n",
       "      <th>NumOfProducts</th>\n",
       "      <th>HasCrCard</th>\n",
       "      <th>IsActiveMember</th>\n",
       "      <th>EstimatedSalary</th>\n",
       "      <th>Exited</th>\n",
       "      <th>Geography_Germany</th>\n",
       "      <th>Geography_Spain</th>\n",
       "      <th>Gender_Male</th>\n",
       "    </tr>\n",
       "  </thead>\n",
       "  <tbody>\n",
       "    <tr>\n",
       "      <th>0</th>\n",
       "      <td>619.0</td>\n",
       "      <td>42.0</td>\n",
       "      <td>2.0</td>\n",
       "      <td>0.00</td>\n",
       "      <td>1.0</td>\n",
       "      <td>1.0</td>\n",
       "      <td>1.0</td>\n",
       "      <td>101348.88</td>\n",
       "      <td>1.0</td>\n",
       "      <td>0.0</td>\n",
       "      <td>2.775558e-17</td>\n",
       "      <td>0.0</td>\n",
       "    </tr>\n",
       "    <tr>\n",
       "      <th>1</th>\n",
       "      <td>608.0</td>\n",
       "      <td>41.0</td>\n",
       "      <td>1.0</td>\n",
       "      <td>83807.86</td>\n",
       "      <td>1.0</td>\n",
       "      <td>0.0</td>\n",
       "      <td>1.0</td>\n",
       "      <td>112542.58</td>\n",
       "      <td>0.0</td>\n",
       "      <td>0.0</td>\n",
       "      <td>1.000000e+00</td>\n",
       "      <td>0.0</td>\n",
       "    </tr>\n",
       "    <tr>\n",
       "      <th>2</th>\n",
       "      <td>502.0</td>\n",
       "      <td>42.0</td>\n",
       "      <td>8.0</td>\n",
       "      <td>159660.80</td>\n",
       "      <td>3.0</td>\n",
       "      <td>1.0</td>\n",
       "      <td>0.0</td>\n",
       "      <td>113931.57</td>\n",
       "      <td>1.0</td>\n",
       "      <td>0.0</td>\n",
       "      <td>2.775558e-17</td>\n",
       "      <td>0.0</td>\n",
       "    </tr>\n",
       "    <tr>\n",
       "      <th>3</th>\n",
       "      <td>699.0</td>\n",
       "      <td>39.0</td>\n",
       "      <td>1.0</td>\n",
       "      <td>0.00</td>\n",
       "      <td>2.0</td>\n",
       "      <td>0.0</td>\n",
       "      <td>0.0</td>\n",
       "      <td>93826.63</td>\n",
       "      <td>0.0</td>\n",
       "      <td>0.0</td>\n",
       "      <td>2.775558e-17</td>\n",
       "      <td>0.0</td>\n",
       "    </tr>\n",
       "    <tr>\n",
       "      <th>4</th>\n",
       "      <td>850.0</td>\n",
       "      <td>43.0</td>\n",
       "      <td>2.0</td>\n",
       "      <td>125510.82</td>\n",
       "      <td>1.0</td>\n",
       "      <td>1.0</td>\n",
       "      <td>1.0</td>\n",
       "      <td>79084.10</td>\n",
       "      <td>0.0</td>\n",
       "      <td>0.0</td>\n",
       "      <td>1.000000e+00</td>\n",
       "      <td>0.0</td>\n",
       "    </tr>\n",
       "  </tbody>\n",
       "</table>\n",
       "</div>"
      ],
      "text/plain": [
       "   CreditScore   Age  Tenure    Balance  NumOfProducts  HasCrCard  \\\n",
       "0        619.0  42.0     2.0       0.00            1.0        1.0   \n",
       "1        608.0  41.0     1.0   83807.86            1.0        0.0   \n",
       "2        502.0  42.0     8.0  159660.80            3.0        1.0   \n",
       "3        699.0  39.0     1.0       0.00            2.0        0.0   \n",
       "4        850.0  43.0     2.0  125510.82            1.0        1.0   \n",
       "\n",
       "   IsActiveMember  EstimatedSalary  Exited  Geography_Germany  \\\n",
       "0             1.0        101348.88     1.0                0.0   \n",
       "1             1.0        112542.58     0.0                0.0   \n",
       "2             0.0        113931.57     1.0                0.0   \n",
       "3             0.0         93826.63     0.0                0.0   \n",
       "4             1.0         79084.10     0.0                0.0   \n",
       "\n",
       "   Geography_Spain  Gender_Male  \n",
       "0     2.775558e-17          0.0  \n",
       "1     1.000000e+00          0.0  \n",
       "2     2.775558e-17          0.0  \n",
       "3     2.775558e-17          0.0  \n",
       "4     1.000000e+00          0.0  "
      ]
     },
     "execution_count": 16,
     "metadata": {},
     "output_type": "execute_result"
    }
   ],
   "source": [
    "data_second.head()"
   ]
  },
  {
   "cell_type": "code",
   "execution_count": 17,
   "metadata": {},
   "outputs": [
    {
     "name": "stdout",
     "output_type": "stream",
     "text": [
      "<class 'pandas.core.frame.DataFrame'>\n",
      "RangeIndex: 10000 entries, 0 to 9999\n",
      "Data columns (total 12 columns):\n",
      " #   Column             Non-Null Count  Dtype  \n",
      "---  ------             --------------  -----  \n",
      " 0   CreditScore        10000 non-null  float64\n",
      " 1   Age                10000 non-null  float64\n",
      " 2   Tenure             10000 non-null  float64\n",
      " 3   Balance            10000 non-null  float64\n",
      " 4   NumOfProducts      10000 non-null  float64\n",
      " 5   HasCrCard          10000 non-null  float64\n",
      " 6   IsActiveMember     10000 non-null  float64\n",
      " 7   EstimatedSalary    10000 non-null  float64\n",
      " 8   Exited             10000 non-null  float64\n",
      " 9   Geography_Germany  10000 non-null  float64\n",
      " 10  Geography_Spain    10000 non-null  float64\n",
      " 11  Gender_Male        10000 non-null  float64\n",
      "dtypes: float64(12)\n",
      "memory usage: 937.6 KB\n"
     ]
    }
   ],
   "source": [
    "data_second.info()"
   ]
  },
  {
   "cell_type": "markdown",
   "metadata": {},
   "source": [
    "Данные готовы к работе"
   ]
  },
  {
   "cell_type": "code",
   "execution_count": 18,
   "metadata": {},
   "outputs": [
    {
     "name": "stdout",
     "output_type": "stream",
     "text": [
      "1 - клиент ушел, 0 - клиент не ушел\n"
     ]
    },
    {
     "data": {
      "image/png": "[encoded data removed]",
      "text/plain": [
       "<Figure size 432x288 with 1 Axes>"
      ]
     },
     "metadata": {},
     "output_type": "display_data"
    }
   ],
   "source": [
    "data_second.groupby('Exited')['CreditScore'].count().plot(kind = 'pie', y='1')\n",
    "\n",
    "pl.title(\"Факт ухода клиентов\")\n",
    "print('1 - клиент ушел, 0 - клиент не ушел')\n",
    "pl.xlabel(\"\")\n",
    "pl.ylabel(\"\");"
   ]
  },
  {
   "cell_type": "markdown",
   "metadata": {},
   "source": [
    "## Исследование задачи"
   ]
  },
  {
   "cell_type": "code",
   "execution_count": 19,
   "metadata": {},
   "outputs": [],
   "source": [
    "def roc_auc_roc(model, features_valid, target_valid):\n",
    "    probabilities_valid = model.predict_proba(features_valid)\n",
    "    probabilities_one_valid = probabilities_valid[:, 1]\n",
    "\n",
    "    fpr, tpr, thresholds = roc_curve(target_valid, probabilities_one_valid)  \n",
    "\n",
    "    plt.figure()\n",
    "    plt.plot(fpr, tpr)\n",
    "    plt.xlim([0.0, 1.0])\n",
    "    plt.ylim([0.0, 1.0])\n",
    "    plt.xlabel('False Positive Rate')\n",
    "    plt.ylabel('True Positive Rate')\n",
    "    plt.title('ROC-кривая')\n",
    "    plt.show() \n",
    "    \n",
    "    auc_roc = roc_auc_score(target_valid, probabilities_one_valid)\n",
    "\n",
    "    \n",
    "    print('AUC-ROC:',auc_roc)\n",
    "    return"
   ]
  },
  {
   "cell_type": "markdown",
   "metadata": {},
   "source": [
    "Функия расчета AUC-ROC и постройки ROC кривой"
   ]
  },
  {
   "cell_type": "code",
   "execution_count": 20,
   "metadata": {},
   "outputs": [],
   "source": [
    "data_ohe = pd.get_dummies(data_second, drop_first = True)"
   ]
  },
  {
   "cell_type": "markdown",
   "metadata": {},
   "source": [
    "Дамми ловушка"
   ]
  },
  {
   "cell_type": "code",
   "execution_count": 21,
   "metadata": {},
   "outputs": [],
   "source": [
    "#data_train, data_val, data_test = np.split(data_ohe.sample(frac=1, random_state=RANDOM_STATE), [int(.6*len(data)), int(.8*len(data))])\n",
    "\n",
    "#features_train = data_train.drop(['Exited'], axis = 1)\n",
    "#target_train = data_train['Exited']\n",
    "\n",
    "#features_valid = data_val.drop(['Exited'], axis = 1)\n",
    "#target_valid = data_val['Exited']\n",
    "\n",
    "#features_test = data_test.drop(['Exited'], axis = 1)\n",
    "#target_test = data_test['Exited']"
   ]
  },
  {
   "cell_type": "code",
   "execution_count": 23,
   "metadata": {},
   "outputs": [],
   "source": [
    "data_ohe_second = data_ohe\n",
    "\n",
    "data_train, data_val, data_test = np.split(data_ohe_second.sample(frac=1, random_state=RANDOM_STATE), [int(.6*len(data)), int(.8*len(data))])\n",
    "\n",
    "features_train = data_train.drop(['Exited'], axis = 1)\n",
    "target_train = data_train['Exited']\n",
    "\n",
    "features_valid = data_val.drop(['Exited'], axis = 1)\n",
    "target_valid = data_val['Exited']\n",
    "\n",
    "features_test = data_test.drop(['Exited'], axis = 1)\n",
    "target_test = data_test['Exited']\n"
   ]
  },
  {
   "cell_type": "code",
   "execution_count": 24,
   "metadata": {},
   "outputs": [],
   "source": [
    "pd.options.mode.chained_assignment = None\n",
    "\n",
    "numeric = list(['Balance', 'EstimatedSalary', 'CreditScore', 'Age', 'Tenure', 'NumOfProducts'])\n",
    "\n",
    "\n",
    "scaler.fit(features_train[numeric])\n",
    "\n",
    "features_train[numeric] = scaler.transform(features_train[numeric])\n",
    "features_valid[numeric] = scaler.transform(features_valid[numeric])\n",
    "features_test[numeric] = scaler.transform(features_test[numeric])"
   ]
  },
  {
   "cell_type": "code",
   "execution_count": 25,
   "metadata": {},
   "outputs": [
    {
     "data": {
      "text/html": [
       "<div>\n",
       "<style scoped>\n",
       "    .dataframe tbody tr th:only-of-type {\n",
       "        vertical-align: middle;\n",
       "    }\n",
       "\n",
       "    .dataframe tbody tr th {\n",
       "        vertical-align: top;\n",
       "    }\n",
       "\n",
       "    .dataframe thead th {\n",
       "        text-align: right;\n",
       "    }\n",
       "</style>\n",
       "<table border=\"1\" class=\"dataframe\">\n",
       "  <thead>\n",
       "    <tr style=\"text-align: right;\">\n",
       "      <th></th>\n",
       "      <th>CreditScore</th>\n",
       "      <th>Age</th>\n",
       "      <th>Tenure</th>\n",
       "      <th>Balance</th>\n",
       "      <th>NumOfProducts</th>\n",
       "      <th>HasCrCard</th>\n",
       "      <th>IsActiveMember</th>\n",
       "      <th>EstimatedSalary</th>\n",
       "      <th>Geography_Germany</th>\n",
       "      <th>Geography_Spain</th>\n",
       "      <th>Gender_Male</th>\n",
       "    </tr>\n",
       "  </thead>\n",
       "  <tbody>\n",
       "    <tr>\n",
       "      <th>7867</th>\n",
       "      <td>-0.095446</td>\n",
       "      <td>0.692527</td>\n",
       "      <td>-0.711446</td>\n",
       "      <td>-1.207343</td>\n",
       "      <td>-0.934554</td>\n",
       "      <td>1.0</td>\n",
       "      <td>1.0</td>\n",
       "      <td>0.967598</td>\n",
       "      <td>0.0</td>\n",
       "      <td>1.000000e+00</td>\n",
       "      <td>0.0</td>\n",
       "    </tr>\n",
       "    <tr>\n",
       "      <th>1402</th>\n",
       "      <td>1.108213</td>\n",
       "      <td>-0.948724</td>\n",
       "      <td>1.088626</td>\n",
       "      <td>0.869462</td>\n",
       "      <td>-0.934554</td>\n",
       "      <td>1.0</td>\n",
       "      <td>0.0</td>\n",
       "      <td>-0.403069</td>\n",
       "      <td>0.0</td>\n",
       "      <td>2.775558e-17</td>\n",
       "      <td>1.0</td>\n",
       "    </tr>\n",
       "    <tr>\n",
       "      <th>8606</th>\n",
       "      <td>1.622597</td>\n",
       "      <td>0.306351</td>\n",
       "      <td>0.008583</td>\n",
       "      <td>-1.207343</td>\n",
       "      <td>0.789186</td>\n",
       "      <td>1.0</td>\n",
       "      <td>1.0</td>\n",
       "      <td>-0.447751</td>\n",
       "      <td>0.0</td>\n",
       "      <td>1.000000e+00</td>\n",
       "      <td>1.0</td>\n",
       "    </tr>\n",
       "    <tr>\n",
       "      <th>8885</th>\n",
       "      <td>0.192609</td>\n",
       "      <td>0.595983</td>\n",
       "      <td>-0.351432</td>\n",
       "      <td>0.426066</td>\n",
       "      <td>0.789186</td>\n",
       "      <td>1.0</td>\n",
       "      <td>1.0</td>\n",
       "      <td>1.004463</td>\n",
       "      <td>0.0</td>\n",
       "      <td>1.000000e+00</td>\n",
       "      <td>1.0</td>\n",
       "    </tr>\n",
       "    <tr>\n",
       "      <th>6494</th>\n",
       "      <td>0.511528</td>\n",
       "      <td>-1.045268</td>\n",
       "      <td>0.728612</td>\n",
       "      <td>-1.207343</td>\n",
       "      <td>0.789186</td>\n",
       "      <td>1.0</td>\n",
       "      <td>1.0</td>\n",
       "      <td>-1.356118</td>\n",
       "      <td>0.0</td>\n",
       "      <td>2.775558e-17</td>\n",
       "      <td>1.0</td>\n",
       "    </tr>\n",
       "    <tr>\n",
       "      <th>...</th>\n",
       "      <td>...</td>\n",
       "      <td>...</td>\n",
       "      <td>...</td>\n",
       "      <td>...</td>\n",
       "      <td>...</td>\n",
       "      <td>...</td>\n",
       "      <td>...</td>\n",
       "      <td>...</td>\n",
       "      <td>...</td>\n",
       "      <td>...</td>\n",
       "      <td>...</td>\n",
       "    </tr>\n",
       "    <tr>\n",
       "      <th>2053</th>\n",
       "      <td>2.064968</td>\n",
       "      <td>2.333778</td>\n",
       "      <td>1.088626</td>\n",
       "      <td>1.499422</td>\n",
       "      <td>-0.934554</td>\n",
       "      <td>0.0</td>\n",
       "      <td>0.0</td>\n",
       "      <td>1.452035</td>\n",
       "      <td>0.0</td>\n",
       "      <td>2.775558e-17</td>\n",
       "      <td>1.0</td>\n",
       "    </tr>\n",
       "    <tr>\n",
       "      <th>6663</th>\n",
       "      <td>2.064968</td>\n",
       "      <td>-0.755635</td>\n",
       "      <td>-0.351432</td>\n",
       "      <td>1.128943</td>\n",
       "      <td>-0.934554</td>\n",
       "      <td>1.0</td>\n",
       "      <td>1.0</td>\n",
       "      <td>-0.187260</td>\n",
       "      <td>1.0</td>\n",
       "      <td>2.775558e-17</td>\n",
       "      <td>1.0</td>\n",
       "    </tr>\n",
       "    <tr>\n",
       "      <th>902</th>\n",
       "      <td>-0.044007</td>\n",
       "      <td>0.885616</td>\n",
       "      <td>0.728612</td>\n",
       "      <td>0.236822</td>\n",
       "      <td>-0.934554</td>\n",
       "      <td>1.0</td>\n",
       "      <td>1.0</td>\n",
       "      <td>0.843720</td>\n",
       "      <td>0.0</td>\n",
       "      <td>2.775558e-17</td>\n",
       "      <td>0.0</td>\n",
       "    </tr>\n",
       "    <tr>\n",
       "      <th>2379</th>\n",
       "      <td>-0.260049</td>\n",
       "      <td>-1.238356</td>\n",
       "      <td>1.448640</td>\n",
       "      <td>-0.017075</td>\n",
       "      <td>0.789186</td>\n",
       "      <td>0.0</td>\n",
       "      <td>0.0</td>\n",
       "      <td>-1.207439</td>\n",
       "      <td>0.0</td>\n",
       "      <td>2.775558e-17</td>\n",
       "      <td>1.0</td>\n",
       "    </tr>\n",
       "    <tr>\n",
       "      <th>5563</th>\n",
       "      <td>-0.404076</td>\n",
       "      <td>0.692527</td>\n",
       "      <td>0.008583</td>\n",
       "      <td>0.257310</td>\n",
       "      <td>-0.934554</td>\n",
       "      <td>1.0</td>\n",
       "      <td>0.0</td>\n",
       "      <td>-0.804490</td>\n",
       "      <td>0.0</td>\n",
       "      <td>1.000000e+00</td>\n",
       "      <td>1.0</td>\n",
       "    </tr>\n",
       "  </tbody>\n",
       "</table>\n",
       "<p>6000 rows × 11 columns</p>\n",
       "</div>"
      ],
      "text/plain": [
       "      CreditScore       Age    Tenure   Balance  NumOfProducts  HasCrCard  \\\n",
       "7867    -0.095446  0.692527 -0.711446 -1.207343      -0.934554        1.0   \n",
       "1402     1.108213 -0.948724  1.088626  0.869462      -0.934554        1.0   \n",
       "8606     1.622597  0.306351  0.008583 -1.207343       0.789186        1.0   \n",
       "8885     0.192609  0.595983 -0.351432  0.426066       0.789186        1.0   \n",
       "6494     0.511528 -1.045268  0.728612 -1.207343       0.789186        1.0   \n",
       "...           ...       ...       ...       ...            ...        ...   \n",
       "2053     2.064968  2.333778  1.088626  1.499422      -0.934554        0.0   \n",
       "6663     2.064968 -0.755635 -0.351432  1.128943      -0.934554        1.0   \n",
       "902     -0.044007  0.885616  0.728612  0.236822      -0.934554        1.0   \n",
       "2379    -0.260049 -1.238356  1.448640 -0.017075       0.789186        0.0   \n",
       "5563    -0.404076  0.692527  0.008583  0.257310      -0.934554        1.0   \n",
       "\n",
       "      IsActiveMember  EstimatedSalary  Geography_Germany  Geography_Spain  \\\n",
       "7867             1.0         0.967598                0.0     1.000000e+00   \n",
       "1402             0.0        -0.403069                0.0     2.775558e-17   \n",
       "8606             1.0        -0.447751                0.0     1.000000e+00   \n",
       "8885             1.0         1.004463                0.0     1.000000e+00   \n",
       "6494             1.0        -1.356118                0.0     2.775558e-17   \n",
       "...              ...              ...                ...              ...   \n",
       "2053             0.0         1.452035                0.0     2.775558e-17   \n",
       "6663             1.0        -0.187260                1.0     2.775558e-17   \n",
       "902              1.0         0.843720                0.0     2.775558e-17   \n",
       "2379             0.0        -1.207439                0.0     2.775558e-17   \n",
       "5563             0.0        -0.804490                0.0     1.000000e+00   \n",
       "\n",
       "      Gender_Male  \n",
       "7867          0.0  \n",
       "1402          1.0  \n",
       "8606          1.0  \n",
       "8885          1.0  \n",
       "6494          1.0  \n",
       "...           ...  \n",
       "2053          1.0  \n",
       "6663          1.0  \n",
       "902           0.0  \n",
       "2379          1.0  \n",
       "5563          1.0  \n",
       "\n",
       "[6000 rows x 11 columns]"
      ]
     },
     "execution_count": 25,
     "metadata": {},
     "output_type": "execute_result"
    }
   ],
   "source": [
    "features_train"
   ]
  },
  {
   "cell_type": "markdown",
   "metadata": {},
   "source": [
    "разбил выборки на train/valid/test"
   ]
  },
  {
   "cell_type": "code",
   "execution_count": 79,
   "metadata": {},
   "outputs": [
    {
     "name": "stdout",
     "output_type": "stream",
     "text": [
      "F1: 0.29739776951672864\n"
     ]
    }
   ],
   "source": [
    "model = LogisticRegression(random_state = RANDOM_STATE, solver='liblinear', max_iter=1000)\n",
    "model.fit(features_train, target_train)\n",
    "predicted_valid = model.predict(features_valid)\n",
    "\n",
    "print(\"F1:\", f1_score(target_valid, predicted_valid))\n",
    "\n"
   ]
  },
  {
   "cell_type": "code",
   "execution_count": 80,
   "metadata": {},
   "outputs": [
    {
     "data": {
      "image/png": "[encoded data removed]",
      "text/plain": [
       "<Figure size 432x288 with 1 Axes>"
      ]
     },
     "metadata": {
      "needs_background": "light"
     },
     "output_type": "display_data"
    },
    {
     "name": "stdout",
     "output_type": "stream",
     "text": [
      "AUC-ROC: 0.7652876296944094\n"
     ]
    }
   ],
   "source": [
    "roc_auc_roc(model, features_valid, target_valid)"
   ]
  },
  {
   "cell_type": "markdown",
   "metadata": {},
   "source": [
    "Без учета дисбланса классов модель логистической регресси дала совсем плохой F1-score около 0,30"
   ]
  },
  {
   "cell_type": "code",
   "execution_count": 81,
   "metadata": {},
   "outputs": [
    {
     "name": "stdout",
     "output_type": "stream",
     "text": [
      "F1: 0.47259439707673573\n"
     ]
    }
   ],
   "source": [
    "model = DecisionTreeClassifier(random_state = RANDOM_STATE)\n",
    "model.fit(features_train, target_train)\n",
    "predicted_valid = model.predict(features_valid)\n",
    "\n",
    "print(\"F1:\", f1_score(target_valid, predicted_valid))"
   ]
  },
  {
   "cell_type": "code",
   "execution_count": 82,
   "metadata": {},
   "outputs": [
    {
     "data": {
      "image/png": "[encoded data removed]",
      "text/plain": [
       "<Figure size 432x288 with 1 Axes>"
      ]
     },
     "metadata": {
      "needs_background": "light"
     },
     "output_type": "display_data"
    },
    {
     "name": "stdout",
     "output_type": "stream",
     "text": [
      "AUC-ROC: 0.6692771353788303\n"
     ]
    }
   ],
   "source": [
    "roc_auc_roc(model, features_valid, target_valid)"
   ]
  },
  {
   "cell_type": "code",
   "execution_count": 83,
   "metadata": {},
   "outputs": [
    {
     "name": "stdout",
     "output_type": "stream",
     "text": [
      "F1: 0.536741214057508\n"
     ]
    }
   ],
   "source": [
    "model = RandomForestClassifier(random_state = RANDOM_STATE)\n",
    "model.fit(features_train, target_train)\n",
    "predicted_valid = model.predict(features_valid)\n",
    "\n",
    "print(\"F1:\", f1_score(target_valid, predicted_valid))"
   ]
  },
  {
   "cell_type": "code",
   "execution_count": 84,
   "metadata": {},
   "outputs": [
    {
     "data": {
      "image/png": "[encoded data removed]",
      "text/plain": [
       "<Figure size 432x288 with 1 Axes>"
      ]
     },
     "metadata": {
      "needs_background": "light"
     },
     "output_type": "display_data"
    },
    {
     "name": "stdout",
     "output_type": "stream",
     "text": [
      "AUC-ROC: 0.8347731398578857\n"
     ]
    }
   ],
   "source": [
    "roc_auc_roc(model, features_valid, target_valid)"
   ]
  },
  {
   "cell_type": "markdown",
   "metadata": {},
   "source": [
    "## Борьба с дисбалансом"
   ]
  },
  {
   "cell_type": "code",
   "execution_count": 85,
   "metadata": {},
   "outputs": [],
   "source": [
    "def upsample(features, target, repeat):\n",
    "    features_zeros = features[target == 0]\n",
    "    features_ones = features[target == 1]\n",
    "    target_zeros = target[target == 0]\n",
    "    target_ones = target[target == 1]\n",
    "\n",
    "    features_upsampled = pd.concat([features_zeros] + [features_ones] * repeat)\n",
    "    target_upsampled = pd.concat([target_zeros] + [target_ones] * repeat)\n",
    "    \n",
    "    features_upsampled, target_upsampled = shuffle(\n",
    "        features_upsampled, target_upsampled, random_state=RANDOM_STATE)\n",
    "    \n",
    "    return features_upsampled, target_upsampled"
   ]
  },
  {
   "cell_type": "markdown",
   "metadata": {},
   "source": [
    "Функция увеличения выборки, пригодится далее"
   ]
  },
  {
   "cell_type": "code",
   "execution_count": 86,
   "metadata": {},
   "outputs": [],
   "source": [
    "#data_ohe_second = data_ohe\n",
    "\n",
    "#data_train, data_val, data_test = np.split(data_ohe_second.sample(frac=1, random_state=RANDOM_STATE), [int(.6*len(data)), int(.8*len(data))])\n",
    "\n",
    "#features_train = data_train.drop(['Exited'], axis = 1)\n",
    "#target_train = data_train['Exited']\n",
    "\n",
    "#features_valid = data_val.drop(['Exited'], axis = 1)\n",
    "#target_valid = data_val['Exited']\n",
    "\n",
    "#features_test = data_test.drop(['Exited'], axis = 1)\n",
    "#target_test = data_test['Exited']\n"
   ]
  },
  {
   "cell_type": "markdown",
   "metadata": {},
   "source": [
    "Разделил выборку на 60/20/20 - train/valid/test и разделил на признаки и таргеты"
   ]
  },
  {
   "cell_type": "code",
   "execution_count": 87,
   "metadata": {},
   "outputs": [],
   "source": [
    "#pd.options.mode.chained_assignment = None\n",
    "\n",
    "#numeric = list(['Balance', 'EstimatedSalary', 'CreditScore', 'Age', 'Tenure', 'Geography_Germany',\\\n",
    "               #'Geography_Spain'])\n",
    "\n",
    "\n",
    "#scaler.fit(features_train[numeric])\n",
    "\n",
    "#features_train[numeric] = scaler.transform(features_train[numeric])\n",
    "#features_valid[numeric] = scaler.transform(features_valid[numeric])\n",
    "#features_test[numeric] = scaler.transform(features_test[numeric])"
   ]
  },
  {
   "cell_type": "markdown",
   "metadata": {},
   "source": [
    "Провел масштабирование признаков\n"
   ]
  },
  {
   "cell_type": "code",
   "execution_count": 88,
   "metadata": {},
   "outputs": [
    {
     "data": {
      "text/html": [
       "<div>\n",
       "<style scoped>\n",
       "    .dataframe tbody tr th:only-of-type {\n",
       "        vertical-align: middle;\n",
       "    }\n",
       "\n",
       "    .dataframe tbody tr th {\n",
       "        vertical-align: top;\n",
       "    }\n",
       "\n",
       "    .dataframe thead th {\n",
       "        text-align: right;\n",
       "    }\n",
       "</style>\n",
       "<table border=\"1\" class=\"dataframe\">\n",
       "  <thead>\n",
       "    <tr style=\"text-align: right;\">\n",
       "      <th></th>\n",
       "      <th>CreditScore</th>\n",
       "      <th>Age</th>\n",
       "      <th>Tenure</th>\n",
       "      <th>Balance</th>\n",
       "      <th>NumOfProducts</th>\n",
       "      <th>HasCrCard</th>\n",
       "      <th>IsActiveMember</th>\n",
       "      <th>EstimatedSalary</th>\n",
       "      <th>Geography_Germany</th>\n",
       "      <th>Geography_Spain</th>\n",
       "      <th>Gender_Male</th>\n",
       "    </tr>\n",
       "  </thead>\n",
       "  <tbody>\n",
       "    <tr>\n",
       "      <th>7867</th>\n",
       "      <td>-0.095446</td>\n",
       "      <td>0.692527</td>\n",
       "      <td>-0.711446</td>\n",
       "      <td>-1.207343</td>\n",
       "      <td>-0.934554</td>\n",
       "      <td>1.0</td>\n",
       "      <td>1.0</td>\n",
       "      <td>0.967598</td>\n",
       "      <td>0.0</td>\n",
       "      <td>1.000000e+00</td>\n",
       "      <td>0.0</td>\n",
       "    </tr>\n",
       "    <tr>\n",
       "      <th>1402</th>\n",
       "      <td>1.108213</td>\n",
       "      <td>-0.948724</td>\n",
       "      <td>1.088626</td>\n",
       "      <td>0.869462</td>\n",
       "      <td>-0.934554</td>\n",
       "      <td>1.0</td>\n",
       "      <td>0.0</td>\n",
       "      <td>-0.403069</td>\n",
       "      <td>0.0</td>\n",
       "      <td>2.775558e-17</td>\n",
       "      <td>1.0</td>\n",
       "    </tr>\n",
       "    <tr>\n",
       "      <th>8606</th>\n",
       "      <td>1.622597</td>\n",
       "      <td>0.306351</td>\n",
       "      <td>0.008583</td>\n",
       "      <td>-1.207343</td>\n",
       "      <td>0.789186</td>\n",
       "      <td>1.0</td>\n",
       "      <td>1.0</td>\n",
       "      <td>-0.447751</td>\n",
       "      <td>0.0</td>\n",
       "      <td>1.000000e+00</td>\n",
       "      <td>1.0</td>\n",
       "    </tr>\n",
       "    <tr>\n",
       "      <th>8885</th>\n",
       "      <td>0.192609</td>\n",
       "      <td>0.595983</td>\n",
       "      <td>-0.351432</td>\n",
       "      <td>0.426066</td>\n",
       "      <td>0.789186</td>\n",
       "      <td>1.0</td>\n",
       "      <td>1.0</td>\n",
       "      <td>1.004463</td>\n",
       "      <td>0.0</td>\n",
       "      <td>1.000000e+00</td>\n",
       "      <td>1.0</td>\n",
       "    </tr>\n",
       "    <tr>\n",
       "      <th>6494</th>\n",
       "      <td>0.511528</td>\n",
       "      <td>-1.045268</td>\n",
       "      <td>0.728612</td>\n",
       "      <td>-1.207343</td>\n",
       "      <td>0.789186</td>\n",
       "      <td>1.0</td>\n",
       "      <td>1.0</td>\n",
       "      <td>-1.356118</td>\n",
       "      <td>0.0</td>\n",
       "      <td>2.775558e-17</td>\n",
       "      <td>1.0</td>\n",
       "    </tr>\n",
       "    <tr>\n",
       "      <th>...</th>\n",
       "      <td>...</td>\n",
       "      <td>...</td>\n",
       "      <td>...</td>\n",
       "      <td>...</td>\n",
       "      <td>...</td>\n",
       "      <td>...</td>\n",
       "      <td>...</td>\n",
       "      <td>...</td>\n",
       "      <td>...</td>\n",
       "      <td>...</td>\n",
       "      <td>...</td>\n",
       "    </tr>\n",
       "    <tr>\n",
       "      <th>2053</th>\n",
       "      <td>2.064968</td>\n",
       "      <td>2.333778</td>\n",
       "      <td>1.088626</td>\n",
       "      <td>1.499422</td>\n",
       "      <td>-0.934554</td>\n",
       "      <td>0.0</td>\n",
       "      <td>0.0</td>\n",
       "      <td>1.452035</td>\n",
       "      <td>0.0</td>\n",
       "      <td>2.775558e-17</td>\n",
       "      <td>1.0</td>\n",
       "    </tr>\n",
       "    <tr>\n",
       "      <th>6663</th>\n",
       "      <td>2.064968</td>\n",
       "      <td>-0.755635</td>\n",
       "      <td>-0.351432</td>\n",
       "      <td>1.128943</td>\n",
       "      <td>-0.934554</td>\n",
       "      <td>1.0</td>\n",
       "      <td>1.0</td>\n",
       "      <td>-0.187260</td>\n",
       "      <td>1.0</td>\n",
       "      <td>2.775558e-17</td>\n",
       "      <td>1.0</td>\n",
       "    </tr>\n",
       "    <tr>\n",
       "      <th>902</th>\n",
       "      <td>-0.044007</td>\n",
       "      <td>0.885616</td>\n",
       "      <td>0.728612</td>\n",
       "      <td>0.236822</td>\n",
       "      <td>-0.934554</td>\n",
       "      <td>1.0</td>\n",
       "      <td>1.0</td>\n",
       "      <td>0.843720</td>\n",
       "      <td>0.0</td>\n",
       "      <td>2.775558e-17</td>\n",
       "      <td>0.0</td>\n",
       "    </tr>\n",
       "    <tr>\n",
       "      <th>2379</th>\n",
       "      <td>-0.260049</td>\n",
       "      <td>-1.238356</td>\n",
       "      <td>1.448640</td>\n",
       "      <td>-0.017075</td>\n",
       "      <td>0.789186</td>\n",
       "      <td>0.0</td>\n",
       "      <td>0.0</td>\n",
       "      <td>-1.207439</td>\n",
       "      <td>0.0</td>\n",
       "      <td>2.775558e-17</td>\n",
       "      <td>1.0</td>\n",
       "    </tr>\n",
       "    <tr>\n",
       "      <th>5563</th>\n",
       "      <td>-0.404076</td>\n",
       "      <td>0.692527</td>\n",
       "      <td>0.008583</td>\n",
       "      <td>0.257310</td>\n",
       "      <td>-0.934554</td>\n",
       "      <td>1.0</td>\n",
       "      <td>0.0</td>\n",
       "      <td>-0.804490</td>\n",
       "      <td>0.0</td>\n",
       "      <td>1.000000e+00</td>\n",
       "      <td>1.0</td>\n",
       "    </tr>\n",
       "  </tbody>\n",
       "</table>\n",
       "<p>6000 rows × 11 columns</p>\n",
       "</div>"
      ],
      "text/plain": [
       "      CreditScore       Age    Tenure   Balance  NumOfProducts  HasCrCard  \\\n",
       "7867    -0.095446  0.692527 -0.711446 -1.207343      -0.934554        1.0   \n",
       "1402     1.108213 -0.948724  1.088626  0.869462      -0.934554        1.0   \n",
       "8606     1.622597  0.306351  0.008583 -1.207343       0.789186        1.0   \n",
       "8885     0.192609  0.595983 -0.351432  0.426066       0.789186        1.0   \n",
       "6494     0.511528 -1.045268  0.728612 -1.207343       0.789186        1.0   \n",
       "...           ...       ...       ...       ...            ...        ...   \n",
       "2053     2.064968  2.333778  1.088626  1.499422      -0.934554        0.0   \n",
       "6663     2.064968 -0.755635 -0.351432  1.128943      -0.934554        1.0   \n",
       "902     -0.044007  0.885616  0.728612  0.236822      -0.934554        1.0   \n",
       "2379    -0.260049 -1.238356  1.448640 -0.017075       0.789186        0.0   \n",
       "5563    -0.404076  0.692527  0.008583  0.257310      -0.934554        1.0   \n",
       "\n",
       "      IsActiveMember  EstimatedSalary  Geography_Germany  Geography_Spain  \\\n",
       "7867             1.0         0.967598                0.0     1.000000e+00   \n",
       "1402             0.0        -0.403069                0.0     2.775558e-17   \n",
       "8606             1.0        -0.447751                0.0     1.000000e+00   \n",
       "8885             1.0         1.004463                0.0     1.000000e+00   \n",
       "6494             1.0        -1.356118                0.0     2.775558e-17   \n",
       "...              ...              ...                ...              ...   \n",
       "2053             0.0         1.452035                0.0     2.775558e-17   \n",
       "6663             1.0        -0.187260                1.0     2.775558e-17   \n",
       "902              1.0         0.843720                0.0     2.775558e-17   \n",
       "2379             0.0        -1.207439                0.0     2.775558e-17   \n",
       "5563             0.0        -0.804490                0.0     1.000000e+00   \n",
       "\n",
       "      Gender_Male  \n",
       "7867          0.0  \n",
       "1402          1.0  \n",
       "8606          1.0  \n",
       "8885          1.0  \n",
       "6494          1.0  \n",
       "...           ...  \n",
       "2053          1.0  \n",
       "6663          1.0  \n",
       "902           0.0  \n",
       "2379          1.0  \n",
       "5563          1.0  \n",
       "\n",
       "[6000 rows x 11 columns]"
      ]
     },
     "execution_count": 88,
     "metadata": {},
     "output_type": "execute_result"
    }
   ],
   "source": [
    "features_train"
   ]
  },
  {
   "cell_type": "code",
   "execution_count": 89,
   "metadata": {},
   "outputs": [
    {
     "name": "stdout",
     "output_type": "stream",
     "text": [
      "F1: 0.29739776951672864\n"
     ]
    }
   ],
   "source": [
    "model = LogisticRegression(random_state=RANDOM_STATE, solver='liblinear')\n",
    "model.fit(features_train, target_train)\n",
    "predicted_valid = model.predict(features_valid)\n",
    "print(\"F1:\", f1_score(target_valid, predicted_valid))"
   ]
  },
  {
   "cell_type": "code",
   "execution_count": 90,
   "metadata": {},
   "outputs": [
    {
     "data": {
      "image/png": "[encoded data removed]",
      "text/plain": [
       "<Figure size 432x288 with 1 Axes>"
      ]
     },
     "metadata": {
      "needs_background": "light"
     },
     "output_type": "display_data"
    },
    {
     "name": "stdout",
     "output_type": "stream",
     "text": [
      "AUC-ROC: 0.7652876296944094\n"
     ]
    }
   ],
   "source": [
    "roc_auc_roc(model, features_valid, target_valid)"
   ]
  },
  {
   "cell_type": "markdown",
   "metadata": {},
   "source": [
    "Значения хуже"
   ]
  },
  {
   "cell_type": "code",
   "execution_count": 91,
   "metadata": {},
   "outputs": [
    {
     "name": "stdout",
     "output_type": "stream",
     "text": [
      "F1: 0.49822695035460995\n"
     ]
    }
   ],
   "source": [
    "model = LogisticRegression(random_state=RANDOM_STATE, solver='liblinear', class_weight = 'balanced')\n",
    "model.fit(features_train, target_train)\n",
    "predicted_valid = model.predict(features_valid)\n",
    "\n",
    "probabilities_valid = model.predict_proba(features_valid)\n",
    "probabilities_one_valid = probabilities_valid[:, 1]   \n",
    "\n",
    "print(\"F1:\", f1_score(target_valid, predicted_valid))"
   ]
  },
  {
   "cell_type": "code",
   "execution_count": 92,
   "metadata": {},
   "outputs": [
    {
     "data": {
      "image/png": "[encoded data removed]",
      "text/plain": [
       "<Figure size 432x288 with 1 Axes>"
      ]
     },
     "metadata": {
      "needs_background": "light"
     },
     "output_type": "display_data"
    },
    {
     "name": "stdout",
     "output_type": "stream",
     "text": [
      "AUC-ROC: 0.7654218162692737\n"
     ]
    }
   ],
   "source": [
    "roc_auc_roc(model, features_valid, target_valid)"
   ]
  },
  {
   "cell_type": "markdown",
   "metadata": {},
   "source": [
    "С учетом баланса классов, результат лучше, чем в прошлой модели, но все еще недостаточно хорош"
   ]
  },
  {
   "cell_type": "code",
   "execution_count": 93,
   "metadata": {},
   "outputs": [
    {
     "name": "stdout",
     "output_type": "stream",
     "text": [
      "F1: 0.5004516711833785 Порог: 0.51\n"
     ]
    }
   ],
   "source": [
    "best_result = 0\n",
    "\n",
    "for threshold in np.arange(0, 0.9, 0.01):\n",
    "    predicted_valid =  probabilities_one_valid > threshold \n",
    "    result = f1_score(target_valid, predicted_valid)\n",
    "    if result > best_result:\n",
    "        best_result = result\n",
    "        best_threshold = threshold\n",
    "        \n",
    "print('F1:', best_result, 'Порог:', best_threshold)"
   ]
  },
  {
   "cell_type": "markdown",
   "metadata": {},
   "source": [
    "Попытка поиграться с порогами дали F1 ~0,51"
   ]
  },
  {
   "cell_type": "code",
   "execution_count": 94,
   "metadata": {},
   "outputs": [
    {
     "name": "stdout",
     "output_type": "stream",
     "text": [
      "LogisticRegression(random_state=12345, solver='liblinear') 0.49911190053285975 4\n"
     ]
    }
   ],
   "source": [
    "best_result = 0\n",
    "best_i = 0\n",
    "\n",
    "\n",
    "for i in range(1, 16):\n",
    "    features_upsampled, target_upsampled = upsample(features_train, target_train, i)\n",
    "    model = LogisticRegression(random_state=RANDOM_STATE, solver='liblinear')\n",
    "    model.fit(features_upsampled, target_upsampled)\n",
    "    predicted_valid = model.predict(features_valid)\n",
    "    result = f1_score(target_valid, predicted_valid)\n",
    "    if result > best_result:\n",
    "        best_result = result\n",
    "        best_i = i\n",
    "        \n",
    "print(model, best_result, best_i)\n",
    "\n",
    "probabilities_valid = model.predict_proba(features_valid)\n",
    "probabilities_one_valid = probabilities_valid[:, 1]   \n"
   ]
  },
  {
   "cell_type": "code",
   "execution_count": 95,
   "metadata": {},
   "outputs": [
    {
     "name": "stdout",
     "output_type": "stream",
     "text": [
      "LogisticRegression(class_weight='balanced', random_state=12345,\n",
      "                   solver='liblinear') 0.49822695035460995 1\n"
     ]
    }
   ],
   "source": [
    "best_result = 0\n",
    "best_i = 0\n",
    "\n",
    "\n",
    "for i in range(1, 16):\n",
    "    features_upsampled, target_upsampled = upsample(features_train, target_train, i)\n",
    "    model = LogisticRegression(random_state=RANDOM_STATE, solver='liblinear', class_weight = 'balanced')\n",
    "    model.fit(features_upsampled, target_upsampled)\n",
    "    predicted_valid = model.predict(features_valid)\n",
    "    result = f1_score(target_valid, predicted_valid)\n",
    "    if result > best_result:\n",
    "        best_result = result\n",
    "        best_i = i\n",
    "        \n",
    "print(model, best_result, best_i)\n",
    "\n",
    "probabilities_valid = model.predict_proba(features_valid)\n",
    "probabilities_one_valid = probabilities_valid[:, 1]   \n"
   ]
  },
  {
   "cell_type": "code",
   "execution_count": 96,
   "metadata": {},
   "outputs": [
    {
     "name": "stdout",
     "output_type": "stream",
     "text": [
      "F1: 0.4995491433724077 Порог: 0.51\n"
     ]
    }
   ],
   "source": [
    "for threshold in np.arange(0, 0.9, 0.01):\n",
    "    predicted_valid =  probabilities_one_valid > threshold \n",
    "    result = f1_score(target_valid, predicted_valid)\n",
    "    if result > best_result:\n",
    "        best_result = result\n",
    "        best_threshold = threshold\n",
    "        \n",
    "print('F1:', best_result, 'Порог:', best_threshold)"
   ]
  },
  {
   "cell_type": "markdown",
   "metadata": {},
   "source": [
    "Провел масштабирование выборки, результаты неудовлетворительные"
   ]
  },
  {
   "cell_type": "code",
   "execution_count": 97,
   "metadata": {},
   "outputs": [
    {
     "data": {
      "text/plain": [
       "{'type': DecisionTreeClassifier(class_weight='balanced', max_depth=6, random_state=12345),\n",
       " 'f1': 0.54}"
      ]
     },
     "execution_count": 97,
     "metadata": {},
     "output_type": "execute_result"
    }
   ],
   "source": [
    "best_model = None\n",
    "best_result = 0\n",
    "\n",
    "for depth in range(1, 10):\n",
    "    model = DecisionTreeClassifier(random_state = RANDOM_STATE, max_depth=depth, class_weight = 'balanced')\n",
    "    model.fit(features_train, target_train)\n",
    "    predicted_valid = model.predict(features_valid)\n",
    "    result = f1_score(target_valid, predicted_valid)\n",
    "    if result > best_result:\n",
    "        best_model = model\n",
    "        best_result = result\n",
    "\n",
    "info_row = {'type' : best_model, 'f1' : best_result}        \n",
    "info_row"
   ]
  },
  {
   "cell_type": "code",
   "execution_count": 98,
   "metadata": {},
   "outputs": [
    {
     "data": {
      "image/png": "[encoded data removed]",
      "text/plain": [
       "<Figure size 432x288 with 1 Axes>"
      ]
     },
     "metadata": {
      "needs_background": "light"
     },
     "output_type": "display_data"
    },
    {
     "name": "stdout",
     "output_type": "stream",
     "text": [
      "AUC-ROC: 0.8049497880006355\n"
     ]
    }
   ],
   "source": [
    "roc_auc_roc(best_model, features_valid, target_valid)"
   ]
  },
  {
   "cell_type": "code",
   "execution_count": 99,
   "metadata": {},
   "outputs": [
    {
     "name": "stdout",
     "output_type": "stream",
     "text": [
      "DecisionTreeClassifier(class_weight='balanced', max_depth=9, random_state=12345) 0.5446009389671361 10\n"
     ]
    }
   ],
   "source": [
    "for depth in range(1, 10):\n",
    "    for i in range(1, 11):\n",
    "        features_upsampled, target_upsampled = upsample(features_train, target_train, i)\n",
    "        model = DecisionTreeClassifier(random_state = RANDOM_STATE, max_depth=depth, class_weight = 'balanced')\n",
    "        model.fit(features_upsampled, target_upsampled)\n",
    "        predicted_valid = model.predict(features_valid)\n",
    "        result = f1_score(target_valid, predicted_valid)\n",
    "        if result > best_result:\n",
    "            best_result = result\n",
    "            best_i = i\n",
    "        \n",
    "print(model, best_result, best_i)"
   ]
  },
  {
   "cell_type": "code",
   "execution_count": 100,
   "metadata": {},
   "outputs": [
    {
     "name": "stdout",
     "output_type": "stream",
     "text": [
      "DecisionTreeClassifier(max_depth=9, random_state=12345) 0.5649263721552878 2\n"
     ]
    }
   ],
   "source": [
    "for depth in range(1, 10):\n",
    "    for i in range(1, 11):\n",
    "        features_upsampled, target_upsampled = upsample(features_train, target_train, i)\n",
    "        model = DecisionTreeClassifier(random_state = RANDOM_STATE, max_depth=depth)\n",
    "        model.fit(features_upsampled, target_upsampled)\n",
    "        predicted_valid = model.predict(features_valid)\n",
    "        result = f1_score(target_valid, predicted_valid)\n",
    "        if result > best_result:\n",
    "            best_result = result\n",
    "            best_i = i\n",
    "        \n",
    "print(model, best_result, best_i)"
   ]
  },
  {
   "cell_type": "markdown",
   "metadata": {},
   "source": [
    "Решающее дерево также не помогло достичь необходимого результата"
   ]
  },
  {
   "cell_type": "code",
   "execution_count": 101,
   "metadata": {},
   "outputs": [
    {
     "data": {
      "text/plain": [
       "{'type': RandomForestClassifier(class_weight='balanced', max_depth=9, n_estimators=5,\n",
       "                        random_state=12345),\n",
       " 'f1': 0.5866050808314088}"
      ]
     },
     "execution_count": 101,
     "metadata": {},
     "output_type": "execute_result"
    }
   ],
   "source": [
    "best_result = 0\n",
    "best_model = None\n",
    "\n",
    "for est in range(1, 11):\n",
    "    for depth in range(1, 10):\n",
    "        model = RandomForestClassifier(random_state = RANDOM_STATE, n_estimators = est, max_depth = depth, class_weight = 'balanced')\n",
    "        model.fit(features_train, target_train)\n",
    "        predicted_valid = model.predict(features_valid)\n",
    "        result = f1_score(target_valid, predicted_valid)\n",
    "        if result > best_result:\n",
    "            best_model = model\n",
    "            best_result = result\n",
    "\n",
    "info_row = {'type' : best_model, 'f1' : best_result}        \n",
    "info_row\n",
    "\n"
   ]
  },
  {
   "cell_type": "code",
   "execution_count": 102,
   "metadata": {},
   "outputs": [
    {
     "data": {
      "image/png": "[encoded data removed]",
      "text/plain": [
       "<Figure size 432x288 with 1 Axes>"
      ]
     },
     "metadata": {
      "needs_background": "light"
     },
     "output_type": "display_data"
    },
    {
     "name": "stdout",
     "output_type": "stream",
     "text": [
      "AUC-ROC: 0.8105779122728275\n"
     ]
    }
   ],
   "source": [
    "roc_auc_roc(best_model, features_valid, target_valid)"
   ]
  },
  {
   "cell_type": "markdown",
   "metadata": {},
   "source": [
    "И рандомный лес тоже не помог"
   ]
  },
  {
   "cell_type": "code",
   "execution_count": 103,
   "metadata": {
    "scrolled": true
   },
   "outputs": [
    {
     "name": "stdout",
     "output_type": "stream",
     "text": [
      "RandomForestClassifier(class_weight='balanced', max_depth=11, n_estimators=15,\n",
      "                       random_state=12345) 2 0.5765983112183353\n",
      "\n",
      "RandomForestClassifier(class_weight='balanced', max_depth=11, n_estimators=15,\n",
      "                       random_state=12345) 3 0.5808736717827627\n",
      "\n",
      "RandomForestClassifier(class_weight='balanced', max_depth=12, n_estimators=15,\n",
      "                       random_state=12345) 2 0.5591677503250976\n",
      "\n",
      "RandomForestClassifier(class_weight='balanced', max_depth=12, n_estimators=15,\n",
      "                       random_state=12345) 3 0.6009732360097323\n",
      "\n",
      "RandomForestClassifier(class_weight='balanced', max_depth=11, n_estimators=16,\n",
      "                       random_state=12345) 2 0.5811138014527846\n",
      "\n",
      "RandomForestClassifier(class_weight='balanced', max_depth=11, n_estimators=16,\n",
      "                       random_state=12345) 3 0.5858823529411765\n",
      "\n",
      "RandomForestClassifier(class_weight='balanced', max_depth=12, n_estimators=16,\n",
      "                       random_state=12345) 2 0.5688311688311688\n",
      "\n",
      "RandomForestClassifier(class_weight='balanced', max_depth=12, n_estimators=16,\n",
      "                       random_state=12345) 3 0.6070991432068544\n",
      "\n",
      "RandomForestClassifier(class_weight='balanced', max_depth=12, n_estimators=16,\n",
      "                       random_state=12345) 0.6070991432068544 3\n"
     ]
    }
   ],
   "source": [
    "best_result=0\n",
    "best_model = None\n",
    "\n",
    "\n",
    "for est in range(15, 17):\n",
    "    for depth in range(11, 13):\n",
    "        for i in range(2, 4):\n",
    "            features_upsampled, target_upsampled = upsample(features_train, target_train, i)\n",
    "            model = RandomForestClassifier(random_state = RANDOM_STATE, n_estimators = est, max_depth = depth, class_weight = 'balanced')\n",
    "            model.fit(features_upsampled, target_upsampled)\n",
    "            predicted_valid = model.predict(features_valid)\n",
    "            result = f1_score(target_valid, predicted_valid)\n",
    "            print(model, i, result)\n",
    "            print()\n",
    "            if result > best_result:\n",
    "                best_model = model\n",
    "                best_result = result\n",
    "                best_i = i\n",
    "        \n",
    "print(best_model, best_result, best_i)"
   ]
  },
  {
   "cell_type": "markdown",
   "metadata": {},
   "source": [
    "Получилось создать модель с F1-score более 0,60 (не самая тривиальная задача была для меня, чего я только не пробовал)."
   ]
  },
  {
   "cell_type": "code",
   "execution_count": 104,
   "metadata": {},
   "outputs": [
    {
     "data": {
      "image/png": "[encoded data removed]",
      "text/plain": [
       "<Figure size 432x288 with 1 Axes>"
      ]
     },
     "metadata": {
      "needs_background": "light"
     },
     "output_type": "display_data"
    },
    {
     "name": "stdout",
     "output_type": "stream",
     "text": [
      "AUC-ROC: 0.8274846495185478\n"
     ]
    }
   ],
   "source": [
    "roc_auc_roc(best_model, features_valid, target_valid)"
   ]
  },
  {
   "cell_type": "markdown",
   "metadata": {},
   "source": [
    "## Тестирование модели"
   ]
  },
  {
   "cell_type": "code",
   "execution_count": 105,
   "metadata": {},
   "outputs": [
    {
     "name": "stdout",
     "output_type": "stream",
     "text": [
      "0.6386363636363638\n"
     ]
    }
   ],
   "source": [
    "predicted_test = best_model.predict(features_test)\n",
    "result_test = f1_score(target_test, predicted_test)\n",
    "\n",
    "print(result_test)"
   ]
  },
  {
   "cell_type": "code",
   "execution_count": 106,
   "metadata": {},
   "outputs": [
    {
     "data": {
      "image/png": "[encoded data removed]",
      "text/plain": [
       "<Figure size 432x288 with 1 Axes>"
      ]
     },
     "metadata": {
      "needs_background": "light"
     },
     "output_type": "display_data"
    },
    {
     "name": "stdout",
     "output_type": "stream",
     "text": [
      "AUC-ROC: 0.8596674235869236\n"
     ]
    }
   ],
   "source": [
    "roc_auc_roc(best_model, features_test, target_test)"
   ]
  },
  {
   "cell_type": "markdown",
   "metadata": {},
   "source": [
    "Для тестовой выборки точность ~0,64, что, как я понимаю, даже лучше, чем по требованию ТЗ"
   ]
  },
  {
   "cell_type": "markdown",
   "metadata": {},
   "source": [
    "Выводы: \n",
    "    Исходные данные были приведены к виду, пригодному к анализу. Некоторые данные, ненужные для анализа, были удалены. Пропуски были заполнены.\n",
    "    \n",
    "   Далее данные категориальных значений были перекодированы. При этом были преприняты меры для избегания фиктивных признаков.\n",
    "   \n",
    "   Данные были разбиты на тренировочную/валидационную/тестовую выборки в отношении 60/20/20\n",
    "   \n",
    "   Для данных было проведено масштабирование.\n",
    "   \n",
    "   Было перебрано по меньшей мере около 4100 моделей типа логистическая регрессия, решающее дерево и случайный лес. В результате получилось достичь значения F1 меры 0.597051597051597 при модели RandomForestClassifier(class_weight='balanced', max_depth=13, n_estimators=20, random_state=12345) с 9-и кратно увеличенной выборкой по редким классам.\n",
    "   \n",
    "   Значение F1-меры для best_model на тестовой выборке показывает ~0,64"
   ]
  },
  {
   "cell_type": "markdown",
   "metadata": {},
   "source": [
    "## Чек-лист готовности проекта"
   ]
  },
  {
   "cell_type": "markdown",
   "metadata": {},
   "source": [
    "Поставьте 'x' в выполненных пунктах. Далее нажмите Shift+Enter."
   ]
  },
  {
   "cell_type": "markdown",
   "metadata": {},
   "source": [
    "- [x]  Jupyter Notebook открыт\n",
    "- [x]  Весь код выполняется без ошибок\n",
    "- [x]  Ячейки с кодом расположены в порядке исполнения\n",
    "- [x]  Выполнен шаг 1: данные подготовлены\n",
    "- [x]  Выполнен шаг 2: задача исследована\n",
    "    - [x]  Исследован баланс классов\n",
    "    - [x]  Изучены модели без учёта дисбаланса\n",
    "    - [x]  Написаны выводы по результатам исследования\n",
    "- [x]  Выполнен шаг 3: учтён дисбаланс\n",
    "    - [x]  Применено несколько способов борьбы с дисбалансом\n",
    "    - [x]  Написаны выводы по результатам исследования\n",
    "- [x]  Выполнен шаг 4: проведено тестирование\n",
    "- [x]  Удалось достичь *F1*-меры не менее 0.59\n",
    "- [x]  Исследована метрика *AUC-ROC*"
   ]
  },
  {
   "cell_type": "code",
   "execution_count": null,
   "metadata": {},
   "outputs": [],
   "source": []
  }
 ],
 "metadata": {
  "ExecuteTimeLog": [
   {
    "duration": 392,
    "start_time": "2023-10-02T18:34:36.431Z"
   },
   {
    "duration": 82,
    "start_time": "2023-10-02T18:34:36.925Z"
   },
   {
    "duration": 33,
    "start_time": "2023-10-02T18:34:43.969Z"
   },
   {
    "duration": 19,
    "start_time": "2023-10-02T18:34:52.051Z"
   },
   {
    "duration": 6,
    "start_time": "2023-10-02T18:37:44.957Z"
   },
   {
    "duration": 6,
    "start_time": "2023-10-02T18:38:09.131Z"
   },
   {
    "duration": 5,
    "start_time": "2023-10-02T18:38:13.627Z"
   },
   {
    "duration": 6,
    "start_time": "2023-10-02T18:38:20.661Z"
   },
   {
    "duration": 8,
    "start_time": "2023-10-02T18:41:27.362Z"
   },
   {
    "duration": 6,
    "start_time": "2023-10-02T18:41:46.005Z"
   },
   {
    "duration": 67,
    "start_time": "2023-10-02T18:42:22.083Z"
   },
   {
    "duration": 8,
    "start_time": "2023-10-02T18:42:25.007Z"
   },
   {
    "duration": 95,
    "start_time": "2023-10-02T18:42:49.950Z"
   },
   {
    "duration": 4,
    "start_time": "2023-10-02T18:42:53.153Z"
   },
   {
    "duration": 10,
    "start_time": "2023-10-02T18:43:03.413Z"
   },
   {
    "duration": 7,
    "start_time": "2023-10-02T18:43:08.272Z"
   },
   {
    "duration": 6,
    "start_time": "2023-10-02T18:43:14.091Z"
   },
   {
    "duration": 31,
    "start_time": "2023-10-02T18:44:15.943Z"
   },
   {
    "duration": 9,
    "start_time": "2023-10-02T18:44:39.377Z"
   },
   {
    "duration": 19,
    "start_time": "2023-10-02T18:44:46.406Z"
   },
   {
    "duration": 16,
    "start_time": "2023-10-02T18:44:54.635Z"
   },
   {
    "duration": 6,
    "start_time": "2023-10-02T18:46:06.082Z"
   },
   {
    "duration": 788,
    "start_time": "2023-10-02T18:50:13.179Z"
   },
   {
    "duration": 7,
    "start_time": "2023-10-02T18:55:08.896Z"
   },
   {
    "duration": 5,
    "start_time": "2023-10-02T18:55:47.252Z"
   },
   {
    "duration": 47,
    "start_time": "2023-10-02T18:55:48.361Z"
   },
   {
    "duration": 4,
    "start_time": "2023-10-02T18:56:05.914Z"
   },
   {
    "duration": 44,
    "start_time": "2023-10-02T18:56:07.499Z"
   },
   {
    "duration": 15,
    "start_time": "2023-10-02T18:56:07.713Z"
   },
   {
    "duration": 18,
    "start_time": "2023-10-02T18:56:08.636Z"
   },
   {
    "duration": 5,
    "start_time": "2023-10-02T18:56:09.614Z"
   },
   {
    "duration": 8,
    "start_time": "2023-10-02T18:56:11.079Z"
   },
   {
    "duration": 22,
    "start_time": "2023-10-02T18:56:11.747Z"
   },
   {
    "duration": 14,
    "start_time": "2023-10-02T18:56:12.385Z"
   },
   {
    "duration": 5,
    "start_time": "2023-10-02T18:56:13.516Z"
   },
   {
    "duration": 5,
    "start_time": "2023-10-02T18:56:14.425Z"
   },
   {
    "duration": 12,
    "start_time": "2023-10-02T18:56:14.800Z"
   },
   {
    "duration": 9,
    "start_time": "2023-10-02T18:56:49.915Z"
   },
   {
    "duration": 2,
    "start_time": "2023-10-02T18:56:54.088Z"
   },
   {
    "duration": 3,
    "start_time": "2023-10-02T18:57:11.625Z"
   },
   {
    "duration": 9,
    "start_time": "2023-10-02T18:57:13.628Z"
   },
   {
    "duration": 8,
    "start_time": "2023-10-02T18:58:36.257Z"
   },
   {
    "duration": 10,
    "start_time": "2023-10-02T18:58:44.565Z"
   },
   {
    "duration": 8,
    "start_time": "2023-10-02T18:58:45.855Z"
   },
   {
    "duration": 7,
    "start_time": "2023-10-02T18:59:03.518Z"
   },
   {
    "duration": 22,
    "start_time": "2023-10-02T18:59:03.876Z"
   },
   {
    "duration": 173,
    "start_time": "2023-10-02T19:00:13.067Z"
   },
   {
    "duration": 25,
    "start_time": "2023-10-02T19:00:13.242Z"
   },
   {
    "duration": 171,
    "start_time": "2023-10-02T19:00:16.339Z"
   },
   {
    "duration": 6,
    "start_time": "2023-10-02T19:00:16.619Z"
   },
   {
    "duration": 19,
    "start_time": "2023-10-02T19:00:17.180Z"
   },
   {
    "duration": 212,
    "start_time": "2023-10-02T19:00:29.568Z"
   },
   {
    "duration": 54,
    "start_time": "2023-10-02T19:00:29.870Z"
   },
   {
    "duration": 399,
    "start_time": "2023-10-02T19:00:30.517Z"
   },
   {
    "duration": 213,
    "start_time": "2023-10-02T19:02:54.046Z"
   },
   {
    "duration": 56,
    "start_time": "2023-10-02T19:02:54.347Z"
   },
   {
    "duration": 459,
    "start_time": "2023-10-02T19:02:54.645Z"
   },
   {
    "duration": 25,
    "start_time": "2023-10-02T19:09:36.725Z"
   },
   {
    "duration": 9,
    "start_time": "2023-10-02T19:13:41.561Z"
   },
   {
    "duration": 3,
    "start_time": "2023-10-02T19:13:46.802Z"
   },
   {
    "duration": 498,
    "start_time": "2023-10-02T19:13:49.304Z"
   },
   {
    "duration": 691,
    "start_time": "2023-10-02T19:14:11.092Z"
   },
   {
    "duration": 192,
    "start_time": "2023-10-02T19:14:30.531Z"
   },
   {
    "duration": 49,
    "start_time": "2023-10-02T19:14:30.966Z"
   },
   {
    "duration": 443,
    "start_time": "2023-10-02T19:14:31.262Z"
   },
   {
    "duration": 5,
    "start_time": "2023-10-02T19:14:31.961Z"
   },
   {
    "duration": 23,
    "start_time": "2023-10-02T19:14:43.535Z"
   },
   {
    "duration": 683,
    "start_time": "2023-10-02T19:15:10.130Z"
   },
   {
    "duration": 5,
    "start_time": "2023-10-02T19:19:41.179Z"
   },
   {
    "duration": 16,
    "start_time": "2023-10-02T19:22:07.363Z"
   },
   {
    "duration": 12,
    "start_time": "2023-10-02T19:22:19.882Z"
   },
   {
    "duration": 22,
    "start_time": "2023-10-02T19:22:58.767Z"
   },
   {
    "duration": 5,
    "start_time": "2023-10-02T19:23:02.845Z"
   },
   {
    "duration": 20,
    "start_time": "2023-10-02T19:23:04.736Z"
   },
   {
    "duration": 6,
    "start_time": "2023-10-02T19:23:13.028Z"
   },
   {
    "duration": 14,
    "start_time": "2023-10-02T19:23:13.448Z"
   },
   {
    "duration": 14,
    "start_time": "2023-10-02T19:25:58.684Z"
   },
   {
    "duration": 14,
    "start_time": "2023-10-02T19:26:01.518Z"
   },
   {
    "duration": 17,
    "start_time": "2023-10-02T19:26:02.497Z"
   },
   {
    "duration": 12,
    "start_time": "2023-10-02T19:26:11.049Z"
   },
   {
    "duration": 6,
    "start_time": "2023-10-02T19:26:11.461Z"
   },
   {
    "duration": 26,
    "start_time": "2023-10-02T19:26:12.144Z"
   },
   {
    "duration": 25,
    "start_time": "2023-10-02T19:26:12.896Z"
   },
   {
    "duration": 125,
    "start_time": "2023-10-02T19:26:24.969Z"
   },
   {
    "duration": 9,
    "start_time": "2023-10-02T19:26:46.784Z"
   },
   {
    "duration": 3,
    "start_time": "2023-10-02T19:26:51.327Z"
   },
   {
    "duration": 54,
    "start_time": "2023-10-02T19:26:51.332Z"
   },
   {
    "duration": 76,
    "start_time": "2023-10-02T19:26:51.388Z"
   },
   {
    "duration": 42,
    "start_time": "2023-10-02T19:26:51.466Z"
   },
   {
    "duration": 16,
    "start_time": "2023-10-02T19:26:51.512Z"
   },
   {
    "duration": 19,
    "start_time": "2023-10-02T19:26:51.530Z"
   },
   {
    "duration": 22,
    "start_time": "2023-10-02T19:26:51.551Z"
   },
   {
    "duration": 45,
    "start_time": "2023-10-02T19:26:51.575Z"
   },
   {
    "duration": 6,
    "start_time": "2023-10-02T19:26:51.622Z"
   },
   {
    "duration": 26,
    "start_time": "2023-10-02T19:26:51.630Z"
   },
   {
    "duration": 16,
    "start_time": "2023-10-02T19:26:51.658Z"
   },
   {
    "duration": 35,
    "start_time": "2023-10-02T19:26:51.676Z"
   },
   {
    "duration": 41,
    "start_time": "2023-10-02T19:26:51.714Z"
   },
   {
    "duration": 22,
    "start_time": "2023-10-02T19:26:51.759Z"
   },
   {
    "duration": 59,
    "start_time": "2023-10-02T19:26:51.783Z"
   },
   {
    "duration": 168,
    "start_time": "2023-10-02T19:26:51.844Z"
   },
   {
    "duration": 13,
    "start_time": "2023-10-02T19:26:52.015Z"
   },
   {
    "duration": 10,
    "start_time": "2023-10-02T19:27:11.118Z"
   },
   {
    "duration": 16,
    "start_time": "2023-10-02T19:27:23.368Z"
   },
   {
    "duration": 4,
    "start_time": "2023-10-02T19:29:12.714Z"
   },
   {
    "duration": 5,
    "start_time": "2023-10-02T19:29:17.573Z"
   },
   {
    "duration": 18,
    "start_time": "2023-10-02T19:29:43.236Z"
   },
   {
    "duration": 14,
    "start_time": "2023-10-02T19:29:48.141Z"
   },
   {
    "duration": 1450,
    "start_time": "2023-10-02T19:30:45.011Z"
   },
   {
    "duration": 25,
    "start_time": "2023-10-02T19:30:49.497Z"
   },
   {
    "duration": 15,
    "start_time": "2023-10-02T19:32:09.365Z"
   },
   {
    "duration": 14,
    "start_time": "2023-10-02T19:32:11.116Z"
   },
   {
    "duration": 5,
    "start_time": "2023-10-02T19:32:23.247Z"
   },
   {
    "duration": 15,
    "start_time": "2023-10-02T19:32:23.256Z"
   },
   {
    "duration": 61,
    "start_time": "2023-10-02T19:32:23.274Z"
   },
   {
    "duration": 27,
    "start_time": "2023-10-02T19:32:23.338Z"
   },
   {
    "duration": 66,
    "start_time": "2023-10-02T19:32:23.369Z"
   },
   {
    "duration": 22,
    "start_time": "2023-10-02T19:32:23.438Z"
   },
   {
    "duration": 28,
    "start_time": "2023-10-02T19:32:23.465Z"
   },
   {
    "duration": 54,
    "start_time": "2023-10-02T19:32:23.495Z"
   },
   {
    "duration": 9,
    "start_time": "2023-10-02T19:32:23.552Z"
   },
   {
    "duration": 22,
    "start_time": "2023-10-02T19:32:23.563Z"
   },
   {
    "duration": 26,
    "start_time": "2023-10-02T19:32:23.587Z"
   },
   {
    "duration": 46,
    "start_time": "2023-10-02T19:32:23.616Z"
   },
   {
    "duration": 21,
    "start_time": "2023-10-02T19:32:23.664Z"
   },
   {
    "duration": 22,
    "start_time": "2023-10-02T19:32:23.688Z"
   },
   {
    "duration": 93,
    "start_time": "2023-10-02T19:32:23.712Z"
   },
   {
    "duration": 110,
    "start_time": "2023-10-02T19:32:23.809Z"
   },
   {
    "duration": 24,
    "start_time": "2023-10-02T19:32:23.924Z"
   },
   {
    "duration": 23,
    "start_time": "2023-10-02T19:32:23.951Z"
   },
   {
    "duration": 40,
    "start_time": "2023-10-02T19:34:50.899Z"
   },
   {
    "duration": 79,
    "start_time": "2023-10-02T19:35:26.062Z"
   },
   {
    "duration": 17,
    "start_time": "2023-10-02T19:35:28.300Z"
   },
   {
    "duration": 154,
    "start_time": "2023-10-02T19:41:02.967Z"
   },
   {
    "duration": 76,
    "start_time": "2023-10-02T19:41:05.076Z"
   },
   {
    "duration": 8,
    "start_time": "2023-10-02T19:41:06.560Z"
   },
   {
    "duration": 17,
    "start_time": "2023-10-02T19:41:07.330Z"
   },
   {
    "duration": 8,
    "start_time": "2023-10-02T19:41:11.471Z"
   },
   {
    "duration": 44,
    "start_time": "2023-10-02T19:41:11.990Z"
   },
   {
    "duration": 20,
    "start_time": "2023-10-02T19:41:39.972Z"
   },
   {
    "duration": 4,
    "start_time": "2023-10-02T19:41:56.068Z"
   },
   {
    "duration": 47,
    "start_time": "2023-10-02T19:41:56.074Z"
   },
   {
    "duration": 54,
    "start_time": "2023-10-02T19:41:56.123Z"
   },
   {
    "duration": 16,
    "start_time": "2023-10-02T19:41:56.178Z"
   },
   {
    "duration": 27,
    "start_time": "2023-10-02T19:41:56.197Z"
   },
   {
    "duration": 7,
    "start_time": "2023-10-02T19:41:56.226Z"
   },
   {
    "duration": 36,
    "start_time": "2023-10-02T19:41:56.236Z"
   },
   {
    "duration": 68,
    "start_time": "2023-10-02T19:41:56.274Z"
   },
   {
    "duration": 7,
    "start_time": "2023-10-02T19:41:56.344Z"
   },
   {
    "duration": 19,
    "start_time": "2023-10-02T19:41:56.353Z"
   },
   {
    "duration": 15,
    "start_time": "2023-10-02T19:41:56.375Z"
   },
   {
    "duration": 28,
    "start_time": "2023-10-02T19:41:56.392Z"
   },
   {
    "duration": 34,
    "start_time": "2023-10-02T19:41:56.426Z"
   },
   {
    "duration": 29,
    "start_time": "2023-10-02T19:41:56.464Z"
   },
   {
    "duration": 60,
    "start_time": "2023-10-02T19:41:56.496Z"
   },
   {
    "duration": 27,
    "start_time": "2023-10-02T19:41:56.700Z"
   },
   {
    "duration": 95,
    "start_time": "2023-10-02T19:41:56.729Z"
   },
   {
    "duration": 9,
    "start_time": "2023-10-02T19:41:59.586Z"
   },
   {
    "duration": 42,
    "start_time": "2023-10-02T19:42:00.406Z"
   },
   {
    "duration": 20,
    "start_time": "2023-10-02T19:44:48.536Z"
   },
   {
    "duration": 21,
    "start_time": "2023-10-02T19:45:08.353Z"
   },
   {
    "duration": 9,
    "start_time": "2023-10-02T19:46:02.456Z"
   },
   {
    "duration": 14,
    "start_time": "2023-10-02T19:46:09.703Z"
   },
   {
    "duration": 4,
    "start_time": "2023-10-02T19:46:48.147Z"
   },
   {
    "duration": 19,
    "start_time": "2023-10-02T19:46:50.402Z"
   },
   {
    "duration": 15,
    "start_time": "2023-10-02T19:47:03.622Z"
   },
   {
    "duration": 17,
    "start_time": "2023-10-02T19:47:10.094Z"
   },
   {
    "duration": 11,
    "start_time": "2023-10-02T19:47:14.350Z"
   },
   {
    "duration": 16,
    "start_time": "2023-10-02T19:49:59.297Z"
   },
   {
    "duration": 9,
    "start_time": "2023-10-02T19:50:24.942Z"
   },
   {
    "duration": 26,
    "start_time": "2023-10-02T19:50:25.047Z"
   },
   {
    "duration": 29,
    "start_time": "2023-10-02T19:50:49.479Z"
   },
   {
    "duration": 23,
    "start_time": "2023-10-02T19:51:08.895Z"
   },
   {
    "duration": 24,
    "start_time": "2023-10-02T19:51:38.686Z"
   },
   {
    "duration": 26,
    "start_time": "2023-10-02T19:51:45.236Z"
   },
   {
    "duration": 7,
    "start_time": "2023-10-02T19:55:35.391Z"
   },
   {
    "duration": 9,
    "start_time": "2023-10-02T19:55:39.750Z"
   },
   {
    "duration": 9,
    "start_time": "2023-10-02T19:55:54.344Z"
   },
   {
    "duration": 11,
    "start_time": "2023-10-02T19:55:57.882Z"
   },
   {
    "duration": 25,
    "start_time": "2023-10-02T19:56:44.042Z"
   },
   {
    "duration": 15,
    "start_time": "2023-10-02T19:56:51.782Z"
   },
   {
    "duration": 28,
    "start_time": "2023-10-02T19:57:03.196Z"
   },
   {
    "duration": 29,
    "start_time": "2023-10-02T19:57:19.025Z"
   },
   {
    "duration": 29,
    "start_time": "2023-10-02T19:57:26.338Z"
   },
   {
    "duration": 25,
    "start_time": "2023-10-02T19:57:34.901Z"
   },
   {
    "duration": 3,
    "start_time": "2023-10-02T19:57:41.783Z"
   },
   {
    "duration": 17,
    "start_time": "2023-10-02T19:57:41.789Z"
   },
   {
    "duration": 62,
    "start_time": "2023-10-02T19:57:41.808Z"
   },
   {
    "duration": 15,
    "start_time": "2023-10-02T19:57:41.872Z"
   },
   {
    "duration": 26,
    "start_time": "2023-10-02T19:57:41.890Z"
   },
   {
    "duration": 5,
    "start_time": "2023-10-02T19:57:41.918Z"
   },
   {
    "duration": 27,
    "start_time": "2023-10-02T19:57:41.926Z"
   },
   {
    "duration": 36,
    "start_time": "2023-10-02T19:57:41.955Z"
   },
   {
    "duration": 16,
    "start_time": "2023-10-02T19:57:41.993Z"
   },
   {
    "duration": 22,
    "start_time": "2023-10-02T19:57:42.010Z"
   },
   {
    "duration": 12,
    "start_time": "2023-10-02T19:57:42.034Z"
   },
   {
    "duration": 24,
    "start_time": "2023-10-02T19:57:42.049Z"
   },
   {
    "duration": 19,
    "start_time": "2023-10-02T19:57:42.076Z"
   },
   {
    "duration": 16,
    "start_time": "2023-10-02T19:57:42.103Z"
   },
   {
    "duration": 88,
    "start_time": "2023-10-02T19:57:42.121Z"
   },
   {
    "duration": 105,
    "start_time": "2023-10-02T19:57:42.212Z"
   },
   {
    "duration": 7,
    "start_time": "2023-10-02T19:57:44.093Z"
   },
   {
    "duration": 44,
    "start_time": "2023-10-02T19:57:46.023Z"
   },
   {
    "duration": 14,
    "start_time": "2023-10-02T19:57:49.581Z"
   },
   {
    "duration": 18,
    "start_time": "2023-10-02T19:57:51.398Z"
   },
   {
    "duration": 7,
    "start_time": "2023-10-02T19:58:09.808Z"
   },
   {
    "duration": 6,
    "start_time": "2023-10-02T19:58:13.576Z"
   },
   {
    "duration": 8,
    "start_time": "2023-10-02T19:58:22.101Z"
   },
   {
    "duration": 6,
    "start_time": "2023-10-02T19:58:25.763Z"
   },
   {
    "duration": 17,
    "start_time": "2023-10-02T19:58:53.157Z"
   },
   {
    "duration": 109,
    "start_time": "2023-10-02T19:58:59.410Z"
   },
   {
    "duration": 26,
    "start_time": "2023-10-02T19:59:31.886Z"
   },
   {
    "duration": 21,
    "start_time": "2023-10-02T19:59:35.540Z"
   },
   {
    "duration": 9,
    "start_time": "2023-10-02T19:59:35.817Z"
   },
   {
    "duration": 35,
    "start_time": "2023-10-02T19:59:36.079Z"
   },
   {
    "duration": 32,
    "start_time": "2023-10-02T19:59:36.443Z"
   },
   {
    "duration": 19,
    "start_time": "2023-10-02T19:59:38.747Z"
   },
   {
    "duration": 18,
    "start_time": "2023-10-02T19:59:39.626Z"
   },
   {
    "duration": 6,
    "start_time": "2023-10-02T19:59:39.964Z"
   },
   {
    "duration": 40,
    "start_time": "2023-10-02T19:59:40.798Z"
   },
   {
    "duration": 28,
    "start_time": "2023-10-02T19:59:41.003Z"
   },
   {
    "duration": 10,
    "start_time": "2023-10-02T19:59:42.657Z"
   },
   {
    "duration": 44,
    "start_time": "2023-10-02T19:59:43.003Z"
   },
   {
    "duration": 56,
    "start_time": "2023-10-02T19:59:43.663Z"
   },
   {
    "duration": 78,
    "start_time": "2023-10-02T19:59:44.481Z"
   },
   {
    "duration": 25,
    "start_time": "2023-10-02T20:00:20.013Z"
   },
   {
    "duration": 31,
    "start_time": "2023-10-02T20:00:20.986Z"
   },
   {
    "duration": 124,
    "start_time": "2023-10-02T20:00:47.184Z"
   },
   {
    "duration": 4,
    "start_time": "2023-10-02T20:07:50.040Z"
   },
   {
    "duration": 10,
    "start_time": "2023-10-02T20:08:48.939Z"
   },
   {
    "duration": 8,
    "start_time": "2023-10-02T20:09:29.823Z"
   },
   {
    "duration": 109,
    "start_time": "2023-10-02T20:09:58.393Z"
   },
   {
    "duration": 5,
    "start_time": "2023-10-02T20:10:16.184Z"
   },
   {
    "duration": 9,
    "start_time": "2023-10-02T20:10:19.946Z"
   },
   {
    "duration": 18,
    "start_time": "2023-10-02T20:10:25.232Z"
   },
   {
    "duration": 4,
    "start_time": "2023-10-02T20:10:42.301Z"
   },
   {
    "duration": 24,
    "start_time": "2023-10-02T20:10:42.307Z"
   },
   {
    "duration": 59,
    "start_time": "2023-10-02T20:10:42.334Z"
   },
   {
    "duration": 142,
    "start_time": "2023-10-02T20:10:42.396Z"
   },
   {
    "duration": 24,
    "start_time": "2023-10-02T20:10:42.544Z"
   },
   {
    "duration": 24,
    "start_time": "2023-10-02T20:10:42.570Z"
   },
   {
    "duration": 29,
    "start_time": "2023-10-02T20:10:42.596Z"
   },
   {
    "duration": 26,
    "start_time": "2023-10-02T20:10:42.627Z"
   },
   {
    "duration": 7,
    "start_time": "2023-10-02T20:10:42.655Z"
   },
   {
    "duration": 11,
    "start_time": "2023-10-02T20:10:42.665Z"
   },
   {
    "duration": 40,
    "start_time": "2023-10-02T20:10:42.678Z"
   },
   {
    "duration": 27,
    "start_time": "2023-10-02T20:10:42.721Z"
   },
   {
    "duration": 22,
    "start_time": "2023-10-02T20:10:42.750Z"
   },
   {
    "duration": 7,
    "start_time": "2023-10-02T20:10:42.777Z"
   },
   {
    "duration": 117,
    "start_time": "2023-10-02T20:10:42.786Z"
   },
   {
    "duration": 105,
    "start_time": "2023-10-02T20:10:42.907Z"
   },
   {
    "duration": 92,
    "start_time": "2023-10-02T20:10:43.015Z"
   },
   {
    "duration": 134,
    "start_time": "2023-10-02T20:10:43.110Z"
   },
   {
    "duration": 59,
    "start_time": "2023-10-02T20:10:43.247Z"
   },
   {
    "duration": 109,
    "start_time": "2023-10-02T20:10:43.308Z"
   },
   {
    "duration": 4,
    "start_time": "2023-10-02T20:10:46.419Z"
   },
   {
    "duration": 43,
    "start_time": "2023-10-02T20:10:46.426Z"
   },
   {
    "duration": 55,
    "start_time": "2023-10-02T20:10:46.472Z"
   },
   {
    "duration": 20,
    "start_time": "2023-10-02T20:10:46.530Z"
   },
   {
    "duration": 60,
    "start_time": "2023-10-02T20:10:46.555Z"
   },
   {
    "duration": 19,
    "start_time": "2023-10-02T20:10:46.617Z"
   },
   {
    "duration": 25,
    "start_time": "2023-10-02T20:10:46.638Z"
   },
   {
    "duration": 34,
    "start_time": "2023-10-02T20:10:46.666Z"
   },
   {
    "duration": 8,
    "start_time": "2023-10-02T20:10:47.684Z"
   },
   {
    "duration": 7,
    "start_time": "2023-10-02T20:10:48.251Z"
   },
   {
    "duration": 6,
    "start_time": "2023-10-02T20:10:49.691Z"
   },
   {
    "duration": 19,
    "start_time": "2023-10-02T20:10:50.229Z"
   },
   {
    "duration": 21,
    "start_time": "2023-10-02T20:10:52.104Z"
   },
   {
    "duration": 10,
    "start_time": "2023-10-02T20:10:52.386Z"
   },
   {
    "duration": 91,
    "start_time": "2023-10-02T20:10:52.819Z"
   },
   {
    "duration": 103,
    "start_time": "2023-10-02T20:10:53.602Z"
   },
   {
    "duration": 43,
    "start_time": "2023-10-02T20:10:56.163Z"
   },
   {
    "duration": 3,
    "start_time": "2023-10-02T20:11:19.230Z"
   },
   {
    "duration": 14,
    "start_time": "2023-10-02T20:11:31.221Z"
   },
   {
    "duration": 507,
    "start_time": "2023-10-02T20:11:42.984Z"
   },
   {
    "duration": 138,
    "start_time": "2023-10-02T20:11:46.572Z"
   },
   {
    "duration": 18,
    "start_time": "2023-10-02T20:11:55.452Z"
   },
   {
    "duration": 146,
    "start_time": "2023-10-02T20:12:09.262Z"
   },
   {
    "duration": 190,
    "start_time": "2023-10-02T20:12:16.325Z"
   },
   {
    "duration": 170,
    "start_time": "2023-10-02T20:12:21.268Z"
   },
   {
    "duration": 9,
    "start_time": "2023-10-02T20:12:24.059Z"
   },
   {
    "duration": 41,
    "start_time": "2023-10-02T20:12:25.020Z"
   },
   {
    "duration": 29,
    "start_time": "2023-10-02T20:12:25.942Z"
   },
   {
    "duration": 144,
    "start_time": "2023-10-02T20:12:32.564Z"
   },
   {
    "duration": 26,
    "start_time": "2023-10-02T20:12:55.933Z"
   },
   {
    "duration": 252,
    "start_time": "2023-10-02T20:13:01.467Z"
   },
   {
    "duration": 23,
    "start_time": "2023-10-02T20:17:01.718Z"
   },
   {
    "duration": 4,
    "start_time": "2023-10-02T20:17:22.622Z"
   },
   {
    "duration": 12,
    "start_time": "2023-10-02T20:17:28.209Z"
   },
   {
    "duration": 40,
    "start_time": "2023-10-02T20:18:28.791Z"
   },
   {
    "duration": 123,
    "start_time": "2023-10-02T20:18:41.163Z"
   },
   {
    "duration": 147,
    "start_time": "2023-10-02T20:19:19.868Z"
   },
   {
    "duration": 186,
    "start_time": "2023-10-02T20:20:35.385Z"
   },
   {
    "duration": 3,
    "start_time": "2023-10-02T20:22:06.341Z"
   },
   {
    "duration": 12,
    "start_time": "2023-10-02T20:24:17.562Z"
   },
   {
    "duration": 4,
    "start_time": "2023-10-02T20:24:19.175Z"
   },
   {
    "duration": 31,
    "start_time": "2023-10-02T20:24:19.677Z"
   },
   {
    "duration": 4,
    "start_time": "2023-10-02T20:24:29.465Z"
   },
   {
    "duration": 4,
    "start_time": "2023-10-02T20:24:33.877Z"
   },
   {
    "duration": 51,
    "start_time": "2023-10-02T20:24:34.367Z"
   },
   {
    "duration": 57,
    "start_time": "2023-10-02T20:25:03.347Z"
   },
   {
    "duration": 247,
    "start_time": "2023-10-02T20:25:23.161Z"
   },
   {
    "duration": 7,
    "start_time": "2023-10-02T20:25:26.002Z"
   },
   {
    "duration": 178,
    "start_time": "2023-10-02T20:25:26.627Z"
   },
   {
    "duration": 4121,
    "start_time": "2023-10-02T20:25:32.187Z"
   },
   {
    "duration": 14,
    "start_time": "2023-10-02T20:26:34.242Z"
   },
   {
    "duration": 4,
    "start_time": "2023-10-02T20:26:36.732Z"
   },
   {
    "duration": 42,
    "start_time": "2023-10-02T20:26:37.065Z"
   },
   {
    "duration": 153,
    "start_time": "2023-10-02T20:26:59.262Z"
   },
   {
    "duration": 99,
    "start_time": "2023-10-02T20:27:09.916Z"
   },
   {
    "duration": 38,
    "start_time": "2023-10-02T20:27:15.395Z"
   },
   {
    "duration": 23,
    "start_time": "2023-10-02T20:27:19.970Z"
   },
   {
    "duration": 45,
    "start_time": "2023-10-02T20:27:58.566Z"
   },
   {
    "duration": 26,
    "start_time": "2023-10-02T20:29:20.023Z"
   },
   {
    "duration": 184,
    "start_time": "2023-10-02T20:29:21.624Z"
   },
   {
    "duration": 160,
    "start_time": "2023-10-02T20:29:30.366Z"
   },
   {
    "duration": 5,
    "start_time": "2023-10-02T20:30:29.765Z"
   },
   {
    "duration": 76,
    "start_time": "2023-10-02T20:30:30.264Z"
   },
   {
    "duration": 179,
    "start_time": "2023-10-02T20:30:31.636Z"
   },
   {
    "duration": 98,
    "start_time": "2023-10-02T20:32:42.884Z"
   },
   {
    "duration": 4,
    "start_time": "2023-10-02T20:32:53.865Z"
   },
   {
    "duration": 15,
    "start_time": "2023-10-02T20:32:53.872Z"
   },
   {
    "duration": 54,
    "start_time": "2023-10-02T20:32:53.890Z"
   },
   {
    "duration": 16,
    "start_time": "2023-10-02T20:32:53.946Z"
   },
   {
    "duration": 34,
    "start_time": "2023-10-02T20:32:53.964Z"
   },
   {
    "duration": 25,
    "start_time": "2023-10-02T20:32:54.000Z"
   },
   {
    "duration": 31,
    "start_time": "2023-10-02T20:32:54.027Z"
   },
   {
    "duration": 29,
    "start_time": "2023-10-02T20:32:54.060Z"
   },
   {
    "duration": 8,
    "start_time": "2023-10-02T20:32:54.091Z"
   },
   {
    "duration": 17,
    "start_time": "2023-10-02T20:32:54.104Z"
   },
   {
    "duration": 16,
    "start_time": "2023-10-02T20:32:54.123Z"
   },
   {
    "duration": 24,
    "start_time": "2023-10-02T20:32:54.141Z"
   },
   {
    "duration": 14,
    "start_time": "2023-10-02T20:32:54.167Z"
   },
   {
    "duration": 8,
    "start_time": "2023-10-02T20:32:54.183Z"
   },
   {
    "duration": 120,
    "start_time": "2023-10-02T20:32:54.193Z"
   },
   {
    "duration": 294,
    "start_time": "2023-10-02T20:32:54.315Z"
   },
   {
    "duration": 11,
    "start_time": "2023-10-02T20:32:54.616Z"
   },
   {
    "duration": 82,
    "start_time": "2023-10-02T20:32:54.706Z"
   },
   {
    "duration": 36,
    "start_time": "2023-10-02T20:32:54.791Z"
   },
   {
    "duration": 374,
    "start_time": "2023-10-02T20:32:54.830Z"
   },
   {
    "duration": 109,
    "start_time": "2023-10-02T20:32:55.206Z"
   },
   {
    "duration": 388,
    "start_time": "2023-10-02T20:32:55.322Z"
   },
   {
    "duration": 7,
    "start_time": "2023-10-02T20:32:55.719Z"
   },
   {
    "duration": 215,
    "start_time": "2023-10-02T20:32:55.735Z"
   },
   {
    "duration": 356,
    "start_time": "2023-10-02T20:32:55.953Z"
   },
   {
    "duration": 341,
    "start_time": "2023-10-02T20:33:08.874Z"
   },
   {
    "duration": 84,
    "start_time": "2023-10-02T20:33:17.922Z"
   },
   {
    "duration": 390,
    "start_time": "2023-10-02T20:33:20.459Z"
   },
   {
    "duration": 5208,
    "start_time": "2023-10-02T20:33:23.692Z"
   },
   {
    "duration": 4,
    "start_time": "2023-10-02T20:35:52.183Z"
   },
   {
    "duration": 147,
    "start_time": "2023-10-02T20:35:52.189Z"
   },
   {
    "duration": 93,
    "start_time": "2023-10-02T20:35:52.338Z"
   },
   {
    "duration": 17,
    "start_time": "2023-10-02T20:35:52.436Z"
   },
   {
    "duration": 63,
    "start_time": "2023-10-02T20:35:52.456Z"
   },
   {
    "duration": 9,
    "start_time": "2023-10-02T20:35:52.521Z"
   },
   {
    "duration": 18,
    "start_time": "2023-10-02T20:35:52.533Z"
   },
   {
    "duration": 60,
    "start_time": "2023-10-02T20:35:52.553Z"
   },
   {
    "duration": 27,
    "start_time": "2023-10-02T20:35:52.614Z"
   },
   {
    "duration": 37,
    "start_time": "2023-10-02T20:35:52.643Z"
   },
   {
    "duration": 44,
    "start_time": "2023-10-02T20:35:52.682Z"
   },
   {
    "duration": 39,
    "start_time": "2023-10-02T20:35:52.728Z"
   },
   {
    "duration": 17,
    "start_time": "2023-10-02T20:35:52.771Z"
   },
   {
    "duration": 11,
    "start_time": "2023-10-02T20:35:52.791Z"
   },
   {
    "duration": 99,
    "start_time": "2023-10-02T20:35:52.805Z"
   },
   {
    "duration": 296,
    "start_time": "2023-10-02T20:35:52.911Z"
   },
   {
    "duration": 19,
    "start_time": "2023-10-02T20:35:53.209Z"
   },
   {
    "duration": 54,
    "start_time": "2023-10-02T20:35:53.309Z"
   },
   {
    "duration": 46,
    "start_time": "2023-10-02T20:35:53.364Z"
   },
   {
    "duration": 300,
    "start_time": "2023-10-02T20:35:53.413Z"
   },
   {
    "duration": 122,
    "start_time": "2023-10-02T20:35:53.720Z"
   },
   {
    "duration": 317,
    "start_time": "2023-10-02T20:35:53.909Z"
   },
   {
    "duration": 67,
    "start_time": "2023-10-02T20:35:54.237Z"
   },
   {
    "duration": 5201,
    "start_time": "2023-10-02T20:35:54.311Z"
   },
   {
    "duration": 312,
    "start_time": "2023-10-02T20:35:59.515Z"
   },
   {
    "duration": 152,
    "start_time": "2023-10-02T20:35:59.906Z"
   },
   {
    "duration": 3,
    "start_time": "2023-10-02T20:36:14.394Z"
   },
   {
    "duration": 44,
    "start_time": "2023-10-02T20:36:14.400Z"
   },
   {
    "duration": 62,
    "start_time": "2023-10-02T20:36:14.446Z"
   },
   {
    "duration": 21,
    "start_time": "2023-10-02T20:36:14.509Z"
   },
   {
    "duration": 16,
    "start_time": "2023-10-02T20:36:14.532Z"
   },
   {
    "duration": 20,
    "start_time": "2023-10-02T20:36:14.550Z"
   },
   {
    "duration": 30,
    "start_time": "2023-10-02T20:36:14.572Z"
   },
   {
    "duration": 67,
    "start_time": "2023-10-02T20:36:14.605Z"
   },
   {
    "duration": 64,
    "start_time": "2023-10-02T20:36:14.675Z"
   },
   {
    "duration": 104,
    "start_time": "2023-10-02T20:36:14.741Z"
   },
   {
    "duration": 20,
    "start_time": "2023-10-02T20:36:14.847Z"
   },
   {
    "duration": 21,
    "start_time": "2023-10-02T20:36:14.870Z"
   },
   {
    "duration": 26,
    "start_time": "2023-10-02T20:36:14.894Z"
   },
   {
    "duration": 10,
    "start_time": "2023-10-02T20:36:14.932Z"
   },
   {
    "duration": 82,
    "start_time": "2023-10-02T20:36:14.945Z"
   },
   {
    "duration": 206,
    "start_time": "2023-10-02T20:36:15.101Z"
   },
   {
    "duration": 19,
    "start_time": "2023-10-02T20:36:15.310Z"
   },
   {
    "duration": 143,
    "start_time": "2023-10-02T20:36:15.334Z"
   },
   {
    "duration": 42,
    "start_time": "2023-10-02T20:36:15.479Z"
   },
   {
    "duration": 384,
    "start_time": "2023-10-02T20:36:15.526Z"
   },
   {
    "duration": 115,
    "start_time": "2023-10-02T20:36:15.916Z"
   },
   {
    "duration": 379,
    "start_time": "2023-10-02T20:36:16.034Z"
   },
   {
    "duration": 8,
    "start_time": "2023-10-02T20:36:16.415Z"
   },
   {
    "duration": 521,
    "start_time": "2023-10-02T20:36:16.426Z"
   },
   {
    "duration": 232,
    "start_time": "2023-10-02T20:36:17.010Z"
   },
   {
    "duration": 285,
    "start_time": "2023-10-02T20:36:17.244Z"
   },
   {
    "duration": 4,
    "start_time": "2023-10-02T20:38:47.741Z"
   },
   {
    "duration": 4,
    "start_time": "2023-10-02T20:38:50.860Z"
   },
   {
    "duration": 3,
    "start_time": "2023-10-02T20:38:51.534Z"
   },
   {
    "duration": 52,
    "start_time": "2023-10-02T20:38:51.889Z"
   },
   {
    "duration": 16,
    "start_time": "2023-10-02T20:38:53.047Z"
   },
   {
    "duration": 25,
    "start_time": "2023-10-02T20:38:53.213Z"
   },
   {
    "duration": 6,
    "start_time": "2023-10-02T20:38:54.435Z"
   },
   {
    "duration": 10,
    "start_time": "2023-10-02T20:38:55.372Z"
   },
   {
    "duration": 33,
    "start_time": "2023-10-02T20:38:55.599Z"
   },
   {
    "duration": 7,
    "start_time": "2023-10-02T20:38:56.678Z"
   },
   {
    "duration": 10,
    "start_time": "2023-10-02T20:38:57.719Z"
   },
   {
    "duration": 8,
    "start_time": "2023-10-02T20:38:58.303Z"
   },
   {
    "duration": 5,
    "start_time": "2023-10-02T20:38:58.876Z"
   },
   {
    "duration": 12,
    "start_time": "2023-10-02T20:38:59.930Z"
   },
   {
    "duration": 16,
    "start_time": "2023-10-02T20:39:17.165Z"
   },
   {
    "duration": 6,
    "start_time": "2023-10-02T20:39:17.545Z"
   },
   {
    "duration": 59,
    "start_time": "2023-10-02T20:39:18.593Z"
   },
   {
    "duration": 8,
    "start_time": "2023-10-02T20:39:30.496Z"
   },
   {
    "duration": 10,
    "start_time": "2023-10-02T20:39:32.214Z"
   },
   {
    "duration": 34,
    "start_time": "2023-10-02T20:39:32.635Z"
   },
   {
    "duration": 14,
    "start_time": "2023-10-02T20:39:42.019Z"
   },
   {
    "duration": 12,
    "start_time": "2023-10-02T20:40:04.332Z"
   },
   {
    "duration": 31,
    "start_time": "2023-10-02T20:40:42.595Z"
   },
   {
    "duration": 72,
    "start_time": "2023-10-02T20:40:43.931Z"
   },
   {
    "duration": 214,
    "start_time": "2023-10-02T20:40:50.187Z"
   },
   {
    "duration": 32,
    "start_time": "2023-10-02T20:40:58.835Z"
   },
   {
    "duration": 230,
    "start_time": "2023-10-02T20:41:04.299Z"
   },
   {
    "duration": 4,
    "start_time": "2023-10-02T20:41:07.569Z"
   },
   {
    "duration": 621,
    "start_time": "2023-10-02T20:41:08.047Z"
   },
   {
    "duration": 179,
    "start_time": "2023-10-02T20:41:09.535Z"
   },
   {
    "duration": 137,
    "start_time": "2023-10-02T20:41:11.819Z"
   },
   {
    "duration": 5,
    "start_time": "2023-10-02T20:41:22.628Z"
   },
   {
    "duration": 35,
    "start_time": "2023-10-02T20:41:22.635Z"
   },
   {
    "duration": 76,
    "start_time": "2023-10-02T20:41:22.672Z"
   },
   {
    "duration": 16,
    "start_time": "2023-10-02T20:41:22.750Z"
   },
   {
    "duration": 14,
    "start_time": "2023-10-02T20:41:22.769Z"
   },
   {
    "duration": 7,
    "start_time": "2023-10-02T20:41:22.785Z"
   },
   {
    "duration": 39,
    "start_time": "2023-10-02T20:41:22.793Z"
   },
   {
    "duration": 25,
    "start_time": "2023-10-02T20:41:22.835Z"
   },
   {
    "duration": 5,
    "start_time": "2023-10-02T20:41:22.863Z"
   },
   {
    "duration": 11,
    "start_time": "2023-10-02T20:41:22.870Z"
   },
   {
    "duration": 14,
    "start_time": "2023-10-02T20:41:22.883Z"
   },
   {
    "duration": 39,
    "start_time": "2023-10-02T20:41:22.899Z"
   },
   {
    "duration": 29,
    "start_time": "2023-10-02T20:41:22.940Z"
   },
   {
    "duration": 40,
    "start_time": "2023-10-02T20:41:22.972Z"
   },
   {
    "duration": 27,
    "start_time": "2023-10-02T20:41:23.015Z"
   },
   {
    "duration": 18,
    "start_time": "2023-10-02T20:41:23.044Z"
   },
   {
    "duration": 68,
    "start_time": "2023-10-02T20:41:23.064Z"
   },
   {
    "duration": 367,
    "start_time": "2023-10-02T20:41:23.137Z"
   },
   {
    "duration": 19,
    "start_time": "2023-10-02T20:41:23.511Z"
   },
   {
    "duration": 42,
    "start_time": "2023-10-02T20:41:23.604Z"
   },
   {
    "duration": 58,
    "start_time": "2023-10-02T20:41:23.648Z"
   },
   {
    "duration": 301,
    "start_time": "2023-10-02T20:41:23.710Z"
   },
   {
    "duration": 116,
    "start_time": "2023-10-02T20:41:24.013Z"
   },
   {
    "duration": 311,
    "start_time": "2023-10-02T20:41:24.131Z"
   },
   {
    "duration": 62,
    "start_time": "2023-10-02T20:41:24.444Z"
   },
   {
    "duration": 834,
    "start_time": "2023-10-02T20:41:24.508Z"
   },
   {
    "duration": 371,
    "start_time": "2023-10-02T20:41:25.344Z"
   },
   {
    "duration": 228,
    "start_time": "2023-10-02T20:41:25.717Z"
   },
   {
    "duration": 4069,
    "start_time": "2023-10-02T20:42:53.034Z"
   },
   {
    "duration": 215,
    "start_time": "2023-10-02T20:42:57.899Z"
   },
   {
    "duration": 122,
    "start_time": "2023-10-02T20:43:00.925Z"
   },
   {
    "duration": 102,
    "start_time": "2023-10-02T20:43:19.936Z"
   },
   {
    "duration": 169,
    "start_time": "2023-10-02T20:43:20.738Z"
   },
   {
    "duration": 131,
    "start_time": "2023-10-02T20:43:22.727Z"
   },
   {
    "duration": 31,
    "start_time": "2023-10-02T20:44:50.192Z"
   },
   {
    "duration": 22,
    "start_time": "2023-10-02T20:46:02.347Z"
   },
   {
    "duration": 32,
    "start_time": "2023-10-02T20:46:02.870Z"
   },
   {
    "duration": 22,
    "start_time": "2023-10-02T20:46:29.463Z"
   },
   {
    "duration": 29,
    "start_time": "2023-10-02T20:46:32.636Z"
   },
   {
    "duration": 18,
    "start_time": "2023-10-02T20:46:34.172Z"
   },
   {
    "duration": 24,
    "start_time": "2023-10-02T20:46:36.847Z"
   },
   {
    "duration": 246,
    "start_time": "2023-10-02T20:46:38.367Z"
   },
   {
    "duration": 32,
    "start_time": "2023-10-02T20:46:40.921Z"
   },
   {
    "duration": 160,
    "start_time": "2023-10-02T20:46:42.660Z"
   },
   {
    "duration": 54,
    "start_time": "2023-10-02T20:47:13.386Z"
   },
   {
    "duration": 23,
    "start_time": "2023-10-02T20:47:23.931Z"
   },
   {
    "duration": 193,
    "start_time": "2023-10-02T20:47:30.429Z"
   },
   {
    "duration": 136,
    "start_time": "2023-10-02T20:47:31.921Z"
   },
   {
    "duration": 227,
    "start_time": "2023-10-02T20:49:11.077Z"
   },
   {
    "duration": 4,
    "start_time": "2023-10-02T20:49:13.168Z"
   },
   {
    "duration": 28,
    "start_time": "2023-10-02T20:49:13.526Z"
   },
   {
    "duration": 222,
    "start_time": "2023-10-02T20:49:14.285Z"
   },
   {
    "duration": 150,
    "start_time": "2023-10-02T20:49:16.286Z"
   },
   {
    "duration": 4,
    "start_time": "2023-10-02T20:50:13.489Z"
   },
   {
    "duration": 78,
    "start_time": "2023-10-02T20:50:14.057Z"
   },
   {
    "duration": 252,
    "start_time": "2023-10-02T20:50:15.363Z"
   },
   {
    "duration": 457,
    "start_time": "2023-10-02T20:50:31.079Z"
   },
   {
    "duration": 159,
    "start_time": "2023-10-02T20:50:32.183Z"
   },
   {
    "duration": 118,
    "start_time": "2023-10-02T20:50:33.574Z"
   },
   {
    "duration": 317,
    "start_time": "2023-10-02T20:51:38.527Z"
   },
   {
    "duration": 1463,
    "start_time": "2023-10-02T20:52:15.350Z"
   },
   {
    "duration": 3,
    "start_time": "2023-10-02T20:52:16.814Z"
   },
   {
    "duration": 43,
    "start_time": "2023-10-02T20:52:18.227Z"
   },
   {
    "duration": 21,
    "start_time": "2023-10-02T20:52:18.671Z"
   },
   {
    "duration": 16,
    "start_time": "2023-10-02T20:52:19.832Z"
   },
   {
    "duration": 8,
    "start_time": "2023-10-02T20:52:21.119Z"
   },
   {
    "duration": 10,
    "start_time": "2023-10-02T20:52:22.172Z"
   },
   {
    "duration": 22,
    "start_time": "2023-10-02T20:52:23.056Z"
   },
   {
    "duration": 5,
    "start_time": "2023-10-02T20:52:25.192Z"
   },
   {
    "duration": 5,
    "start_time": "2023-10-02T20:52:25.382Z"
   },
   {
    "duration": 4,
    "start_time": "2023-10-02T20:52:27.967Z"
   },
   {
    "duration": 4,
    "start_time": "2023-10-02T20:52:29.077Z"
   },
   {
    "duration": 12,
    "start_time": "2023-10-02T20:52:30.154Z"
   },
   {
    "duration": 12,
    "start_time": "2023-10-02T20:52:36.051Z"
   },
   {
    "duration": 17,
    "start_time": "2023-10-02T20:52:38.223Z"
   },
   {
    "duration": 5,
    "start_time": "2023-10-02T20:52:38.988Z"
   },
   {
    "duration": 336,
    "start_time": "2023-10-02T20:52:39.684Z"
   },
   {
    "duration": 4,
    "start_time": "2023-10-02T20:52:56.763Z"
   },
   {
    "duration": 121,
    "start_time": "2023-10-02T20:53:00.787Z"
   },
   {
    "duration": 305,
    "start_time": "2023-10-02T20:53:02.836Z"
   },
   {
    "duration": 7,
    "start_time": "2023-10-02T20:53:07.153Z"
   },
   {
    "duration": 23,
    "start_time": "2023-10-02T20:53:07.964Z"
   },
   {
    "duration": 39,
    "start_time": "2023-10-02T20:53:10.388Z"
   },
   {
    "duration": 36,
    "start_time": "2023-10-02T20:53:14.071Z"
   },
   {
    "duration": 252,
    "start_time": "2023-10-02T20:53:16.457Z"
   },
   {
    "duration": 26,
    "start_time": "2023-10-02T20:53:19.558Z"
   },
   {
    "duration": 264,
    "start_time": "2023-10-02T20:53:20.963Z"
   },
   {
    "duration": 29,
    "start_time": "2023-10-02T20:53:57.623Z"
   },
   {
    "duration": 272,
    "start_time": "2023-10-02T20:53:59.316Z"
   },
   {
    "duration": 8,
    "start_time": "2023-10-02T20:54:02.923Z"
   },
   {
    "duration": 614,
    "start_time": "2023-10-02T20:54:03.493Z"
   },
   {
    "duration": 284,
    "start_time": "2023-10-02T20:54:04.229Z"
   },
   {
    "duration": 124,
    "start_time": "2023-10-02T20:54:08.810Z"
   },
   {
    "duration": 2535,
    "start_time": "2023-10-02T20:54:58.065Z"
   },
   {
    "duration": 321,
    "start_time": "2023-10-02T20:55:00.604Z"
   },
   {
    "duration": 143,
    "start_time": "2023-10-02T20:55:04.539Z"
   },
   {
    "duration": 17,
    "start_time": "2023-10-02T21:10:37.702Z"
   },
   {
    "duration": 24,
    "start_time": "2023-10-02T21:10:38.931Z"
   },
   {
    "duration": 288,
    "start_time": "2023-10-02T21:10:39.820Z"
   },
   {
    "duration": 28,
    "start_time": "2023-10-02T21:10:41.959Z"
   },
   {
    "duration": 242,
    "start_time": "2023-10-02T21:10:43.065Z"
   },
   {
    "duration": 5,
    "start_time": "2023-10-02T21:10:44.218Z"
   },
   {
    "duration": 2151,
    "start_time": "2023-10-02T21:10:45.061Z"
   },
   {
    "duration": 399,
    "start_time": "2023-10-02T21:10:47.215Z"
   },
   {
    "duration": 106,
    "start_time": "2023-10-02T21:10:48.012Z"
   },
   {
    "duration": 25,
    "start_time": "2023-10-02T21:11:33.310Z"
   },
   {
    "duration": 18,
    "start_time": "2023-10-02T21:11:34.003Z"
   },
   {
    "duration": 96,
    "start_time": "2023-10-02T21:11:37.605Z"
   },
   {
    "duration": 317,
    "start_time": "2023-10-02T21:11:38.997Z"
   },
   {
    "duration": 24,
    "start_time": "2023-10-02T21:11:41.698Z"
   },
   {
    "duration": 296,
    "start_time": "2023-10-02T21:11:43.015Z"
   },
   {
    "duration": 4,
    "start_time": "2023-10-02T21:11:45.405Z"
   },
   {
    "duration": 2392,
    "start_time": "2023-10-02T21:11:45.811Z"
   },
   {
    "duration": 400,
    "start_time": "2023-10-02T21:11:48.207Z"
   },
   {
    "duration": 109,
    "start_time": "2023-10-02T21:11:50.517Z"
   },
   {
    "duration": 26,
    "start_time": "2023-10-02T21:12:30.743Z"
   },
   {
    "duration": 20,
    "start_time": "2023-10-02T21:12:32.091Z"
   },
   {
    "duration": 26,
    "start_time": "2023-10-02T21:12:34.900Z"
   },
   {
    "duration": 26,
    "start_time": "2023-10-02T21:12:38.728Z"
   },
   {
    "duration": 18,
    "start_time": "2023-10-02T21:12:39.181Z"
   },
   {
    "duration": 38,
    "start_time": "2023-10-02T21:12:40.362Z"
   },
   {
    "duration": 25,
    "start_time": "2023-10-02T21:12:48.172Z"
   },
   {
    "duration": 18,
    "start_time": "2023-10-02T21:12:48.852Z"
   },
   {
    "duration": 23,
    "start_time": "2023-10-02T21:12:50.456Z"
   },
   {
    "duration": 24,
    "start_time": "2023-10-02T21:12:53.442Z"
   },
   {
    "duration": 18,
    "start_time": "2023-10-02T21:12:53.754Z"
   },
   {
    "duration": 25,
    "start_time": "2023-10-02T21:12:54.936Z"
   },
   {
    "duration": 7,
    "start_time": "2023-10-02T21:13:03.027Z"
   },
   {
    "duration": 26,
    "start_time": "2023-10-02T21:13:03.499Z"
   },
   {
    "duration": 17,
    "start_time": "2023-10-02T21:13:04.030Z"
   },
   {
    "duration": 23,
    "start_time": "2023-10-02T21:13:05.786Z"
   },
   {
    "duration": 311,
    "start_time": "2023-10-02T21:13:07.494Z"
   },
   {
    "duration": 26,
    "start_time": "2023-10-02T21:13:12.730Z"
   },
   {
    "duration": 21,
    "start_time": "2023-10-02T21:14:19.491Z"
   },
   {
    "duration": 11,
    "start_time": "2023-10-02T21:14:21.965Z"
   },
   {
    "duration": 6,
    "start_time": "2023-10-02T21:14:22.296Z"
   },
   {
    "duration": 57,
    "start_time": "2023-10-02T21:14:22.645Z"
   },
   {
    "duration": 12,
    "start_time": "2023-10-02T21:14:28.131Z"
   },
   {
    "duration": 6,
    "start_time": "2023-10-02T21:14:28.368Z"
   },
   {
    "duration": 43,
    "start_time": "2023-10-02T21:14:28.692Z"
   },
   {
    "duration": 309,
    "start_time": "2023-10-02T21:14:38.693Z"
   },
   {
    "duration": 7,
    "start_time": "2023-10-02T21:14:42.272Z"
   },
   {
    "duration": 25,
    "start_time": "2023-10-02T21:14:43.001Z"
   },
   {
    "duration": 18,
    "start_time": "2023-10-02T21:14:43.261Z"
   },
   {
    "duration": 24,
    "start_time": "2023-10-02T21:14:44.459Z"
   },
   {
    "duration": 17,
    "start_time": "2023-10-02T21:14:52.549Z"
   },
   {
    "duration": 8,
    "start_time": "2023-10-02T21:15:37.680Z"
   },
   {
    "duration": 36,
    "start_time": "2023-10-02T21:15:38.312Z"
   },
   {
    "duration": 19,
    "start_time": "2023-10-02T21:15:38.725Z"
   },
   {
    "duration": 25,
    "start_time": "2023-10-02T21:15:40.782Z"
   },
   {
    "duration": 243,
    "start_time": "2023-10-02T21:15:46.263Z"
   },
   {
    "duration": 27,
    "start_time": "2023-10-02T21:15:48.715Z"
   },
   {
    "duration": 261,
    "start_time": "2023-10-02T21:15:49.970Z"
   },
   {
    "duration": 4,
    "start_time": "2023-10-02T21:21:36.239Z"
   },
   {
    "duration": 42,
    "start_time": "2023-10-02T21:21:36.245Z"
   },
   {
    "duration": 71,
    "start_time": "2023-10-02T21:21:36.289Z"
   },
   {
    "duration": 14,
    "start_time": "2023-10-02T21:21:36.362Z"
   },
   {
    "duration": 30,
    "start_time": "2023-10-02T21:21:36.378Z"
   },
   {
    "duration": 41,
    "start_time": "2023-10-02T21:21:36.409Z"
   },
   {
    "duration": 22,
    "start_time": "2023-10-02T21:21:36.451Z"
   },
   {
    "duration": 43,
    "start_time": "2023-10-02T21:21:36.475Z"
   },
   {
    "duration": 18,
    "start_time": "2023-10-02T21:21:36.520Z"
   },
   {
    "duration": 27,
    "start_time": "2023-10-02T21:21:36.540Z"
   },
   {
    "duration": 21,
    "start_time": "2023-10-02T21:21:36.569Z"
   },
   {
    "duration": 17,
    "start_time": "2023-10-02T21:21:36.591Z"
   },
   {
    "duration": 31,
    "start_time": "2023-10-02T21:21:36.610Z"
   },
   {
    "duration": 31,
    "start_time": "2023-10-02T21:21:36.643Z"
   },
   {
    "duration": 48,
    "start_time": "2023-10-02T21:21:36.676Z"
   },
   {
    "duration": 32,
    "start_time": "2023-10-02T21:21:36.726Z"
   },
   {
    "duration": 75,
    "start_time": "2023-10-02T21:21:36.760Z"
   },
   {
    "duration": 377,
    "start_time": "2023-10-02T21:21:36.838Z"
   },
   {
    "duration": 7,
    "start_time": "2023-10-02T21:21:37.216Z"
   },
   {
    "duration": 63,
    "start_time": "2023-10-02T21:21:37.224Z"
   },
   {
    "duration": 25,
    "start_time": "2023-10-02T21:21:37.289Z"
   },
   {
    "duration": 33,
    "start_time": "2023-10-02T21:21:37.316Z"
   },
   {
    "duration": 384,
    "start_time": "2023-10-02T21:21:37.403Z"
   },
   {
    "duration": 99,
    "start_time": "2023-10-02T21:21:37.802Z"
   },
   {
    "duration": 25,
    "start_time": "2023-10-02T21:21:40.303Z"
   },
   {
    "duration": 295,
    "start_time": "2023-10-02T21:21:40.978Z"
   },
   {
    "duration": 4,
    "start_time": "2023-10-02T21:24:32.910Z"
   },
   {
    "duration": 11,
    "start_time": "2023-10-02T21:24:44.250Z"
   },
   {
    "duration": 20,
    "start_time": "2023-10-02T21:25:03.965Z"
   },
   {
    "duration": 13,
    "start_time": "2023-10-02T21:25:09.900Z"
   },
   {
    "duration": 839,
    "start_time": "2023-10-02T21:25:35.830Z"
   },
   {
    "duration": 880,
    "start_time": "2023-10-02T21:25:57.477Z"
   },
   {
    "duration": 913,
    "start_time": "2023-10-02T21:26:13.971Z"
   },
   {
    "duration": 1606,
    "start_time": "2023-10-02T21:26:22.864Z"
   },
   {
    "duration": 3348,
    "start_time": "2023-10-02T21:26:30.747Z"
   },
   {
    "duration": 1548,
    "start_time": "2023-10-02T21:26:39.010Z"
   },
   {
    "duration": 177,
    "start_time": "2023-10-02T21:27:09.480Z"
   },
   {
    "duration": 96,
    "start_time": "2023-10-02T21:27:10.958Z"
   },
   {
    "duration": 159,
    "start_time": "2023-10-02T21:28:08.090Z"
   },
   {
    "duration": 11,
    "start_time": "2023-10-02T21:28:13.196Z"
   },
   {
    "duration": 171,
    "start_time": "2023-10-02T21:28:34.034Z"
   },
   {
    "duration": 11,
    "start_time": "2023-10-02T21:28:48.129Z"
   },
   {
    "duration": 12,
    "start_time": "2023-10-02T21:29:01.953Z"
   },
   {
    "duration": 518,
    "start_time": "2023-10-02T21:29:06.459Z"
   },
   {
    "duration": 519,
    "start_time": "2023-10-02T21:29:23.025Z"
   },
   {
    "duration": 129,
    "start_time": "2023-10-02T21:29:57.972Z"
   },
   {
    "duration": 102,
    "start_time": "2023-10-02T21:30:12.544Z"
   },
   {
    "duration": 216,
    "start_time": "2023-10-02T21:30:30.820Z"
   },
   {
    "duration": 173,
    "start_time": "2023-10-02T21:31:05.290Z"
   },
   {
    "duration": 121,
    "start_time": "2023-10-02T21:31:07.156Z"
   },
   {
    "duration": 231,
    "start_time": "2023-10-02T21:31:08.523Z"
   },
   {
    "duration": 542,
    "start_time": "2023-10-02T21:31:20.055Z"
   },
   {
    "duration": 527,
    "start_time": "2023-10-02T21:31:29.597Z"
   },
   {
    "duration": 128,
    "start_time": "2023-10-02T21:31:50.852Z"
   },
   {
    "duration": 204,
    "start_time": "2023-10-02T21:32:05.855Z"
   },
   {
    "duration": 179,
    "start_time": "2023-10-02T21:33:36.910Z"
   },
   {
    "duration": 141,
    "start_time": "2023-10-02T21:34:29.811Z"
   },
   {
    "duration": 125,
    "start_time": "2023-10-02T21:34:34.029Z"
   },
   {
    "duration": 143,
    "start_time": "2023-10-02T21:34:34.919Z"
   },
   {
    "duration": 140,
    "start_time": "2023-10-02T21:34:49.777Z"
   },
   {
    "duration": 218,
    "start_time": "2023-10-02T21:34:56.091Z"
   },
   {
    "duration": 140,
    "start_time": "2023-10-02T21:34:56.762Z"
   },
   {
    "duration": 4,
    "start_time": "2023-10-02T21:35:01.083Z"
   },
   {
    "duration": 2211,
    "start_time": "2023-10-02T21:35:01.089Z"
   },
   {
    "duration": 255,
    "start_time": "2023-10-02T21:35:03.302Z"
   },
   {
    "duration": 14,
    "start_time": "2023-10-02T21:35:03.560Z"
   },
   {
    "duration": 34,
    "start_time": "2023-10-02T21:35:03.576Z"
   },
   {
    "duration": 9,
    "start_time": "2023-10-02T21:35:03.612Z"
   },
   {
    "duration": 57,
    "start_time": "2023-10-02T21:35:03.623Z"
   },
   {
    "duration": 40,
    "start_time": "2023-10-02T21:35:03.682Z"
   },
   {
    "duration": 57,
    "start_time": "2023-10-02T21:35:03.725Z"
   },
   {
    "duration": 64,
    "start_time": "2023-10-02T21:35:03.784Z"
   },
   {
    "duration": 33,
    "start_time": "2023-10-02T21:35:03.850Z"
   },
   {
    "duration": 54,
    "start_time": "2023-10-02T21:35:03.884Z"
   },
   {
    "duration": 47,
    "start_time": "2023-10-02T21:35:03.940Z"
   },
   {
    "duration": 56,
    "start_time": "2023-10-02T21:35:03.988Z"
   },
   {
    "duration": 33,
    "start_time": "2023-10-02T21:35:04.045Z"
   },
   {
    "duration": 39,
    "start_time": "2023-10-02T21:35:04.080Z"
   },
   {
    "duration": 79,
    "start_time": "2023-10-02T21:35:04.121Z"
   },
   {
    "duration": 344,
    "start_time": "2023-10-02T21:35:04.202Z"
   },
   {
    "duration": 14,
    "start_time": "2023-10-02T21:35:04.549Z"
   },
   {
    "duration": 63,
    "start_time": "2023-10-02T21:35:04.565Z"
   },
   {
    "duration": 20,
    "start_time": "2023-10-02T21:35:04.630Z"
   },
   {
    "duration": 151,
    "start_time": "2023-10-02T21:35:04.652Z"
   },
   {
    "duration": 381,
    "start_time": "2023-10-02T21:35:04.809Z"
   },
   {
    "duration": 25,
    "start_time": "2023-10-02T21:35:05.201Z"
   },
   {
    "duration": 311,
    "start_time": "2023-10-02T21:35:05.301Z"
   },
   {
    "duration": 177,
    "start_time": "2023-10-02T21:35:05.613Z"
   },
   {
    "duration": 129,
    "start_time": "2023-10-02T21:35:05.792Z"
   },
   {
    "duration": 152,
    "start_time": "2023-10-02T21:35:05.923Z"
   },
   {
    "duration": 543,
    "start_time": "2023-10-02T21:35:06.077Z"
   },
   {
    "duration": 129,
    "start_time": "2023-10-02T21:35:06.622Z"
   },
   {
    "duration": 149,
    "start_time": "2023-10-02T21:35:06.753Z"
   },
   {
    "duration": 2,
    "start_time": "2023-10-02T21:35:06.904Z"
   },
   {
    "duration": 17,
    "start_time": "2023-10-02T21:35:06.908Z"
   },
   {
    "duration": 33,
    "start_time": "2023-10-02T21:35:06.926Z"
   },
   {
    "duration": 14,
    "start_time": "2023-10-02T21:35:06.960Z"
   },
   {
    "duration": 12,
    "start_time": "2023-10-02T21:41:16.237Z"
   },
   {
    "duration": 4,
    "start_time": "2023-10-02T21:41:38.274Z"
   },
   {
    "duration": 6,
    "start_time": "2023-10-02T21:41:38.280Z"
   },
   {
    "duration": 42,
    "start_time": "2023-10-02T21:41:38.288Z"
   },
   {
    "duration": 15,
    "start_time": "2023-10-02T21:41:38.332Z"
   },
   {
    "duration": 20,
    "start_time": "2023-10-02T21:41:38.349Z"
   },
   {
    "duration": 95,
    "start_time": "2023-10-02T21:41:38.371Z"
   },
   {
    "duration": 150,
    "start_time": "2023-10-02T21:41:38.468Z"
   },
   {
    "duration": 31,
    "start_time": "2023-10-02T21:41:38.620Z"
   },
   {
    "duration": 13,
    "start_time": "2023-10-02T21:41:38.654Z"
   },
   {
    "duration": 16,
    "start_time": "2023-10-02T21:41:38.669Z"
   },
   {
    "duration": 14,
    "start_time": "2023-10-02T21:41:38.687Z"
   },
   {
    "duration": 21,
    "start_time": "2023-10-02T21:41:38.703Z"
   },
   {
    "duration": 17,
    "start_time": "2023-10-02T21:41:38.727Z"
   },
   {
    "duration": 23,
    "start_time": "2023-10-02T21:41:38.746Z"
   },
   {
    "duration": 20,
    "start_time": "2023-10-02T21:41:38.770Z"
   },
   {
    "duration": 13,
    "start_time": "2023-10-02T21:41:38.792Z"
   },
   {
    "duration": 102,
    "start_time": "2023-10-02T21:41:38.807Z"
   },
   {
    "duration": 396,
    "start_time": "2023-10-02T21:41:38.912Z"
   },
   {
    "duration": 10,
    "start_time": "2023-10-02T21:41:41.055Z"
   },
   {
    "duration": 31,
    "start_time": "2023-10-02T21:41:41.864Z"
   },
   {
    "duration": 9,
    "start_time": "2023-10-02T21:41:59.229Z"
   },
   {
    "duration": 28,
    "start_time": "2023-10-02T21:41:59.949Z"
   },
   {
    "duration": 19,
    "start_time": "2023-10-02T21:42:02.065Z"
   },
   {
    "duration": 89,
    "start_time": "2023-10-02T21:42:03.912Z"
   },
   {
    "duration": 249,
    "start_time": "2023-10-02T21:42:05.741Z"
   },
   {
    "duration": 24,
    "start_time": "2023-10-02T21:42:07.974Z"
   },
   {
    "duration": 300,
    "start_time": "2023-10-02T21:42:08.482Z"
   },
   {
    "duration": 156,
    "start_time": "2023-10-02T21:42:10.180Z"
   },
   {
    "duration": 119,
    "start_time": "2023-10-02T21:42:11.786Z"
   },
   {
    "duration": 136,
    "start_time": "2023-10-02T21:42:12.741Z"
   },
   {
    "duration": 472,
    "start_time": "2023-10-02T21:42:14.679Z"
   },
   {
    "duration": 127,
    "start_time": "2023-10-02T21:42:15.827Z"
   },
   {
    "duration": 130,
    "start_time": "2023-10-02T21:42:19.681Z"
   },
   {
    "duration": 453,
    "start_time": "2023-10-02T21:42:50.166Z"
   },
   {
    "duration": 131,
    "start_time": "2023-10-02T21:42:52.097Z"
   },
   {
    "duration": 152,
    "start_time": "2023-10-02T21:42:54.650Z"
   },
   {
    "duration": 450,
    "start_time": "2023-10-02T21:45:05.570Z"
   },
   {
    "duration": 125,
    "start_time": "2023-10-02T21:45:06.926Z"
   },
   {
    "duration": 4,
    "start_time": "2023-10-02T21:45:08.902Z"
   },
   {
    "duration": 135,
    "start_time": "2023-10-02T21:45:11.630Z"
   },
   {
    "duration": 140,
    "start_time": "2023-10-02T21:45:33.661Z"
   },
   {
    "duration": 143,
    "start_time": "2023-10-02T21:45:37.890Z"
   },
   {
    "duration": 137,
    "start_time": "2023-10-02T21:45:40.201Z"
   },
   {
    "duration": 216,
    "start_time": "2023-10-02T21:45:50.390Z"
   },
   {
    "duration": 138,
    "start_time": "2023-10-02T21:45:53.468Z"
   },
   {
    "duration": 681,
    "start_time": "2023-10-02T21:46:09.367Z"
   },
   {
    "duration": 189,
    "start_time": "2023-10-02T21:46:14.910Z"
   },
   {
    "duration": 145,
    "start_time": "2023-10-02T21:46:17.542Z"
   },
   {
    "duration": 185,
    "start_time": "2023-10-02T21:46:20.726Z"
   },
   {
    "duration": 148,
    "start_time": "2023-10-02T21:46:26.432Z"
   },
   {
    "duration": 143,
    "start_time": "2023-10-02T21:46:28.780Z"
   },
   {
    "duration": 137,
    "start_time": "2023-10-02T21:46:31.036Z"
   },
   {
    "duration": 133,
    "start_time": "2023-10-02T21:46:35.160Z"
   },
   {
    "duration": 1646,
    "start_time": "2023-10-02T21:47:15.280Z"
   },
   {
    "duration": 1729,
    "start_time": "2023-10-02T21:47:24.231Z"
   },
   {
    "duration": 10459,
    "start_time": "2023-10-02T21:48:26.336Z"
   },
   {
    "duration": 10862,
    "start_time": "2023-10-02T21:48:47.494Z"
   },
   {
    "duration": 18765,
    "start_time": "2023-10-02T21:49:08.120Z"
   },
   {
    "duration": 48656,
    "start_time": "2023-10-02T21:49:28.396Z"
   },
   {
    "duration": 125,
    "start_time": "2023-10-02T21:52:09.135Z"
   },
   {
    "duration": 136,
    "start_time": "2023-10-02T21:52:21.455Z"
   },
   {
    "duration": 1081,
    "start_time": "2023-10-02T21:52:27.032Z"
   },
   {
    "duration": 130,
    "start_time": "2023-10-02T21:52:52.894Z"
   },
   {
    "duration": 141,
    "start_time": "2023-10-02T21:52:54.352Z"
   },
   {
    "duration": 134,
    "start_time": "2023-10-02T21:53:17.360Z"
   },
   {
    "duration": 11,
    "start_time": "2023-10-02T21:55:12.380Z"
   },
   {
    "duration": 10,
    "start_time": "2023-10-02T21:55:28.410Z"
   },
   {
    "duration": 6,
    "start_time": "2023-10-02T21:56:17.243Z"
   },
   {
    "duration": 125,
    "start_time": "2023-10-02T21:56:52.852Z"
   },
   {
    "duration": 4,
    "start_time": "2023-10-02T21:56:53.956Z"
   },
   {
    "duration": 1082,
    "start_time": "2023-10-02T21:56:55.122Z"
   },
   {
    "duration": 132,
    "start_time": "2023-10-02T21:56:58.638Z"
   },
   {
    "duration": 5,
    "start_time": "2023-10-02T21:56:59.809Z"
   },
   {
    "duration": 5,
    "start_time": "2023-10-02T21:57:01.082Z"
   },
   {
    "duration": 17,
    "start_time": "2023-10-02T21:58:07.097Z"
   },
   {
    "duration": 2566,
    "start_time": "2023-10-03T14:04:35.143Z"
   },
   {
    "duration": 3,
    "start_time": "2023-10-03T14:04:37.712Z"
   },
   {
    "duration": 253,
    "start_time": "2023-10-03T14:04:37.717Z"
   },
   {
    "duration": 23,
    "start_time": "2023-10-03T14:04:37.975Z"
   },
   {
    "duration": 21,
    "start_time": "2023-10-03T14:04:38.000Z"
   },
   {
    "duration": 5,
    "start_time": "2023-10-03T14:04:40.340Z"
   },
   {
    "duration": 9,
    "start_time": "2023-10-03T14:04:41.639Z"
   },
   {
    "duration": 138,
    "start_time": "2023-10-03T14:05:21.530Z"
   },
   {
    "duration": 8,
    "start_time": "2023-10-03T14:05:40.214Z"
   },
   {
    "duration": 11,
    "start_time": "2023-10-03T14:05:45.360Z"
   },
   {
    "duration": 4,
    "start_time": "2023-10-03T14:07:07.307Z"
   },
   {
    "duration": 2,
    "start_time": "2023-10-03T14:07:08.001Z"
   },
   {
    "duration": 53,
    "start_time": "2023-10-03T14:07:08.540Z"
   },
   {
    "duration": 23,
    "start_time": "2023-10-03T14:07:08.743Z"
   },
   {
    "duration": 20,
    "start_time": "2023-10-03T14:07:09.665Z"
   },
   {
    "duration": 5,
    "start_time": "2023-10-03T14:07:10.718Z"
   },
   {
    "duration": 10,
    "start_time": "2023-10-03T14:07:11.517Z"
   },
   {
    "duration": 6,
    "start_time": "2023-10-03T14:07:12.226Z"
   },
   {
    "duration": 30,
    "start_time": "2023-10-03T14:26:27.146Z"
   },
   {
    "duration": 17,
    "start_time": "2023-10-03T14:26:36.411Z"
   },
   {
    "duration": 109,
    "start_time": "2023-10-03T14:26:40.382Z"
   },
   {
    "duration": 22,
    "start_time": "2023-10-03T14:27:01.843Z"
   },
   {
    "duration": 25,
    "start_time": "2023-10-03T14:27:05.047Z"
   },
   {
    "duration": 13,
    "start_time": "2023-10-03T14:27:21.492Z"
   },
   {
    "duration": 7,
    "start_time": "2023-10-03T14:27:22.822Z"
   },
   {
    "duration": 10,
    "start_time": "2023-10-03T14:27:24.269Z"
   },
   {
    "duration": 9,
    "start_time": "2023-10-03T14:27:27.096Z"
   },
   {
    "duration": 38,
    "start_time": "2023-10-03T14:27:28.498Z"
   },
   {
    "duration": 20,
    "start_time": "2023-10-03T14:27:29.330Z"
   },
   {
    "duration": 26,
    "start_time": "2023-10-03T14:27:30.928Z"
   },
   {
    "duration": 13,
    "start_time": "2023-10-03T14:27:32.009Z"
   },
   {
    "duration": 154,
    "start_time": "2023-10-03T14:27:32.895Z"
   },
   {
    "duration": 473,
    "start_time": "2023-10-03T14:27:34.976Z"
   },
   {
    "duration": 6,
    "start_time": "2023-10-03T14:29:16.039Z"
   },
   {
    "duration": 17,
    "start_time": "2023-10-03T14:29:18.121Z"
   },
   {
    "duration": 10,
    "start_time": "2023-10-03T14:29:19.267Z"
   },
   {
    "duration": 56,
    "start_time": "2023-10-03T14:29:20.548Z"
   },
   {
    "duration": 318,
    "start_time": "2023-10-03T14:29:38.640Z"
   },
   {
    "duration": 301,
    "start_time": "2023-10-03T14:29:46.791Z"
   },
   {
    "duration": 11,
    "start_time": "2023-10-03T14:29:50.190Z"
   },
   {
    "duration": 36,
    "start_time": "2023-10-03T14:29:55.495Z"
   },
   {
    "duration": 28,
    "start_time": "2023-10-03T14:29:56.590Z"
   },
   {
    "duration": 90,
    "start_time": "2023-10-03T14:29:58.680Z"
   },
   {
    "duration": 285,
    "start_time": "2023-10-03T14:30:05.526Z"
   },
   {
    "duration": 51,
    "start_time": "2023-10-03T14:30:11.446Z"
   },
   {
    "duration": 349,
    "start_time": "2023-10-03T14:30:16.252Z"
   },
   {
    "duration": 207,
    "start_time": "2023-10-03T14:30:29.568Z"
   },
   {
    "duration": 253,
    "start_time": "2023-10-03T14:30:46.482Z"
   },
   {
    "duration": 32,
    "start_time": "2023-10-03T14:30:52.348Z"
   },
   {
    "duration": 221,
    "start_time": "2023-10-03T14:31:22.865Z"
   },
   {
    "duration": 178,
    "start_time": "2023-10-03T14:31:23.417Z"
   },
   {
    "duration": 40,
    "start_time": "2023-10-03T14:31:24.340Z"
   },
   {
    "duration": 23,
    "start_time": "2023-10-03T14:32:15.824Z"
   },
   {
    "duration": 535,
    "start_time": "2023-10-03T14:32:22.183Z"
   },
   {
    "duration": 169,
    "start_time": "2023-10-03T14:32:33.822Z"
   },
   {
    "duration": 5,
    "start_time": "2023-10-03T14:32:41.211Z"
   },
   {
    "duration": 1286,
    "start_time": "2023-10-03T14:32:42.197Z"
   },
   {
    "duration": 129,
    "start_time": "2023-10-03T14:32:54.891Z"
   },
   {
    "duration": 7,
    "start_time": "2023-10-03T14:32:57.090Z"
   },
   {
    "duration": 9,
    "start_time": "2023-10-03T14:33:03.890Z"
   },
   {
    "duration": 25,
    "start_time": "2023-10-03T14:33:04.974Z"
   },
   {
    "duration": 19,
    "start_time": "2023-10-03T14:34:33.619Z"
   },
   {
    "duration": 23,
    "start_time": "2023-10-03T14:35:05.634Z"
   },
   {
    "duration": 11,
    "start_time": "2023-10-03T14:35:05.995Z"
   },
   {
    "duration": 46,
    "start_time": "2023-10-03T14:35:09.076Z"
   },
   {
    "duration": 570,
    "start_time": "2023-10-03T14:35:26.284Z"
   },
   {
    "duration": 140,
    "start_time": "2023-10-03T14:35:31.587Z"
   },
   {
    "duration": 8,
    "start_time": "2023-10-03T14:35:33.113Z"
   },
   {
    "duration": 1290,
    "start_time": "2023-10-03T14:35:34.501Z"
   },
   {
    "duration": 137,
    "start_time": "2023-10-03T14:35:35.794Z"
   },
   {
    "duration": 4,
    "start_time": "2023-10-03T14:35:37.509Z"
   },
   {
    "duration": 22,
    "start_time": "2023-10-03T14:35:38.371Z"
   },
   {
    "duration": 146,
    "start_time": "2023-10-03T14:35:57.461Z"
   },
   {
    "duration": 572,
    "start_time": "2023-10-03T14:37:24.384Z"
   },
   {
    "duration": 165,
    "start_time": "2023-10-03T14:37:26.838Z"
   },
   {
    "duration": 26,
    "start_time": "2023-10-03T14:37:29.785Z"
   },
   {
    "duration": 10,
    "start_time": "2023-10-03T14:37:37.465Z"
   },
   {
    "duration": 46,
    "start_time": "2023-10-03T14:37:37.479Z"
   },
   {
    "duration": 79,
    "start_time": "2023-10-03T14:37:37.527Z"
   },
   {
    "duration": 15,
    "start_time": "2023-10-03T14:37:37.607Z"
   },
   {
    "duration": 77,
    "start_time": "2023-10-03T14:37:37.625Z"
   },
   {
    "duration": 9,
    "start_time": "2023-10-03T14:37:37.704Z"
   },
   {
    "duration": 25,
    "start_time": "2023-10-03T14:37:37.714Z"
   },
   {
    "duration": 11,
    "start_time": "2023-10-03T14:37:37.740Z"
   },
   {
    "duration": 110,
    "start_time": "2023-10-03T14:37:37.759Z"
   },
   {
    "duration": 17,
    "start_time": "2023-10-03T14:37:37.870Z"
   },
   {
    "duration": 64,
    "start_time": "2023-10-03T14:37:37.889Z"
   },
   {
    "duration": 69,
    "start_time": "2023-10-03T14:37:37.954Z"
   },
   {
    "duration": 61,
    "start_time": "2023-10-03T14:37:38.025Z"
   },
   {
    "duration": 19,
    "start_time": "2023-10-03T14:37:38.093Z"
   },
   {
    "duration": 66,
    "start_time": "2023-10-03T14:37:38.114Z"
   },
   {
    "duration": 55,
    "start_time": "2023-10-03T14:37:38.182Z"
   },
   {
    "duration": 49,
    "start_time": "2023-10-03T14:37:38.240Z"
   },
   {
    "duration": 31,
    "start_time": "2023-10-03T14:37:38.292Z"
   },
   {
    "duration": 13,
    "start_time": "2023-10-03T14:37:38.325Z"
   },
   {
    "duration": 94,
    "start_time": "2023-10-03T14:37:38.341Z"
   },
   {
    "duration": 341,
    "start_time": "2023-10-03T14:37:38.548Z"
   },
   {
    "duration": 15,
    "start_time": "2023-10-03T14:37:38.891Z"
   },
   {
    "duration": 42,
    "start_time": "2023-10-03T14:37:38.908Z"
   },
   {
    "duration": 152,
    "start_time": "2023-10-03T14:37:38.952Z"
   },
   {
    "duration": 18,
    "start_time": "2023-10-03T14:37:39.106Z"
   },
   {
    "duration": 50,
    "start_time": "2023-10-03T14:37:39.125Z"
   },
   {
    "duration": 290,
    "start_time": "2023-10-03T14:37:39.177Z"
   },
   {
    "duration": 76,
    "start_time": "2023-10-03T14:37:39.468Z"
   },
   {
    "duration": 301,
    "start_time": "2023-10-03T14:37:39.553Z"
   },
   {
    "duration": 198,
    "start_time": "2023-10-03T14:37:39.856Z"
   },
   {
    "duration": 201,
    "start_time": "2023-10-03T14:37:40.055Z"
   },
   {
    "duration": 35,
    "start_time": "2023-10-03T14:37:40.259Z"
   },
   {
    "duration": 526,
    "start_time": "2023-10-03T14:37:40.296Z"
   },
   {
    "duration": 151,
    "start_time": "2023-10-03T14:37:40.824Z"
   },
   {
    "duration": 150,
    "start_time": "2023-10-03T14:37:42.444Z"
   },
   {
    "duration": 36,
    "start_time": "2023-10-03T14:37:44.871Z"
   },
   {
    "duration": 564,
    "start_time": "2023-10-03T14:37:55.039Z"
   },
   {
    "duration": 200,
    "start_time": "2023-10-03T14:37:57.024Z"
   },
   {
    "duration": 28,
    "start_time": "2023-10-03T14:37:58.298Z"
   },
   {
    "duration": 718,
    "start_time": "2023-10-03T14:38:03.041Z"
   },
   {
    "duration": 313,
    "start_time": "2023-10-03T14:38:38.471Z"
   },
   {
    "duration": 308,
    "start_time": "2023-10-03T14:38:43.886Z"
   },
   {
    "duration": 301,
    "start_time": "2023-10-03T14:38:46.813Z"
   },
   {
    "duration": 374,
    "start_time": "2023-10-03T14:38:50.011Z"
   },
   {
    "duration": 392,
    "start_time": "2023-10-03T14:38:52.767Z"
   },
   {
    "duration": 448,
    "start_time": "2023-10-03T14:38:56.071Z"
   },
   {
    "duration": 439,
    "start_time": "2023-10-03T14:38:59.261Z"
   },
   {
    "duration": 457,
    "start_time": "2023-10-03T14:39:02.764Z"
   },
   {
    "duration": 524,
    "start_time": "2023-10-03T14:39:05.942Z"
   },
   {
    "duration": 458,
    "start_time": "2023-10-03T14:39:09.735Z"
   },
   {
    "duration": 513,
    "start_time": "2023-10-03T14:39:12.399Z"
   },
   {
    "duration": 183,
    "start_time": "2023-10-03T14:39:13.645Z"
   },
   {
    "duration": 36,
    "start_time": "2023-10-03T14:39:16.593Z"
   },
   {
    "duration": 7,
    "start_time": "2023-10-03T14:40:51.871Z"
   },
   {
    "duration": 15,
    "start_time": "2023-10-03T14:40:52.269Z"
   },
   {
    "duration": 9,
    "start_time": "2023-10-03T14:40:52.773Z"
   },
   {
    "duration": 64,
    "start_time": "2023-10-03T14:40:53.796Z"
   },
   {
    "duration": 265,
    "start_time": "2023-10-03T14:40:54.912Z"
   },
   {
    "duration": 204,
    "start_time": "2023-10-03T14:41:16.831Z"
   },
   {
    "duration": 155,
    "start_time": "2023-10-03T14:41:22.940Z"
   },
   {
    "duration": 32,
    "start_time": "2023-10-03T14:41:23.690Z"
   },
   {
    "duration": 4,
    "start_time": "2023-10-03T14:41:26.779Z"
   },
   {
    "duration": 21,
    "start_time": "2023-10-03T14:41:26.785Z"
   },
   {
    "duration": 68,
    "start_time": "2023-10-03T14:41:26.808Z"
   },
   {
    "duration": 22,
    "start_time": "2023-10-03T14:41:26.878Z"
   },
   {
    "duration": 24,
    "start_time": "2023-10-03T14:41:26.902Z"
   },
   {
    "duration": 5,
    "start_time": "2023-10-03T14:41:26.929Z"
   },
   {
    "duration": 40,
    "start_time": "2023-10-03T14:41:26.936Z"
   },
   {
    "duration": 5,
    "start_time": "2023-10-03T14:41:26.980Z"
   },
   {
    "duration": 130,
    "start_time": "2023-10-03T14:41:26.987Z"
   },
   {
    "duration": 13,
    "start_time": "2023-10-03T14:41:27.121Z"
   },
   {
    "duration": 35,
    "start_time": "2023-10-03T14:41:27.136Z"
   },
   {
    "duration": 9,
    "start_time": "2023-10-03T14:41:27.176Z"
   },
   {
    "duration": 5,
    "start_time": "2023-10-03T14:41:27.187Z"
   },
   {
    "duration": 10,
    "start_time": "2023-10-03T14:41:27.194Z"
   },
   {
    "duration": 30,
    "start_time": "2023-10-03T14:41:27.206Z"
   },
   {
    "duration": 37,
    "start_time": "2023-10-03T14:41:27.238Z"
   },
   {
    "duration": 14,
    "start_time": "2023-10-03T14:41:27.279Z"
   },
   {
    "duration": 15,
    "start_time": "2023-10-03T14:41:27.295Z"
   },
   {
    "duration": 13,
    "start_time": "2023-10-03T14:41:27.312Z"
   },
   {
    "duration": 72,
    "start_time": "2023-10-03T14:41:27.327Z"
   },
   {
    "duration": 356,
    "start_time": "2023-10-03T14:41:27.452Z"
   },
   {
    "duration": 11,
    "start_time": "2023-10-03T14:41:27.810Z"
   },
   {
    "duration": 62,
    "start_time": "2023-10-03T14:41:27.823Z"
   },
   {
    "duration": 18,
    "start_time": "2023-10-03T14:41:27.887Z"
   },
   {
    "duration": 79,
    "start_time": "2023-10-03T14:41:27.906Z"
   },
   {
    "duration": 397,
    "start_time": "2023-10-03T14:41:27.988Z"
   },
   {
    "duration": 69,
    "start_time": "2023-10-03T14:41:28.387Z"
   },
   {
    "duration": 362,
    "start_time": "2023-10-03T14:41:28.471Z"
   },
   {
    "duration": 207,
    "start_time": "2023-10-03T14:41:37.936Z"
   },
   {
    "duration": 130,
    "start_time": "2023-10-03T14:41:45.378Z"
   },
   {
    "duration": 47,
    "start_time": "2023-10-03T14:41:47.139Z"
   },
   {
    "duration": 431,
    "start_time": "2023-10-03T14:41:54.889Z"
   },
   {
    "duration": 115,
    "start_time": "2023-10-03T14:42:07.813Z"
   },
   {
    "duration": 415,
    "start_time": "2023-10-03T14:42:11.200Z"
   },
   {
    "duration": 177,
    "start_time": "2023-10-03T14:42:11.618Z"
   },
   {
    "duration": 464,
    "start_time": "2023-10-03T14:42:25.167Z"
   },
   {
    "duration": 134,
    "start_time": "2023-10-03T14:42:27.606Z"
   },
   {
    "duration": 25,
    "start_time": "2023-10-03T14:42:29.312Z"
   },
   {
    "duration": 6,
    "start_time": "2023-10-03T14:42:46.607Z"
   },
   {
    "duration": 1219,
    "start_time": "2023-10-03T14:42:47.491Z"
   },
   {
    "duration": 1291,
    "start_time": "2023-10-03T14:42:54.773Z"
   },
   {
    "duration": 135,
    "start_time": "2023-10-03T14:42:56.076Z"
   },
   {
    "duration": 4,
    "start_time": "2023-10-03T14:42:58.385Z"
   },
   {
    "duration": 124,
    "start_time": "2023-10-03T14:42:58.934Z"
   },
   {
    "duration": 132,
    "start_time": "2023-10-03T14:43:00.280Z"
   },
   {
    "duration": 3,
    "start_time": "2023-10-03T14:43:10.306Z"
   },
   {
    "duration": 43,
    "start_time": "2023-10-03T14:43:10.311Z"
   },
   {
    "duration": 85,
    "start_time": "2023-10-03T14:43:10.356Z"
   },
   {
    "duration": 27,
    "start_time": "2023-10-03T14:43:10.443Z"
   },
   {
    "duration": 16,
    "start_time": "2023-10-03T14:43:10.474Z"
   },
   {
    "duration": 5,
    "start_time": "2023-10-03T14:43:10.491Z"
   },
   {
    "duration": 12,
    "start_time": "2023-10-03T14:43:10.498Z"
   },
   {
    "duration": 12,
    "start_time": "2023-10-03T14:43:10.511Z"
   },
   {
    "duration": 116,
    "start_time": "2023-10-03T14:43:10.545Z"
   },
   {
    "duration": 16,
    "start_time": "2023-10-03T14:43:10.663Z"
   },
   {
    "duration": 7,
    "start_time": "2023-10-03T14:43:10.681Z"
   },
   {
    "duration": 5,
    "start_time": "2023-10-03T14:43:10.690Z"
   },
   {
    "duration": 38,
    "start_time": "2023-10-03T14:43:10.697Z"
   },
   {
    "duration": 20,
    "start_time": "2023-10-03T14:43:10.738Z"
   },
   {
    "duration": 28,
    "start_time": "2023-10-03T14:43:10.760Z"
   },
   {
    "duration": 44,
    "start_time": "2023-10-03T14:43:10.791Z"
   },
   {
    "duration": 36,
    "start_time": "2023-10-03T14:43:10.837Z"
   },
   {
    "duration": 14,
    "start_time": "2023-10-03T14:43:10.877Z"
   },
   {
    "duration": 7,
    "start_time": "2023-10-03T14:43:10.892Z"
   },
   {
    "duration": 147,
    "start_time": "2023-10-03T14:43:10.901Z"
   },
   {
    "duration": 292,
    "start_time": "2023-10-03T14:43:11.049Z"
   },
   {
    "duration": 19,
    "start_time": "2023-10-03T14:43:11.354Z"
   },
   {
    "duration": 39,
    "start_time": "2023-10-03T14:43:11.375Z"
   },
   {
    "duration": 79,
    "start_time": "2023-10-03T14:43:11.417Z"
   },
   {
    "duration": 56,
    "start_time": "2023-10-03T14:43:11.498Z"
   },
   {
    "duration": 319,
    "start_time": "2023-10-03T14:43:11.558Z"
   },
   {
    "duration": 74,
    "start_time": "2023-10-03T14:43:11.879Z"
   },
   {
    "duration": 398,
    "start_time": "2023-10-03T14:43:11.966Z"
   },
   {
    "duration": 190,
    "start_time": "2023-10-03T14:43:12.366Z"
   },
   {
    "duration": 146,
    "start_time": "2023-10-03T14:43:12.558Z"
   },
   {
    "duration": 28,
    "start_time": "2023-10-03T14:43:12.706Z"
   },
   {
    "duration": 442,
    "start_time": "2023-10-03T14:43:12.744Z"
   },
   {
    "duration": 153,
    "start_time": "2023-10-03T14:43:13.189Z"
   },
   {
    "duration": 39,
    "start_time": "2023-10-03T14:43:13.343Z"
   },
   {
    "duration": 12,
    "start_time": "2023-10-03T14:43:13.384Z"
   },
   {
    "duration": 1349,
    "start_time": "2023-10-03T14:43:13.399Z"
   },
   {
    "duration": 1227,
    "start_time": "2023-10-03T14:43:15.031Z"
   },
   {
    "duration": 139,
    "start_time": "2023-10-03T14:43:16.574Z"
   },
   {
    "duration": 406,
    "start_time": "2023-10-03T14:43:42.114Z"
   },
   {
    "duration": 462,
    "start_time": "2023-10-03T14:44:03.671Z"
   },
   {
    "duration": 469,
    "start_time": "2023-10-03T14:44:08.282Z"
   },
   {
    "duration": 73,
    "start_time": "2023-10-03T14:44:14.000Z"
   },
   {
    "duration": 524,
    "start_time": "2023-10-03T14:44:24.206Z"
   },
   {
    "duration": 53,
    "start_time": "2023-10-03T14:45:48.132Z"
   },
   {
    "duration": 88,
    "start_time": "2023-10-03T14:46:02.110Z"
   },
   {
    "duration": 209,
    "start_time": "2023-10-03T14:46:07.283Z"
   },
   {
    "duration": 102,
    "start_time": "2023-10-03T14:46:08.276Z"
   },
   {
    "duration": 173,
    "start_time": "2023-10-03T14:46:13.224Z"
   },
   {
    "duration": 6,
    "start_time": "2023-10-03T14:46:23.875Z"
   },
   {
    "duration": 9,
    "start_time": "2023-10-03T14:46:50.643Z"
   },
   {
    "duration": 155,
    "start_time": "2023-10-03T14:46:52.037Z"
   },
   {
    "duration": 115,
    "start_time": "2023-10-03T14:47:10.566Z"
   },
   {
    "duration": 1271,
    "start_time": "2023-10-03T14:47:19.809Z"
   },
   {
    "duration": 5030,
    "start_time": "2023-10-03T14:47:29.110Z"
   },
   {
    "duration": 2203,
    "start_time": "2023-10-03T14:47:52.580Z"
   },
   {
    "duration": 11594,
    "start_time": "2023-10-03T14:47:56.453Z"
   },
   {
    "duration": 2528,
    "start_time": "2023-10-03T14:48:18.186Z"
   },
   {
    "duration": 1067,
    "start_time": "2023-10-03T14:48:27.897Z"
   },
   {
    "duration": 6,
    "start_time": "2023-10-03T14:48:47.646Z"
   },
   {
    "duration": 1045,
    "start_time": "2023-10-03T14:48:48.125Z"
   },
   {
    "duration": 2642,
    "start_time": "2023-10-03T14:48:58.287Z"
   },
   {
    "duration": 4577,
    "start_time": "2023-10-03T14:49:06.384Z"
   },
   {
    "duration": 11206,
    "start_time": "2023-10-03T14:49:21.726Z"
   },
   {
    "duration": 27729,
    "start_time": "2023-10-03T14:49:47.950Z"
   },
   {
    "duration": 154,
    "start_time": "2023-10-03T14:50:27.872Z"
   },
   {
    "duration": 208,
    "start_time": "2023-10-03T14:50:36.035Z"
   },
   {
    "duration": 12736,
    "start_time": "2023-10-03T14:50:47.580Z"
   },
   {
    "duration": 151,
    "start_time": "2023-10-03T14:51:08.864Z"
   },
   {
    "duration": 178,
    "start_time": "2023-10-03T14:51:11.735Z"
   },
   {
    "duration": 173,
    "start_time": "2023-10-03T14:51:15.894Z"
   },
   {
    "duration": 183,
    "start_time": "2023-10-03T14:51:16.869Z"
   },
   {
    "duration": 141,
    "start_time": "2023-10-03T14:51:38.474Z"
   },
   {
    "duration": 190,
    "start_time": "2023-10-03T14:52:02.436Z"
   },
   {
    "duration": 5,
    "start_time": "2023-10-03T14:54:13.501Z"
   },
   {
    "duration": 25,
    "start_time": "2023-10-03T14:54:13.508Z"
   },
   {
    "duration": 90,
    "start_time": "2023-10-03T14:54:13.537Z"
   },
   {
    "duration": 29,
    "start_time": "2023-10-03T14:54:13.633Z"
   },
   {
    "duration": 55,
    "start_time": "2023-10-03T14:54:13.668Z"
   },
   {
    "duration": 25,
    "start_time": "2023-10-03T14:54:13.725Z"
   },
   {
    "duration": 32,
    "start_time": "2023-10-03T14:54:13.753Z"
   },
   {
    "duration": 44,
    "start_time": "2023-10-03T14:54:13.789Z"
   },
   {
    "duration": 131,
    "start_time": "2023-10-03T14:54:13.835Z"
   },
   {
    "duration": 18,
    "start_time": "2023-10-03T14:54:13.970Z"
   },
   {
    "duration": 12,
    "start_time": "2023-10-03T14:54:13.993Z"
   },
   {
    "duration": 24,
    "start_time": "2023-10-03T14:54:14.007Z"
   },
   {
    "duration": 21,
    "start_time": "2023-10-03T14:54:14.034Z"
   },
   {
    "duration": 20,
    "start_time": "2023-10-03T14:54:14.064Z"
   },
   {
    "duration": 23,
    "start_time": "2023-10-03T14:54:14.097Z"
   },
   {
    "duration": 49,
    "start_time": "2023-10-03T14:54:14.122Z"
   },
   {
    "duration": 13,
    "start_time": "2023-10-03T14:54:14.174Z"
   },
   {
    "duration": 32,
    "start_time": "2023-10-03T14:54:14.189Z"
   },
   {
    "duration": 16,
    "start_time": "2023-10-03T14:54:14.224Z"
   },
   {
    "duration": 75,
    "start_time": "2023-10-03T14:54:14.242Z"
   },
   {
    "duration": 320,
    "start_time": "2023-10-03T14:54:14.345Z"
   },
   {
    "duration": 13,
    "start_time": "2023-10-03T14:54:14.667Z"
   },
   {
    "duration": 76,
    "start_time": "2023-10-03T14:54:14.682Z"
   },
   {
    "duration": 49,
    "start_time": "2023-10-03T14:54:14.760Z"
   },
   {
    "duration": 44,
    "start_time": "2023-10-03T14:54:14.811Z"
   },
   {
    "duration": 319,
    "start_time": "2023-10-03T14:54:14.858Z"
   },
   {
    "duration": 35,
    "start_time": "2023-10-03T14:54:17.517Z"
   },
   {
    "duration": 332,
    "start_time": "2023-10-03T14:54:18.360Z"
   },
   {
    "duration": 145,
    "start_time": "2023-10-03T14:54:20.166Z"
   },
   {
    "duration": 10872,
    "start_time": "2023-10-03T14:55:43.532Z"
   },
   {
    "duration": 5,
    "start_time": "2023-10-03T14:56:25.242Z"
   },
   {
    "duration": 12,
    "start_time": "2023-10-03T14:56:26.922Z"
   },
   {
    "duration": 40,
    "start_time": "2023-10-03T14:56:27.183Z"
   },
   {
    "duration": 20,
    "start_time": "2023-10-03T14:56:27.827Z"
   },
   {
    "duration": 74,
    "start_time": "2023-10-03T14:56:29.973Z"
   },
   {
    "duration": 318,
    "start_time": "2023-10-03T14:56:30.945Z"
   },
   {
    "duration": 73,
    "start_time": "2023-10-03T14:56:34.273Z"
   },
   {
    "duration": 333,
    "start_time": "2023-10-03T14:56:35.866Z"
   },
   {
    "duration": 4,
    "start_time": "2023-10-03T14:56:59.228Z"
   },
   {
    "duration": 29,
    "start_time": "2023-10-03T14:56:59.235Z"
   },
   {
    "duration": 61,
    "start_time": "2023-10-03T14:56:59.266Z"
   },
   {
    "duration": 40,
    "start_time": "2023-10-03T14:56:59.329Z"
   },
   {
    "duration": 22,
    "start_time": "2023-10-03T14:56:59.380Z"
   },
   {
    "duration": 7,
    "start_time": "2023-10-03T14:56:59.405Z"
   },
   {
    "duration": 66,
    "start_time": "2023-10-03T14:56:59.414Z"
   },
   {
    "duration": 23,
    "start_time": "2023-10-03T14:56:59.482Z"
   },
   {
    "duration": 121,
    "start_time": "2023-10-03T14:56:59.507Z"
   },
   {
    "duration": 25,
    "start_time": "2023-10-03T14:56:59.630Z"
   },
   {
    "duration": 15,
    "start_time": "2023-10-03T14:56:59.657Z"
   },
   {
    "duration": 12,
    "start_time": "2023-10-03T14:56:59.674Z"
   },
   {
    "duration": 11,
    "start_time": "2023-10-03T14:56:59.688Z"
   },
   {
    "duration": 16,
    "start_time": "2023-10-03T14:56:59.702Z"
   },
   {
    "duration": 14,
    "start_time": "2023-10-03T14:56:59.720Z"
   },
   {
    "duration": 37,
    "start_time": "2023-10-03T14:56:59.736Z"
   },
   {
    "duration": 12,
    "start_time": "2023-10-03T14:56:59.779Z"
   },
   {
    "duration": 27,
    "start_time": "2023-10-03T14:56:59.793Z"
   },
   {
    "duration": 19,
    "start_time": "2023-10-03T14:56:59.822Z"
   },
   {
    "duration": 126,
    "start_time": "2023-10-03T14:56:59.843Z"
   },
   {
    "duration": 410,
    "start_time": "2023-10-03T14:56:59.973Z"
   },
   {
    "duration": 4,
    "start_time": "2023-10-03T14:57:00.385Z"
   },
   {
    "duration": 39,
    "start_time": "2023-10-03T14:57:00.391Z"
   },
   {
    "duration": 83,
    "start_time": "2023-10-03T14:57:00.432Z"
   },
   {
    "duration": 24,
    "start_time": "2023-10-03T14:57:00.517Z"
   },
   {
    "duration": 65,
    "start_time": "2023-10-03T14:57:00.544Z"
   },
   {
    "duration": 378,
    "start_time": "2023-10-03T14:57:00.611Z"
   },
   {
    "duration": 89,
    "start_time": "2023-10-03T14:57:02.772Z"
   },
   {
    "duration": 292,
    "start_time": "2023-10-03T14:57:04.787Z"
   },
   {
    "duration": 183,
    "start_time": "2023-10-03T14:57:06.169Z"
   },
   {
    "duration": 134,
    "start_time": "2023-10-03T14:57:52.771Z"
   },
   {
    "duration": 234,
    "start_time": "2023-10-03T14:57:54.540Z"
   },
   {
    "duration": 243,
    "start_time": "2023-10-03T14:58:00.203Z"
   },
   {
    "duration": 72,
    "start_time": "2023-10-03T14:58:07.394Z"
   },
   {
    "duration": 118,
    "start_time": "2023-10-03T14:58:10.359Z"
   },
   {
    "duration": 53,
    "start_time": "2023-10-03T14:58:14.507Z"
   },
   {
    "duration": 129,
    "start_time": "2023-10-03T14:58:17.431Z"
   },
   {
    "duration": 123,
    "start_time": "2023-10-03T14:58:29.942Z"
   },
   {
    "duration": 39,
    "start_time": "2023-10-03T14:58:33.270Z"
   },
   {
    "duration": 198,
    "start_time": "2023-10-03T14:58:36.683Z"
   },
   {
    "duration": 450,
    "start_time": "2023-10-03T14:58:45.805Z"
   },
   {
    "duration": 196,
    "start_time": "2023-10-03T14:59:55.285Z"
   },
   {
    "duration": 278,
    "start_time": "2023-10-03T14:59:56.717Z"
   },
   {
    "duration": 64,
    "start_time": "2023-10-03T14:59:58.726Z"
   },
   {
    "duration": 298,
    "start_time": "2023-10-03T14:59:59.714Z"
   },
   {
    "duration": 142,
    "start_time": "2023-10-03T15:00:01.571Z"
   },
   {
    "duration": 10426,
    "start_time": "2023-10-03T15:00:03.173Z"
   },
   {
    "duration": 11849,
    "start_time": "2023-10-03T15:00:42.512Z"
   },
   {
    "duration": 5,
    "start_time": "2023-10-03T15:01:49.602Z"
   },
   {
    "duration": 65,
    "start_time": "2023-10-03T15:01:49.609Z"
   },
   {
    "duration": 71,
    "start_time": "2023-10-03T15:01:49.677Z"
   },
   {
    "duration": 35,
    "start_time": "2023-10-03T15:01:49.750Z"
   },
   {
    "duration": 26,
    "start_time": "2023-10-03T15:01:49.787Z"
   },
   {
    "duration": 10,
    "start_time": "2023-10-03T15:01:49.815Z"
   },
   {
    "duration": 36,
    "start_time": "2023-10-03T15:01:49.827Z"
   },
   {
    "duration": 43,
    "start_time": "2023-10-03T15:01:49.865Z"
   },
   {
    "duration": 147,
    "start_time": "2023-10-03T15:01:49.910Z"
   },
   {
    "duration": 26,
    "start_time": "2023-10-03T15:01:50.067Z"
   },
   {
    "duration": 5,
    "start_time": "2023-10-03T15:01:50.095Z"
   },
   {
    "duration": 29,
    "start_time": "2023-10-03T15:01:50.102Z"
   },
   {
    "duration": 10,
    "start_time": "2023-10-03T15:01:50.133Z"
   },
   {
    "duration": 11,
    "start_time": "2023-10-03T15:01:50.148Z"
   },
   {
    "duration": 29,
    "start_time": "2023-10-03T15:01:50.162Z"
   },
   {
    "duration": 24,
    "start_time": "2023-10-03T15:01:50.193Z"
   },
   {
    "duration": 7,
    "start_time": "2023-10-03T15:01:50.219Z"
   },
   {
    "duration": 24,
    "start_time": "2023-10-03T15:01:50.228Z"
   },
   {
    "duration": 27,
    "start_time": "2023-10-03T15:01:50.253Z"
   },
   {
    "duration": 68,
    "start_time": "2023-10-03T15:01:50.282Z"
   },
   {
    "duration": 329,
    "start_time": "2023-10-03T15:01:50.358Z"
   },
   {
    "duration": 7,
    "start_time": "2023-10-03T15:01:50.692Z"
   },
   {
    "duration": 17,
    "start_time": "2023-10-03T15:01:50.707Z"
   },
   {
    "duration": 52,
    "start_time": "2023-10-03T15:01:50.726Z"
   },
   {
    "duration": 37,
    "start_time": "2023-10-03T15:01:50.781Z"
   },
   {
    "duration": 35,
    "start_time": "2023-10-03T15:01:50.820Z"
   },
   {
    "duration": 375,
    "start_time": "2023-10-03T15:01:50.869Z"
   },
   {
    "duration": 116,
    "start_time": "2023-10-03T15:01:51.252Z"
   },
   {
    "duration": 336,
    "start_time": "2023-10-03T15:01:51.376Z"
   },
   {
    "duration": 201,
    "start_time": "2023-10-03T15:01:51.714Z"
   },
   {
    "duration": 170,
    "start_time": "2023-10-03T15:01:53.740Z"
   },
   {
    "duration": 12179,
    "start_time": "2023-10-03T15:01:55.167Z"
   },
   {
    "duration": 141,
    "start_time": "2023-10-03T15:02:33.607Z"
   },
   {
    "duration": 6,
    "start_time": "2023-10-03T15:03:00.073Z"
   },
   {
    "duration": 46,
    "start_time": "2023-10-03T15:03:00.082Z"
   },
   {
    "duration": 105,
    "start_time": "2023-10-03T15:03:00.129Z"
   },
   {
    "duration": 31,
    "start_time": "2023-10-03T15:03:00.236Z"
   },
   {
    "duration": 38,
    "start_time": "2023-10-03T15:03:00.279Z"
   },
   {
    "duration": 68,
    "start_time": "2023-10-03T15:03:00.320Z"
   },
   {
    "duration": 46,
    "start_time": "2023-10-03T15:03:00.390Z"
   },
   {
    "duration": 44,
    "start_time": "2023-10-03T15:03:00.438Z"
   },
   {
    "duration": 116,
    "start_time": "2023-10-03T15:03:00.485Z"
   },
   {
    "duration": 14,
    "start_time": "2023-10-03T15:03:00.603Z"
   },
   {
    "duration": 83,
    "start_time": "2023-10-03T15:03:00.619Z"
   },
   {
    "duration": 60,
    "start_time": "2023-10-03T15:03:00.705Z"
   },
   {
    "duration": 53,
    "start_time": "2023-10-03T15:03:00.769Z"
   },
   {
    "duration": 87,
    "start_time": "2023-10-03T15:03:00.827Z"
   },
   {
    "duration": 82,
    "start_time": "2023-10-03T15:03:00.916Z"
   },
   {
    "duration": 138,
    "start_time": "2023-10-03T15:03:01.000Z"
   },
   {
    "duration": 116,
    "start_time": "2023-10-03T15:03:01.140Z"
   },
   {
    "duration": 177,
    "start_time": "2023-10-03T15:03:01.263Z"
   },
   {
    "duration": 126,
    "start_time": "2023-10-03T15:03:01.442Z"
   },
   {
    "duration": 175,
    "start_time": "2023-10-03T15:03:01.572Z"
   },
   {
    "duration": 571,
    "start_time": "2023-10-03T15:03:01.749Z"
   },
   {
    "duration": 9,
    "start_time": "2023-10-03T15:03:02.327Z"
   },
   {
    "duration": 42,
    "start_time": "2023-10-03T15:03:02.342Z"
   },
   {
    "duration": 35,
    "start_time": "2023-10-03T15:03:02.386Z"
   },
   {
    "duration": 114,
    "start_time": "2023-10-03T15:03:02.423Z"
   },
   {
    "duration": 74,
    "start_time": "2023-10-03T15:03:02.539Z"
   },
   {
    "duration": 443,
    "start_time": "2023-10-03T15:03:02.615Z"
   },
   {
    "duration": 84,
    "start_time": "2023-10-03T15:03:03.067Z"
   },
   {
    "duration": 307,
    "start_time": "2023-10-03T15:03:03.154Z"
   },
   {
    "duration": 144,
    "start_time": "2023-10-03T15:03:03.467Z"
   },
   {
    "duration": 162,
    "start_time": "2023-10-03T15:03:05.144Z"
   },
   {
    "duration": 12138,
    "start_time": "2023-10-03T15:03:11.442Z"
   },
   {
    "duration": 134,
    "start_time": "2023-10-03T15:03:37.889Z"
   },
   {
    "duration": 220,
    "start_time": "2023-10-03T15:03:57.084Z"
   },
   {
    "duration": 172,
    "start_time": "2023-10-03T15:03:59.980Z"
   },
   {
    "duration": 421,
    "start_time": "2023-10-03T15:04:10.071Z"
   },
   {
    "duration": 172,
    "start_time": "2023-10-03T15:04:16.234Z"
   },
   {
    "duration": 171,
    "start_time": "2023-10-03T15:06:16.088Z"
   },
   {
    "duration": 209,
    "start_time": "2023-10-03T15:06:19.300Z"
   },
   {
    "duration": 182,
    "start_time": "2023-10-03T15:06:25.307Z"
   },
   {
    "duration": 180,
    "start_time": "2023-10-03T15:06:48.918Z"
   },
   {
    "duration": 181,
    "start_time": "2023-10-03T15:06:54.350Z"
   },
   {
    "duration": 761,
    "start_time": "2023-10-03T15:06:57.266Z"
   },
   {
    "duration": 822,
    "start_time": "2023-10-03T15:07:06.100Z"
   },
   {
    "duration": 1880,
    "start_time": "2023-10-03T15:07:27.810Z"
   },
   {
    "duration": 3146,
    "start_time": "2023-10-03T15:08:17.809Z"
   },
   {
    "duration": 3124,
    "start_time": "2023-10-03T15:08:32.695Z"
   },
   {
    "duration": 108,
    "start_time": "2023-10-03T15:08:42.915Z"
   },
   {
    "duration": 106,
    "start_time": "2023-10-03T15:08:48.720Z"
   },
   {
    "duration": 18,
    "start_time": "2023-10-03T15:09:00.183Z"
   },
   {
    "duration": 16,
    "start_time": "2023-10-03T15:09:12.116Z"
   },
   {
    "duration": 467,
    "start_time": "2023-10-03T15:09:27.907Z"
   },
   {
    "duration": 3216,
    "start_time": "2023-10-03T15:09:41.869Z"
   },
   {
    "duration": 167,
    "start_time": "2023-10-03T15:09:57.033Z"
   },
   {
    "duration": 744,
    "start_time": "2023-10-03T15:10:40.932Z"
   },
   {
    "duration": 811,
    "start_time": "2023-10-03T15:11:31.315Z"
   },
   {
    "duration": 639,
    "start_time": "2023-10-03T15:11:37.897Z"
   },
   {
    "duration": 789,
    "start_time": "2023-10-03T15:11:55.434Z"
   },
   {
    "duration": 807,
    "start_time": "2023-10-03T15:12:28.098Z"
   },
   {
    "duration": 742,
    "start_time": "2023-10-03T15:12:44.510Z"
   },
   {
    "duration": 5,
    "start_time": "2023-10-03T15:12:59.248Z"
   },
   {
    "duration": 18,
    "start_time": "2023-10-03T15:12:59.255Z"
   },
   {
    "duration": 65,
    "start_time": "2023-10-03T15:12:59.275Z"
   },
   {
    "duration": 41,
    "start_time": "2023-10-03T15:12:59.342Z"
   },
   {
    "duration": 18,
    "start_time": "2023-10-03T15:12:59.386Z"
   },
   {
    "duration": 6,
    "start_time": "2023-10-03T15:12:59.407Z"
   },
   {
    "duration": 19,
    "start_time": "2023-10-03T15:12:59.415Z"
   },
   {
    "duration": 15,
    "start_time": "2023-10-03T15:12:59.437Z"
   },
   {
    "duration": 143,
    "start_time": "2023-10-03T15:12:59.483Z"
   },
   {
    "duration": 26,
    "start_time": "2023-10-03T15:12:59.629Z"
   },
   {
    "duration": 66,
    "start_time": "2023-10-03T15:12:59.657Z"
   },
   {
    "duration": 35,
    "start_time": "2023-10-03T15:12:59.725Z"
   },
   {
    "duration": 22,
    "start_time": "2023-10-03T15:12:59.761Z"
   },
   {
    "duration": 36,
    "start_time": "2023-10-03T15:12:59.786Z"
   },
   {
    "duration": 35,
    "start_time": "2023-10-03T15:12:59.824Z"
   },
   {
    "duration": 51,
    "start_time": "2023-10-03T15:12:59.861Z"
   },
   {
    "duration": 7,
    "start_time": "2023-10-03T15:12:59.916Z"
   },
   {
    "duration": 31,
    "start_time": "2023-10-03T15:12:59.926Z"
   },
   {
    "duration": 29,
    "start_time": "2023-10-03T15:12:59.959Z"
   },
   {
    "duration": 108,
    "start_time": "2023-10-03T15:12:59.996Z"
   },
   {
    "duration": 372,
    "start_time": "2023-10-03T15:13:00.112Z"
   },
   {
    "duration": 7,
    "start_time": "2023-10-03T15:13:00.486Z"
   },
   {
    "duration": 99,
    "start_time": "2023-10-03T15:13:00.495Z"
   },
   {
    "duration": 129,
    "start_time": "2023-10-03T15:13:00.598Z"
   },
   {
    "duration": 37,
    "start_time": "2023-10-03T15:13:00.728Z"
   },
   {
    "duration": 110,
    "start_time": "2023-10-03T15:13:00.769Z"
   },
   {
    "duration": 361,
    "start_time": "2023-10-03T15:13:00.885Z"
   },
   {
    "duration": 113,
    "start_time": "2023-10-03T15:13:01.248Z"
   },
   {
    "duration": 352,
    "start_time": "2023-10-03T15:13:01.369Z"
   },
   {
    "duration": 204,
    "start_time": "2023-10-03T15:13:01.723Z"
   },
   {
    "duration": 2898,
    "start_time": "2023-10-03T15:13:01.929Z"
   },
   {
    "duration": 286,
    "start_time": "2023-10-03T15:13:04.831Z"
   },
   {
    "duration": 200,
    "start_time": "2023-10-03T15:13:05.119Z"
   },
   {
    "duration": 154,
    "start_time": "2023-10-03T15:13:05.321Z"
   },
   {
    "duration": 498,
    "start_time": "2023-10-03T15:13:05.489Z"
   },
   {
    "duration": 3357,
    "start_time": "2023-10-03T15:13:05.993Z"
   },
   {
    "duration": 173,
    "start_time": "2023-10-03T15:13:09.355Z"
   },
   {
    "duration": 126,
    "start_time": "2023-10-03T15:13:37.109Z"
   },
   {
    "duration": 58,
    "start_time": "2023-10-03T15:13:51.701Z"
   },
   {
    "duration": 81,
    "start_time": "2023-10-03T15:13:58.474Z"
   },
   {
    "duration": 116,
    "start_time": "2023-10-03T15:14:00.951Z"
   },
   {
    "duration": 81,
    "start_time": "2023-10-03T15:14:04.804Z"
   },
   {
    "duration": 86,
    "start_time": "2023-10-03T15:14:06.877Z"
   },
   {
    "duration": 66,
    "start_time": "2023-10-03T15:14:09.289Z"
   },
   {
    "duration": 731,
    "start_time": "2023-10-03T15:14:17.330Z"
   },
   {
    "duration": 7,
    "start_time": "2023-10-03T15:14:42.768Z"
   },
   {
    "duration": 9,
    "start_time": "2023-10-03T15:14:42.778Z"
   },
   {
    "duration": 64,
    "start_time": "2023-10-03T15:14:42.790Z"
   },
   {
    "duration": 32,
    "start_time": "2023-10-03T15:14:42.856Z"
   },
   {
    "duration": 20,
    "start_time": "2023-10-03T15:14:42.896Z"
   },
   {
    "duration": 5,
    "start_time": "2023-10-03T15:14:42.919Z"
   },
   {
    "duration": 50,
    "start_time": "2023-10-03T15:14:42.926Z"
   },
   {
    "duration": 14,
    "start_time": "2023-10-03T15:14:42.984Z"
   },
   {
    "duration": 123,
    "start_time": "2023-10-03T15:14:43.004Z"
   },
   {
    "duration": 12,
    "start_time": "2023-10-03T15:14:43.128Z"
   },
   {
    "duration": 38,
    "start_time": "2023-10-03T15:14:43.142Z"
   },
   {
    "duration": 30,
    "start_time": "2023-10-03T15:14:43.182Z"
   },
   {
    "duration": 46,
    "start_time": "2023-10-03T15:14:43.214Z"
   },
   {
    "duration": 23,
    "start_time": "2023-10-03T15:14:43.264Z"
   },
   {
    "duration": 34,
    "start_time": "2023-10-03T15:14:43.293Z"
   },
   {
    "duration": 58,
    "start_time": "2023-10-03T15:14:43.329Z"
   },
   {
    "duration": 13,
    "start_time": "2023-10-03T15:14:43.396Z"
   },
   {
    "duration": 44,
    "start_time": "2023-10-03T15:14:43.411Z"
   },
   {
    "duration": 11,
    "start_time": "2023-10-03T15:14:43.457Z"
   },
   {
    "duration": 104,
    "start_time": "2023-10-03T15:14:43.470Z"
   },
   {
    "duration": 335,
    "start_time": "2023-10-03T15:14:43.647Z"
   },
   {
    "duration": 9,
    "start_time": "2023-10-03T15:14:43.989Z"
   },
   {
    "duration": 63,
    "start_time": "2023-10-03T15:14:44.013Z"
   },
   {
    "duration": 70,
    "start_time": "2023-10-03T15:14:44.079Z"
   },
   {
    "duration": 26,
    "start_time": "2023-10-03T15:14:44.151Z"
   },
   {
    "duration": 110,
    "start_time": "2023-10-03T15:14:44.179Z"
   },
   {
    "duration": 359,
    "start_time": "2023-10-03T15:14:44.302Z"
   },
   {
    "duration": 89,
    "start_time": "2023-10-03T15:14:44.663Z"
   },
   {
    "duration": 314,
    "start_time": "2023-10-03T15:14:44.760Z"
   },
   {
    "duration": 196,
    "start_time": "2023-10-03T15:14:45.076Z"
   },
   {
    "duration": 2885,
    "start_time": "2023-10-03T15:14:45.275Z"
   },
   {
    "duration": 264,
    "start_time": "2023-10-03T15:14:48.162Z"
   },
   {
    "duration": 205,
    "start_time": "2023-10-03T15:14:48.428Z"
   },
   {
    "duration": 154,
    "start_time": "2023-10-03T15:14:48.635Z"
   },
   {
    "duration": 511,
    "start_time": "2023-10-03T15:14:48.791Z"
   },
   {
    "duration": 3283,
    "start_time": "2023-10-03T15:14:49.304Z"
   },
   {
    "duration": 154,
    "start_time": "2023-10-03T15:14:52.589Z"
   },
   {
    "duration": 786,
    "start_time": "2023-10-03T15:14:52.744Z"
   },
   {
    "duration": 21865,
    "start_time": "2023-10-03T15:20:28.729Z"
   },
   {
    "duration": 55437,
    "start_time": "2023-10-03T15:20:54.525Z"
   },
   {
    "duration": 377781,
    "start_time": "2023-10-03T15:23:24.996Z"
   },
   {
    "duration": 418696,
    "start_time": "2023-10-03T15:30:35.446Z"
   },
   {
    "duration": 7634,
    "start_time": "2023-10-03T17:48:48.490Z"
   },
   {
    "duration": 7392,
    "start_time": "2023-10-03T17:49:04.930Z"
   },
   {
    "duration": 7351,
    "start_time": "2023-10-03T17:49:31.777Z"
   },
   {
    "duration": 304,
    "start_time": "2023-10-03T17:50:27.393Z"
   },
   {
    "duration": 291,
    "start_time": "2023-10-03T17:50:43.661Z"
   },
   {
    "duration": 35614,
    "start_time": "2023-10-03T17:51:44.098Z"
   },
   {
    "duration": 463268,
    "start_time": "2023-10-03T17:52:25.441Z"
   },
   {
    "duration": 328,
    "start_time": "2023-10-03T18:00:33.789Z"
   },
   {
    "duration": 1202,
    "start_time": "2023-10-03T18:01:15.034Z"
   },
   {
    "duration": 2460,
    "start_time": "2023-10-03T18:01:46.741Z"
   },
   {
    "duration": 141,
    "start_time": "2023-10-03T18:03:06.675Z"
   },
   {
    "duration": 19,
    "start_time": "2023-10-03T18:06:55.881Z"
   },
   {
    "duration": 21,
    "start_time": "2023-10-03T18:07:03.933Z"
   },
   {
    "duration": 123,
    "start_time": "2023-10-03T18:14:10.093Z"
   },
   {
    "duration": 111,
    "start_time": "2023-10-03T18:15:22.393Z"
   },
   {
    "duration": 116,
    "start_time": "2023-10-03T18:16:08.310Z"
   },
   {
    "duration": 136,
    "start_time": "2023-10-03T18:19:42.372Z"
   },
   {
    "duration": 23,
    "start_time": "2023-10-03T18:20:09.937Z"
   },
   {
    "duration": 138,
    "start_time": "2023-10-03T18:20:11.782Z"
   },
   {
    "duration": 227,
    "start_time": "2023-10-03T18:20:44.072Z"
   },
   {
    "duration": 9,
    "start_time": "2023-10-03T18:23:21.875Z"
   },
   {
    "duration": 35,
    "start_time": "2023-10-03T18:23:21.887Z"
   },
   {
    "duration": 84,
    "start_time": "2023-10-03T18:23:21.923Z"
   },
   {
    "duration": 23,
    "start_time": "2023-10-03T18:23:22.010Z"
   },
   {
    "duration": 61,
    "start_time": "2023-10-03T18:23:22.035Z"
   },
   {
    "duration": 13,
    "start_time": "2023-10-03T18:23:22.099Z"
   },
   {
    "duration": 17,
    "start_time": "2023-10-03T18:23:22.114Z"
   },
   {
    "duration": 5,
    "start_time": "2023-10-03T18:23:22.133Z"
   },
   {
    "duration": 120,
    "start_time": "2023-10-03T18:23:22.139Z"
   },
   {
    "duration": 26,
    "start_time": "2023-10-03T18:23:22.266Z"
   },
   {
    "duration": 5,
    "start_time": "2023-10-03T18:23:22.294Z"
   },
   {
    "duration": 6,
    "start_time": "2023-10-03T18:23:22.301Z"
   },
   {
    "duration": 105,
    "start_time": "2023-10-03T18:23:22.309Z"
   },
   {
    "duration": 0,
    "start_time": "2023-10-03T18:23:22.416Z"
   },
   {
    "duration": 0,
    "start_time": "2023-10-03T18:23:22.417Z"
   },
   {
    "duration": 0,
    "start_time": "2023-10-03T18:23:22.418Z"
   },
   {
    "duration": 0,
    "start_time": "2023-10-03T18:23:22.419Z"
   },
   {
    "duration": 0,
    "start_time": "2023-10-03T18:23:22.420Z"
   },
   {
    "duration": 0,
    "start_time": "2023-10-03T18:23:22.421Z"
   },
   {
    "duration": 0,
    "start_time": "2023-10-03T18:23:22.422Z"
   },
   {
    "duration": 0,
    "start_time": "2023-10-03T18:23:22.423Z"
   },
   {
    "duration": 0,
    "start_time": "2023-10-03T18:23:22.424Z"
   },
   {
    "duration": 0,
    "start_time": "2023-10-03T18:23:22.425Z"
   },
   {
    "duration": 0,
    "start_time": "2023-10-03T18:23:22.426Z"
   },
   {
    "duration": 0,
    "start_time": "2023-10-03T18:23:22.426Z"
   },
   {
    "duration": 0,
    "start_time": "2023-10-03T18:23:22.427Z"
   },
   {
    "duration": 0,
    "start_time": "2023-10-03T18:23:22.428Z"
   },
   {
    "duration": 0,
    "start_time": "2023-10-03T18:23:22.429Z"
   },
   {
    "duration": 0,
    "start_time": "2023-10-03T18:23:22.430Z"
   },
   {
    "duration": 0,
    "start_time": "2023-10-03T18:23:22.431Z"
   },
   {
    "duration": 0,
    "start_time": "2023-10-03T18:23:22.432Z"
   },
   {
    "duration": 0,
    "start_time": "2023-10-03T18:23:22.433Z"
   },
   {
    "duration": 0,
    "start_time": "2023-10-03T18:23:22.434Z"
   },
   {
    "duration": 0,
    "start_time": "2023-10-03T18:23:22.435Z"
   },
   {
    "duration": 0,
    "start_time": "2023-10-03T18:23:22.436Z"
   },
   {
    "duration": 0,
    "start_time": "2023-10-03T18:23:22.437Z"
   },
   {
    "duration": 0,
    "start_time": "2023-10-03T18:23:22.438Z"
   },
   {
    "duration": 0,
    "start_time": "2023-10-03T18:23:22.439Z"
   },
   {
    "duration": 0,
    "start_time": "2023-10-03T18:23:22.440Z"
   },
   {
    "duration": 0,
    "start_time": "2023-10-03T18:23:22.441Z"
   },
   {
    "duration": 5,
    "start_time": "2023-10-03T18:23:29.129Z"
   },
   {
    "duration": 26,
    "start_time": "2023-10-03T18:23:29.136Z"
   },
   {
    "duration": 58,
    "start_time": "2023-10-03T18:23:29.164Z"
   },
   {
    "duration": 18,
    "start_time": "2023-10-03T18:23:29.224Z"
   },
   {
    "duration": 26,
    "start_time": "2023-10-03T18:23:29.246Z"
   },
   {
    "duration": 18,
    "start_time": "2023-10-03T18:23:29.278Z"
   },
   {
    "duration": 10,
    "start_time": "2023-10-03T18:23:29.304Z"
   },
   {
    "duration": 11,
    "start_time": "2023-10-03T18:23:29.316Z"
   },
   {
    "duration": 138,
    "start_time": "2023-10-03T18:23:29.328Z"
   },
   {
    "duration": 18,
    "start_time": "2023-10-03T18:23:29.476Z"
   },
   {
    "duration": 7,
    "start_time": "2023-10-03T18:23:29.499Z"
   },
   {
    "duration": 8,
    "start_time": "2023-10-03T18:23:29.508Z"
   },
   {
    "duration": 111,
    "start_time": "2023-10-03T18:23:29.518Z"
   },
   {
    "duration": 0,
    "start_time": "2023-10-03T18:23:29.630Z"
   },
   {
    "duration": 0,
    "start_time": "2023-10-03T18:23:29.631Z"
   },
   {
    "duration": 0,
    "start_time": "2023-10-03T18:23:29.633Z"
   },
   {
    "duration": 0,
    "start_time": "2023-10-03T18:23:29.634Z"
   },
   {
    "duration": 0,
    "start_time": "2023-10-03T18:23:29.635Z"
   },
   {
    "duration": 0,
    "start_time": "2023-10-03T18:23:29.636Z"
   },
   {
    "duration": 0,
    "start_time": "2023-10-03T18:23:29.637Z"
   },
   {
    "duration": 0,
    "start_time": "2023-10-03T18:23:29.638Z"
   },
   {
    "duration": 0,
    "start_time": "2023-10-03T18:23:29.639Z"
   },
   {
    "duration": 0,
    "start_time": "2023-10-03T18:23:29.640Z"
   },
   {
    "duration": 0,
    "start_time": "2023-10-03T18:23:29.641Z"
   },
   {
    "duration": 0,
    "start_time": "2023-10-03T18:23:29.642Z"
   },
   {
    "duration": 0,
    "start_time": "2023-10-03T18:23:29.643Z"
   },
   {
    "duration": 0,
    "start_time": "2023-10-03T18:23:29.644Z"
   },
   {
    "duration": 0,
    "start_time": "2023-10-03T18:23:29.644Z"
   },
   {
    "duration": 0,
    "start_time": "2023-10-03T18:23:29.645Z"
   },
   {
    "duration": 0,
    "start_time": "2023-10-03T18:23:29.646Z"
   },
   {
    "duration": 0,
    "start_time": "2023-10-03T18:23:29.651Z"
   },
   {
    "duration": 0,
    "start_time": "2023-10-03T18:23:29.652Z"
   },
   {
    "duration": 0,
    "start_time": "2023-10-03T18:23:29.652Z"
   },
   {
    "duration": 0,
    "start_time": "2023-10-03T18:23:29.658Z"
   },
   {
    "duration": 0,
    "start_time": "2023-10-03T18:23:29.659Z"
   },
   {
    "duration": 0,
    "start_time": "2023-10-03T18:23:29.660Z"
   },
   {
    "duration": 0,
    "start_time": "2023-10-03T18:23:29.660Z"
   },
   {
    "duration": 0,
    "start_time": "2023-10-03T18:23:29.661Z"
   },
   {
    "duration": 0,
    "start_time": "2023-10-03T18:23:29.667Z"
   },
   {
    "duration": 0,
    "start_time": "2023-10-03T18:23:29.668Z"
   },
   {
    "duration": 8,
    "start_time": "2023-10-03T18:23:49.041Z"
   },
   {
    "duration": 19,
    "start_time": "2023-10-03T18:23:49.050Z"
   },
   {
    "duration": 51,
    "start_time": "2023-10-03T18:23:49.073Z"
   },
   {
    "duration": 14,
    "start_time": "2023-10-03T18:23:49.126Z"
   },
   {
    "duration": 43,
    "start_time": "2023-10-03T18:23:49.141Z"
   },
   {
    "duration": 9,
    "start_time": "2023-10-03T18:23:49.186Z"
   },
   {
    "duration": 30,
    "start_time": "2023-10-03T18:23:49.197Z"
   },
   {
    "duration": 25,
    "start_time": "2023-10-03T18:23:49.229Z"
   },
   {
    "duration": 119,
    "start_time": "2023-10-03T18:23:49.257Z"
   },
   {
    "duration": 15,
    "start_time": "2023-10-03T18:23:49.384Z"
   },
   {
    "duration": 5,
    "start_time": "2023-10-03T18:23:49.401Z"
   },
   {
    "duration": 7,
    "start_time": "2023-10-03T18:23:49.407Z"
   },
   {
    "duration": 8,
    "start_time": "2023-10-03T18:23:49.416Z"
   },
   {
    "duration": 12,
    "start_time": "2023-10-03T18:23:49.426Z"
   },
   {
    "duration": 40,
    "start_time": "2023-10-03T18:23:49.440Z"
   },
   {
    "duration": 12,
    "start_time": "2023-10-03T18:23:49.481Z"
   },
   {
    "duration": 19,
    "start_time": "2023-10-03T18:23:49.495Z"
   },
   {
    "duration": 6,
    "start_time": "2023-10-03T18:23:49.516Z"
   },
   {
    "duration": 135,
    "start_time": "2023-10-03T18:23:49.524Z"
   },
   {
    "duration": 338,
    "start_time": "2023-10-03T18:23:49.665Z"
   },
   {
    "duration": 4,
    "start_time": "2023-10-03T18:23:50.004Z"
   },
   {
    "duration": 28,
    "start_time": "2023-10-03T18:23:50.010Z"
   },
   {
    "duration": 57,
    "start_time": "2023-10-03T18:23:50.040Z"
   },
   {
    "duration": 19,
    "start_time": "2023-10-03T18:23:50.100Z"
   },
   {
    "duration": 34,
    "start_time": "2023-10-03T18:23:50.121Z"
   },
   {
    "duration": 306,
    "start_time": "2023-10-03T18:23:50.165Z"
   },
   {
    "duration": 85,
    "start_time": "2023-10-03T18:23:50.474Z"
   },
   {
    "duration": 312,
    "start_time": "2023-10-03T18:23:50.565Z"
   },
   {
    "duration": 154,
    "start_time": "2023-10-03T18:23:50.881Z"
   },
   {
    "duration": 2728,
    "start_time": "2023-10-03T18:23:51.037Z"
   },
   {
    "duration": 214,
    "start_time": "2023-10-03T18:23:53.776Z"
   },
   {
    "duration": 198,
    "start_time": "2023-10-03T18:23:53.994Z"
   },
   {
    "duration": 143,
    "start_time": "2023-10-03T18:23:54.194Z"
   },
   {
    "duration": 475,
    "start_time": "2023-10-03T18:23:54.338Z"
   },
   {
    "duration": 2997,
    "start_time": "2023-10-03T18:23:54.815Z"
   },
   {
    "duration": 162,
    "start_time": "2023-10-03T18:23:57.813Z"
   },
   {
    "duration": 2299,
    "start_time": "2023-10-03T18:23:57.976Z"
   },
   {
    "duration": 151,
    "start_time": "2023-10-03T18:24:00.277Z"
   },
   {
    "duration": 32,
    "start_time": "2023-10-03T18:24:00.430Z"
   },
   {
    "duration": 205,
    "start_time": "2023-10-03T18:24:00.464Z"
   },
   {
    "duration": 107,
    "start_time": "2023-10-04T11:14:20.634Z"
   },
   {
    "duration": 116,
    "start_time": "2023-10-05T14:30:28.429Z"
   },
   {
    "duration": 1603,
    "start_time": "2023-10-05T14:32:55.100Z"
   },
   {
    "duration": 3,
    "start_time": "2023-10-05T14:32:56.705Z"
   },
   {
    "duration": 111,
    "start_time": "2023-10-05T14:32:56.709Z"
   },
   {
    "duration": 18,
    "start_time": "2023-10-05T14:32:56.822Z"
   },
   {
    "duration": 24,
    "start_time": "2023-10-05T14:32:56.841Z"
   },
   {
    "duration": 24,
    "start_time": "2023-10-05T14:32:56.866Z"
   },
   {
    "duration": 30,
    "start_time": "2023-10-05T14:32:56.892Z"
   },
   {
    "duration": 26,
    "start_time": "2023-10-05T14:32:56.923Z"
   },
   {
    "duration": 137,
    "start_time": "2023-10-05T14:32:56.950Z"
   },
   {
    "duration": 116,
    "start_time": "2023-10-05T14:32:59.620Z"
   },
   {
    "duration": 1032,
    "start_time": "2023-10-05T14:34:05.311Z"
   },
   {
    "duration": 1035,
    "start_time": "2023-10-05T14:35:03.223Z"
   },
   {
    "duration": 1054,
    "start_time": "2023-10-05T14:35:24.033Z"
   },
   {
    "duration": 1049,
    "start_time": "2023-10-05T14:35:33.821Z"
   },
   {
    "duration": 5,
    "start_time": "2023-10-05T14:35:56.335Z"
   },
   {
    "duration": 14,
    "start_time": "2023-10-05T14:35:56.341Z"
   },
   {
    "duration": 43,
    "start_time": "2023-10-05T14:35:56.357Z"
   },
   {
    "duration": 15,
    "start_time": "2023-10-05T14:35:56.401Z"
   },
   {
    "duration": 29,
    "start_time": "2023-10-05T14:35:56.418Z"
   },
   {
    "duration": 17,
    "start_time": "2023-10-05T14:35:56.449Z"
   },
   {
    "duration": 30,
    "start_time": "2023-10-05T14:35:56.468Z"
   },
   {
    "duration": 22,
    "start_time": "2023-10-05T14:35:56.500Z"
   },
   {
    "duration": 25,
    "start_time": "2023-10-05T14:35:56.523Z"
   },
   {
    "duration": 1018,
    "start_time": "2023-10-05T14:36:00.013Z"
   },
   {
    "duration": 1011,
    "start_time": "2023-10-05T14:36:16.533Z"
   },
   {
    "duration": 1019,
    "start_time": "2023-10-05T14:37:01.558Z"
   },
   {
    "duration": 1012,
    "start_time": "2023-10-05T14:37:40.357Z"
   },
   {
    "duration": 1035,
    "start_time": "2023-10-05T14:37:47.452Z"
   },
   {
    "duration": 1022,
    "start_time": "2023-10-05T14:37:58.391Z"
   },
   {
    "duration": 4,
    "start_time": "2023-10-05T14:38:14.222Z"
   },
   {
    "duration": 1031,
    "start_time": "2023-10-05T14:38:17.085Z"
   },
   {
    "duration": 1010,
    "start_time": "2023-10-05T14:38:41.163Z"
   },
   {
    "duration": 1018,
    "start_time": "2023-10-05T14:38:51.586Z"
   },
   {
    "duration": 1025,
    "start_time": "2023-10-05T14:39:05.947Z"
   },
   {
    "duration": 1083,
    "start_time": "2023-10-05T14:39:23.720Z"
   },
   {
    "duration": 1054,
    "start_time": "2023-10-05T14:39:46.443Z"
   },
   {
    "duration": 1119,
    "start_time": "2023-10-05T14:39:55.444Z"
   },
   {
    "duration": 6,
    "start_time": "2023-10-05T14:40:10.491Z"
   },
   {
    "duration": 1085,
    "start_time": "2023-10-05T14:40:23.225Z"
   },
   {
    "duration": 1031,
    "start_time": "2023-10-05T14:40:33.577Z"
   },
   {
    "duration": 116,
    "start_time": "2023-10-05T14:42:09.912Z"
   },
   {
    "duration": 21,
    "start_time": "2023-10-05T14:42:16.914Z"
   },
   {
    "duration": 25,
    "start_time": "2023-10-05T14:43:01.150Z"
   },
   {
    "duration": 11,
    "start_time": "2023-10-05T14:43:18.677Z"
   },
   {
    "duration": 26,
    "start_time": "2023-10-05T14:43:34.815Z"
   },
   {
    "duration": 25,
    "start_time": "2023-10-05T14:43:43.099Z"
   },
   {
    "duration": 21,
    "start_time": "2023-10-05T14:43:46.250Z"
   },
   {
    "duration": 16,
    "start_time": "2023-10-05T14:44:03.445Z"
   },
   {
    "duration": 4,
    "start_time": "2023-10-05T14:44:06.781Z"
   },
   {
    "duration": 16,
    "start_time": "2023-10-05T14:44:06.787Z"
   },
   {
    "duration": 74,
    "start_time": "2023-10-05T14:44:06.805Z"
   },
   {
    "duration": 13,
    "start_time": "2023-10-05T14:44:06.881Z"
   },
   {
    "duration": 46,
    "start_time": "2023-10-05T14:44:06.895Z"
   },
   {
    "duration": 15,
    "start_time": "2023-10-05T14:44:06.943Z"
   },
   {
    "duration": 9,
    "start_time": "2023-10-05T14:44:06.960Z"
   },
   {
    "duration": 7,
    "start_time": "2023-10-05T14:44:06.971Z"
   },
   {
    "duration": 11,
    "start_time": "2023-10-05T14:44:06.980Z"
   },
   {
    "duration": 14,
    "start_time": "2023-10-05T14:44:09.568Z"
   },
   {
    "duration": 3,
    "start_time": "2023-10-05T14:44:15.287Z"
   },
   {
    "duration": 15,
    "start_time": "2023-10-05T14:44:15.292Z"
   },
   {
    "duration": 43,
    "start_time": "2023-10-05T14:44:15.309Z"
   },
   {
    "duration": 14,
    "start_time": "2023-10-05T14:44:15.354Z"
   },
   {
    "duration": 32,
    "start_time": "2023-10-05T14:44:15.370Z"
   },
   {
    "duration": 15,
    "start_time": "2023-10-05T14:44:15.404Z"
   },
   {
    "duration": 12,
    "start_time": "2023-10-05T14:44:15.421Z"
   },
   {
    "duration": 5,
    "start_time": "2023-10-05T14:44:15.435Z"
   },
   {
    "duration": 2,
    "start_time": "2023-10-05T14:44:15.443Z"
   },
   {
    "duration": 15,
    "start_time": "2023-10-05T14:44:18.104Z"
   },
   {
    "duration": 3,
    "start_time": "2023-10-05T14:44:23.998Z"
   },
   {
    "duration": 23,
    "start_time": "2023-10-05T14:44:24.004Z"
   },
   {
    "duration": 52,
    "start_time": "2023-10-05T14:44:24.029Z"
   },
   {
    "duration": 14,
    "start_time": "2023-10-05T14:44:24.083Z"
   },
   {
    "duration": 24,
    "start_time": "2023-10-05T14:44:24.099Z"
   },
   {
    "duration": 9,
    "start_time": "2023-10-05T14:44:24.125Z"
   },
   {
    "duration": 21,
    "start_time": "2023-10-05T14:44:24.135Z"
   },
   {
    "duration": 14,
    "start_time": "2023-10-05T14:44:24.158Z"
   },
   {
    "duration": 15,
    "start_time": "2023-10-05T14:44:24.175Z"
   },
   {
    "duration": 10,
    "start_time": "2023-10-05T14:44:25.922Z"
   },
   {
    "duration": 4,
    "start_time": "2023-10-05T14:44:45.798Z"
   },
   {
    "duration": 14,
    "start_time": "2023-10-05T14:44:45.804Z"
   },
   {
    "duration": 68,
    "start_time": "2023-10-05T14:44:45.819Z"
   },
   {
    "duration": 14,
    "start_time": "2023-10-05T14:44:45.888Z"
   },
   {
    "duration": 53,
    "start_time": "2023-10-05T14:44:45.904Z"
   },
   {
    "duration": 45,
    "start_time": "2023-10-05T14:44:45.959Z"
   },
   {
    "duration": 25,
    "start_time": "2023-10-05T14:44:46.006Z"
   },
   {
    "duration": 39,
    "start_time": "2023-10-05T14:44:46.033Z"
   },
   {
    "duration": 63,
    "start_time": "2023-10-05T14:44:46.073Z"
   },
   {
    "duration": 8,
    "start_time": "2023-10-05T14:44:49.340Z"
   },
   {
    "duration": 5,
    "start_time": "2023-10-05T14:45:02.677Z"
   },
   {
    "duration": 1470,
    "start_time": "2023-10-05T14:45:28.790Z"
   },
   {
    "duration": 3,
    "start_time": "2023-10-05T14:45:30.262Z"
   },
   {
    "duration": 42,
    "start_time": "2023-10-05T14:45:31.784Z"
   },
   {
    "duration": 65,
    "start_time": "2023-10-05T14:45:31.828Z"
   },
   {
    "duration": 56,
    "start_time": "2023-10-05T14:45:31.895Z"
   },
   {
    "duration": 5,
    "start_time": "2023-10-05T14:45:34.237Z"
   },
   {
    "duration": 8,
    "start_time": "2023-10-05T14:45:35.484Z"
   },
   {
    "duration": 4,
    "start_time": "2023-10-05T14:45:36.018Z"
   },
   {
    "duration": 2,
    "start_time": "2023-10-05T14:45:37.287Z"
   },
   {
    "duration": 102,
    "start_time": "2023-10-05T14:45:46.871Z"
   },
   {
    "duration": 8,
    "start_time": "2023-10-05T14:45:50.532Z"
   },
   {
    "duration": 10,
    "start_time": "2023-10-05T14:45:52.929Z"
   },
   {
    "duration": 9,
    "start_time": "2023-10-05T14:45:59.539Z"
   },
   {
    "duration": 17,
    "start_time": "2023-10-05T14:46:10.684Z"
   },
   {
    "duration": 22,
    "start_time": "2023-10-05T14:46:22.071Z"
   },
   {
    "duration": 27,
    "start_time": "2023-10-05T14:47:02.664Z"
   },
   {
    "duration": 38,
    "start_time": "2023-10-05T14:47:08.362Z"
   },
   {
    "duration": 25,
    "start_time": "2023-10-05T14:47:31.744Z"
   },
   {
    "duration": 34,
    "start_time": "2023-10-05T14:51:10.607Z"
   },
   {
    "duration": 3,
    "start_time": "2023-10-05T14:51:19.376Z"
   },
   {
    "duration": 35,
    "start_time": "2023-10-05T14:51:21.788Z"
   },
   {
    "duration": 223,
    "start_time": "2023-10-05T14:51:52.524Z"
   },
   {
    "duration": 187,
    "start_time": "2023-10-05T14:51:58.859Z"
   },
   {
    "duration": 190,
    "start_time": "2023-10-05T14:52:07.554Z"
   },
   {
    "duration": 209,
    "start_time": "2023-10-05T14:53:06.557Z"
   },
   {
    "duration": 57,
    "start_time": "2023-10-05T14:53:19.687Z"
   },
   {
    "duration": 209,
    "start_time": "2023-10-05T14:53:24.437Z"
   },
   {
    "duration": 52,
    "start_time": "2023-10-05T14:54:05.700Z"
   },
   {
    "duration": 86,
    "start_time": "2023-10-05T14:54:14.259Z"
   },
   {
    "duration": 215,
    "start_time": "2023-10-05T14:54:50.039Z"
   },
   {
    "duration": 131,
    "start_time": "2023-10-05T14:55:14.222Z"
   },
   {
    "duration": 236,
    "start_time": "2023-10-05T14:55:19.423Z"
   },
   {
    "duration": 117,
    "start_time": "2023-10-05T15:00:05.315Z"
   },
   {
    "duration": 14,
    "start_time": "2023-10-05T15:00:12.683Z"
   },
   {
    "duration": 17,
    "start_time": "2023-10-05T15:00:18.423Z"
   },
   {
    "duration": 12,
    "start_time": "2023-10-05T15:00:19.790Z"
   },
   {
    "duration": 158,
    "start_time": "2023-10-05T15:04:37.865Z"
   },
   {
    "duration": 139,
    "start_time": "2023-10-05T15:05:49.305Z"
   },
   {
    "duration": 4,
    "start_time": "2023-10-05T20:44:51.141Z"
   },
   {
    "duration": 98,
    "start_time": "2023-10-05T20:44:51.147Z"
   },
   {
    "duration": 62,
    "start_time": "2023-10-05T20:44:51.247Z"
   },
   {
    "duration": 14,
    "start_time": "2023-10-05T20:44:51.311Z"
   },
   {
    "duration": 52,
    "start_time": "2023-10-05T20:44:51.326Z"
   },
   {
    "duration": 1338,
    "start_time": "2023-10-05T20:44:51.380Z"
   },
   {
    "duration": 0,
    "start_time": "2023-10-05T20:44:52.719Z"
   },
   {
    "duration": 0,
    "start_time": "2023-10-05T20:44:52.721Z"
   },
   {
    "duration": 0,
    "start_time": "2023-10-05T20:44:52.722Z"
   },
   {
    "duration": 0,
    "start_time": "2023-10-05T20:44:52.723Z"
   },
   {
    "duration": 0,
    "start_time": "2023-10-05T20:44:52.724Z"
   },
   {
    "duration": 0,
    "start_time": "2023-10-05T20:44:52.725Z"
   },
   {
    "duration": 0,
    "start_time": "2023-10-05T20:44:52.726Z"
   },
   {
    "duration": 0,
    "start_time": "2023-10-05T20:44:52.727Z"
   },
   {
    "duration": 0,
    "start_time": "2023-10-05T20:44:52.728Z"
   },
   {
    "duration": 0,
    "start_time": "2023-10-05T20:44:52.729Z"
   },
   {
    "duration": 0,
    "start_time": "2023-10-05T20:44:52.730Z"
   },
   {
    "duration": 0,
    "start_time": "2023-10-05T20:44:52.731Z"
   },
   {
    "duration": 0,
    "start_time": "2023-10-05T20:44:52.732Z"
   },
   {
    "duration": 0,
    "start_time": "2023-10-05T20:44:52.733Z"
   },
   {
    "duration": 0,
    "start_time": "2023-10-05T20:44:52.734Z"
   },
   {
    "duration": 9,
    "start_time": "2023-10-05T20:44:56.615Z"
   },
   {
    "duration": 3,
    "start_time": "2023-10-05T20:45:39.562Z"
   },
   {
    "duration": 3,
    "start_time": "2023-10-05T20:45:41.634Z"
   },
   {
    "duration": 6,
    "start_time": "2023-10-05T20:45:41.639Z"
   },
   {
    "duration": 48,
    "start_time": "2023-10-05T20:45:41.646Z"
   },
   {
    "duration": 13,
    "start_time": "2023-10-05T20:45:41.696Z"
   },
   {
    "duration": 12,
    "start_time": "2023-10-05T20:45:41.711Z"
   },
   {
    "duration": 13,
    "start_time": "2023-10-05T20:45:41.725Z"
   },
   {
    "duration": 3,
    "start_time": "2023-10-05T20:45:42.551Z"
   },
   {
    "duration": 6,
    "start_time": "2023-10-05T20:45:43.449Z"
   },
   {
    "duration": 6,
    "start_time": "2023-10-05T20:45:44.685Z"
   },
   {
    "duration": 4,
    "start_time": "2023-10-05T20:45:45.618Z"
   },
   {
    "duration": 5,
    "start_time": "2023-10-05T20:45:47.304Z"
   },
   {
    "duration": 10,
    "start_time": "2023-10-05T20:45:51.462Z"
   },
   {
    "duration": 6,
    "start_time": "2023-10-05T20:45:52.445Z"
   },
   {
    "duration": 3,
    "start_time": "2023-10-05T20:45:53.737Z"
   },
   {
    "duration": 167,
    "start_time": "2023-10-05T20:45:59.583Z"
   },
   {
    "duration": 11,
    "start_time": "2023-10-05T20:46:01.648Z"
   },
   {
    "duration": 16,
    "start_time": "2023-10-05T20:46:03.361Z"
   },
   {
    "duration": 11,
    "start_time": "2023-10-05T20:46:04.323Z"
   },
   {
    "duration": 142,
    "start_time": "2023-10-05T20:46:09.506Z"
   },
   {
    "duration": 4,
    "start_time": "2023-10-05T20:46:15.082Z"
   },
   {
    "duration": 11,
    "start_time": "2023-10-05T20:46:17.042Z"
   },
   {
    "duration": 5,
    "start_time": "2023-10-05T20:46:19.131Z"
   },
   {
    "duration": 109,
    "start_time": "2023-10-05T20:46:22.139Z"
   },
   {
    "duration": 242,
    "start_time": "2023-10-05T20:46:23.313Z"
   },
   {
    "duration": 12,
    "start_time": "2023-10-05T20:46:27.206Z"
   },
   {
    "duration": 55,
    "start_time": "2023-10-05T20:46:34.635Z"
   },
   {
    "duration": 209,
    "start_time": "2023-10-05T20:46:36.335Z"
   },
   {
    "duration": 111,
    "start_time": "2023-10-05T20:48:36.802Z"
   },
   {
    "duration": 869,
    "start_time": "2023-10-05T20:48:38.066Z"
   },
   {
    "duration": 179,
    "start_time": "2023-10-05T20:48:39.979Z"
   },
   {
    "duration": 114,
    "start_time": "2023-10-05T20:49:17.176Z"
   },
   {
    "duration": 11,
    "start_time": "2023-10-05T20:50:37.429Z"
   },
   {
    "duration": 7,
    "start_time": "2023-10-05T20:51:25.294Z"
   },
   {
    "duration": 6,
    "start_time": "2023-10-05T20:51:28.545Z"
   },
   {
    "duration": 10,
    "start_time": "2023-10-05T20:51:30.768Z"
   },
   {
    "duration": 36,
    "start_time": "2023-10-05T20:51:33.502Z"
   },
   {
    "duration": 62,
    "start_time": "2023-10-05T20:51:41.281Z"
   },
   {
    "duration": 248,
    "start_time": "2023-10-05T20:51:42.283Z"
   },
   {
    "duration": 35,
    "start_time": "2023-10-05T20:51:45.302Z"
   },
   {
    "duration": 112,
    "start_time": "2023-10-05T20:51:46.504Z"
   },
   {
    "duration": 675,
    "start_time": "2023-10-05T20:51:48.280Z"
   },
   {
    "duration": 164,
    "start_time": "2023-10-05T20:51:49.756Z"
   },
   {
    "duration": 4,
    "start_time": "2023-10-05T21:01:46.562Z"
   },
   {
    "duration": 16,
    "start_time": "2023-10-05T21:01:46.569Z"
   },
   {
    "duration": 66,
    "start_time": "2023-10-05T21:01:46.587Z"
   },
   {
    "duration": 20,
    "start_time": "2023-10-05T21:01:46.655Z"
   },
   {
    "duration": 86,
    "start_time": "2023-10-05T21:01:46.677Z"
   },
   {
    "duration": 18,
    "start_time": "2023-10-05T21:01:46.765Z"
   },
   {
    "duration": 15,
    "start_time": "2023-10-05T21:01:46.784Z"
   },
   {
    "duration": 27,
    "start_time": "2023-10-05T21:01:46.801Z"
   },
   {
    "duration": 10,
    "start_time": "2023-10-05T21:01:46.830Z"
   },
   {
    "duration": 22,
    "start_time": "2023-10-05T21:01:46.842Z"
   },
   {
    "duration": 16,
    "start_time": "2023-10-05T21:01:46.866Z"
   },
   {
    "duration": 9,
    "start_time": "2023-10-05T21:01:46.884Z"
   },
   {
    "duration": 3,
    "start_time": "2023-10-05T21:01:46.895Z"
   },
   {
    "duration": 258,
    "start_time": "2023-10-05T21:01:46.900Z"
   },
   {
    "duration": 10,
    "start_time": "2023-10-05T21:01:47.160Z"
   },
   {
    "duration": 42,
    "start_time": "2023-10-05T21:01:47.171Z"
   },
   {
    "duration": 17,
    "start_time": "2023-10-05T21:01:47.214Z"
   },
   {
    "duration": 148,
    "start_time": "2023-10-05T21:01:47.232Z"
   },
   {
    "duration": 6,
    "start_time": "2023-10-05T21:01:47.383Z"
   },
   {
    "duration": 28,
    "start_time": "2023-10-05T21:01:47.391Z"
   },
   {
    "duration": 24,
    "start_time": "2023-10-05T21:01:47.420Z"
   },
   {
    "duration": 197,
    "start_time": "2023-10-05T21:01:47.446Z"
   },
   {
    "duration": 283,
    "start_time": "2023-10-05T21:01:47.645Z"
   },
   {
    "duration": 46,
    "start_time": "2023-10-05T21:01:47.930Z"
   },
   {
    "duration": 122,
    "start_time": "2023-10-05T21:01:47.978Z"
   },
   {
    "duration": 683,
    "start_time": "2023-10-05T21:01:48.102Z"
   },
   {
    "duration": 163,
    "start_time": "2023-10-05T21:01:48.787Z"
   },
   {
    "duration": 4,
    "start_time": "2023-10-05T21:01:48.952Z"
   },
   {
    "duration": 26,
    "start_time": "2023-10-05T21:01:48.958Z"
   },
   {
    "duration": 79,
    "start_time": "2023-10-05T21:01:48.986Z"
   },
   {
    "duration": 41,
    "start_time": "2023-10-05T21:01:49.066Z"
   },
   {
    "duration": 135,
    "start_time": "2023-10-05T21:01:49.109Z"
   },
   {
    "duration": 322,
    "start_time": "2023-10-05T21:01:49.247Z"
   },
   {
    "duration": 173,
    "start_time": "2023-10-05T21:01:49.571Z"
   },
   {
    "duration": 296,
    "start_time": "2023-10-05T21:01:49.747Z"
   },
   {
    "duration": 14,
    "start_time": "2023-10-05T21:01:50.045Z"
   },
   {
    "duration": 174,
    "start_time": "2023-10-05T21:02:17.619Z"
   },
   {
    "duration": 2823,
    "start_time": "2023-10-05T21:02:26.929Z"
   },
   {
    "duration": 2865,
    "start_time": "2023-10-05T21:04:01.079Z"
   },
   {
    "duration": 2781,
    "start_time": "2023-10-05T21:04:06.064Z"
   },
   {
    "duration": 2915,
    "start_time": "2023-10-05T21:04:11.930Z"
   },
   {
    "duration": 152,
    "start_time": "2023-10-05T21:06:21.084Z"
   },
   {
    "duration": 174,
    "start_time": "2023-10-05T21:06:34.591Z"
   },
   {
    "duration": 125,
    "start_time": "2023-10-05T21:06:37.560Z"
   },
   {
    "duration": 2713,
    "start_time": "2023-10-05T21:07:29.588Z"
   },
   {
    "duration": 5,
    "start_time": "2023-10-05T21:07:34.627Z"
   },
   {
    "duration": 15,
    "start_time": "2023-10-05T21:07:34.634Z"
   },
   {
    "duration": 46,
    "start_time": "2023-10-05T21:07:34.651Z"
   },
   {
    "duration": 15,
    "start_time": "2023-10-05T21:07:34.699Z"
   },
   {
    "duration": 30,
    "start_time": "2023-10-05T21:07:34.716Z"
   },
   {
    "duration": 10,
    "start_time": "2023-10-05T21:07:34.747Z"
   },
   {
    "duration": 10,
    "start_time": "2023-10-05T21:07:34.758Z"
   },
   {
    "duration": 9,
    "start_time": "2023-10-05T21:07:34.769Z"
   },
   {
    "duration": 4,
    "start_time": "2023-10-05T21:07:34.780Z"
   },
   {
    "duration": 8,
    "start_time": "2023-10-05T21:07:34.786Z"
   },
   {
    "duration": 15,
    "start_time": "2023-10-05T21:07:34.795Z"
   },
   {
    "duration": 13,
    "start_time": "2023-10-05T21:07:34.812Z"
   },
   {
    "duration": 16,
    "start_time": "2023-10-05T21:07:34.827Z"
   },
   {
    "duration": 211,
    "start_time": "2023-10-05T21:07:34.845Z"
   },
   {
    "duration": 10,
    "start_time": "2023-10-05T21:07:35.058Z"
   },
   {
    "duration": 24,
    "start_time": "2023-10-05T21:07:35.070Z"
   },
   {
    "duration": 21,
    "start_time": "2023-10-05T21:07:35.095Z"
   },
   {
    "duration": 184,
    "start_time": "2023-10-05T21:07:35.118Z"
   },
   {
    "duration": 5,
    "start_time": "2023-10-05T21:07:35.304Z"
   },
   {
    "duration": 17,
    "start_time": "2023-10-05T21:07:35.311Z"
   },
   {
    "duration": 19,
    "start_time": "2023-10-05T21:07:35.330Z"
   },
   {
    "duration": 101,
    "start_time": "2023-10-05T21:07:35.350Z"
   },
   {
    "duration": 467,
    "start_time": "2023-10-05T21:07:35.453Z"
   },
   {
    "duration": 46,
    "start_time": "2023-10-05T21:07:35.924Z"
   },
   {
    "duration": 119,
    "start_time": "2023-10-05T21:07:35.972Z"
   },
   {
    "duration": 710,
    "start_time": "2023-10-05T21:07:36.093Z"
   },
   {
    "duration": 168,
    "start_time": "2023-10-05T21:07:36.805Z"
   },
   {
    "duration": 4,
    "start_time": "2023-10-05T21:07:36.975Z"
   },
   {
    "duration": 9,
    "start_time": "2023-10-05T21:07:36.981Z"
   },
   {
    "duration": 14,
    "start_time": "2023-10-05T21:07:36.992Z"
   },
   {
    "duration": 40,
    "start_time": "2023-10-05T21:07:37.008Z"
   },
   {
    "duration": 93,
    "start_time": "2023-10-05T21:07:37.050Z"
   },
   {
    "duration": 287,
    "start_time": "2023-10-05T21:07:37.146Z"
   },
   {
    "duration": 28,
    "start_time": "2023-10-05T21:07:37.444Z"
   },
   {
    "duration": 310,
    "start_time": "2023-10-05T21:07:37.545Z"
   },
   {
    "duration": 158,
    "start_time": "2023-10-05T21:07:37.857Z"
   },
   {
    "duration": 2930,
    "start_time": "2023-10-05T21:07:38.016Z"
   },
   {
    "duration": 3097,
    "start_time": "2023-10-05T21:07:40.949Z"
   },
   {
    "duration": 338,
    "start_time": "2023-10-05T21:07:44.048Z"
   },
   {
    "duration": 199,
    "start_time": "2023-10-05T21:07:44.387Z"
   },
   {
    "duration": 164,
    "start_time": "2023-10-05T21:07:44.588Z"
   },
   {
    "duration": 116,
    "start_time": "2023-10-05T21:07:46.578Z"
   },
   {
    "duration": 2581,
    "start_time": "2023-10-05T21:07:49.080Z"
   },
   {
    "duration": 129,
    "start_time": "2023-10-05T21:10:39.741Z"
   },
   {
    "duration": 2727,
    "start_time": "2023-10-05T21:11:11.965Z"
   },
   {
    "duration": 2588,
    "start_time": "2023-10-05T21:11:16.024Z"
   },
   {
    "duration": 2512,
    "start_time": "2023-10-05T21:12:29.632Z"
   },
   {
    "duration": 2499,
    "start_time": "2023-10-05T21:12:34.134Z"
   },
   {
    "duration": 103,
    "start_time": "2023-10-05T21:18:10.561Z"
   },
   {
    "duration": 83,
    "start_time": "2023-10-05T21:27:08.614Z"
   },
   {
    "duration": 72,
    "start_time": "2023-10-05T21:28:34.025Z"
   },
   {
    "duration": 132,
    "start_time": "2023-10-05T21:28:57.012Z"
   },
   {
    "duration": 145,
    "start_time": "2023-10-05T21:29:35.720Z"
   },
   {
    "duration": 8,
    "start_time": "2023-10-05T21:29:48.210Z"
   },
   {
    "duration": 160,
    "start_time": "2023-10-05T21:29:54.324Z"
   },
   {
    "duration": 148,
    "start_time": "2023-10-05T21:30:42.053Z"
   },
   {
    "duration": 13,
    "start_time": "2023-10-05T21:32:10.920Z"
   },
   {
    "duration": 10,
    "start_time": "2023-10-05T21:32:25.470Z"
   },
   {
    "duration": 10,
    "start_time": "2023-10-05T21:32:32.764Z"
   },
   {
    "duration": 0,
    "start_time": "2023-10-05T21:33:30.536Z"
   },
   {
    "duration": 15442,
    "start_time": "2023-10-05T21:33:40.068Z"
   },
   {
    "duration": 1206,
    "start_time": "2023-10-05T21:34:10.974Z"
   },
   {
    "duration": 13,
    "start_time": "2023-10-05T21:34:15.510Z"
   },
   {
    "duration": 1208,
    "start_time": "2023-10-05T21:34:28.424Z"
   },
   {
    "duration": 1324,
    "start_time": "2023-10-05T21:34:53.827Z"
   },
   {
    "duration": 1215,
    "start_time": "2023-10-05T21:35:10.332Z"
   },
   {
    "duration": 1274,
    "start_time": "2023-10-05T21:35:19.731Z"
   },
   {
    "duration": 1208,
    "start_time": "2023-10-05T21:35:22.784Z"
   },
   {
    "duration": 13,
    "start_time": "2023-10-05T21:35:33.013Z"
   },
   {
    "duration": 15,
    "start_time": "2023-10-05T21:35:39.190Z"
   },
   {
    "duration": 11,
    "start_time": "2023-10-05T21:36:00.472Z"
   },
   {
    "duration": 6,
    "start_time": "2023-10-05T21:36:51.477Z"
   },
   {
    "duration": 80,
    "start_time": "2023-10-05T21:37:04.120Z"
   },
   {
    "duration": 77,
    "start_time": "2023-10-05T21:37:15.494Z"
   },
   {
    "duration": 85,
    "start_time": "2023-10-05T21:37:39.835Z"
   },
   {
    "duration": 77,
    "start_time": "2023-10-05T21:38:16.450Z"
   },
   {
    "duration": 79,
    "start_time": "2023-10-05T21:38:21.348Z"
   },
   {
    "duration": 75,
    "start_time": "2023-10-05T21:38:39.404Z"
   },
   {
    "duration": 65,
    "start_time": "2023-10-05T21:38:42.434Z"
   },
   {
    "duration": 105,
    "start_time": "2023-10-05T21:38:44.472Z"
   },
   {
    "duration": 47,
    "start_time": "2023-10-06T07:55:15.169Z"
   },
   {
    "duration": 0,
    "start_time": "2023-10-06T07:55:15.218Z"
   },
   {
    "duration": 3,
    "start_time": "2023-10-06T08:05:41.938Z"
   },
   {
    "duration": 1546,
    "start_time": "2023-10-06T14:37:35.184Z"
   },
   {
    "duration": 3,
    "start_time": "2023-10-06T14:37:36.732Z"
   },
   {
    "duration": 81,
    "start_time": "2023-10-06T14:37:39.366Z"
   },
   {
    "duration": 18,
    "start_time": "2023-10-06T14:37:39.774Z"
   },
   {
    "duration": 14,
    "start_time": "2023-10-06T14:37:40.965Z"
   },
   {
    "duration": 3,
    "start_time": "2023-10-06T14:37:43.081Z"
   },
   {
    "duration": 5,
    "start_time": "2023-10-06T14:37:46.926Z"
   },
   {
    "duration": 4,
    "start_time": "2023-10-06T14:43:58.462Z"
   },
   {
    "duration": 33,
    "start_time": "2023-10-06T14:43:58.467Z"
   },
   {
    "duration": 57,
    "start_time": "2023-10-06T14:43:58.502Z"
   },
   {
    "duration": 14,
    "start_time": "2023-10-06T14:43:58.561Z"
   },
   {
    "duration": 36,
    "start_time": "2023-10-06T14:43:58.576Z"
   },
   {
    "duration": 37,
    "start_time": "2023-10-06T14:43:58.614Z"
   },
   {
    "duration": 40,
    "start_time": "2023-10-06T14:43:58.653Z"
   },
   {
    "duration": 20,
    "start_time": "2023-10-06T14:43:58.695Z"
   },
   {
    "duration": 30,
    "start_time": "2023-10-06T14:43:58.718Z"
   },
   {
    "duration": 22,
    "start_time": "2023-10-06T14:43:58.749Z"
   },
   {
    "duration": 31,
    "start_time": "2023-10-06T14:43:58.773Z"
   },
   {
    "duration": 19,
    "start_time": "2023-10-06T14:43:58.806Z"
   },
   {
    "duration": 19,
    "start_time": "2023-10-06T14:43:58.826Z"
   },
   {
    "duration": 227,
    "start_time": "2023-10-06T14:43:58.846Z"
   },
   {
    "duration": 13,
    "start_time": "2023-10-06T14:43:59.075Z"
   },
   {
    "duration": 29,
    "start_time": "2023-10-06T14:43:59.089Z"
   },
   {
    "duration": 28,
    "start_time": "2023-10-06T14:43:59.119Z"
   },
   {
    "duration": 91,
    "start_time": "2023-10-06T14:43:59.149Z"
   },
   {
    "duration": 4,
    "start_time": "2023-10-06T14:43:59.242Z"
   },
   {
    "duration": 23,
    "start_time": "2023-10-06T14:43:59.247Z"
   },
   {
    "duration": 18,
    "start_time": "2023-10-06T14:43:59.271Z"
   },
   {
    "duration": 27,
    "start_time": "2023-10-06T14:43:59.290Z"
   },
   {
    "duration": 43,
    "start_time": "2023-10-06T14:43:59.318Z"
   },
   {
    "duration": 80,
    "start_time": "2023-10-06T14:43:59.364Z"
   },
   {
    "duration": 307,
    "start_time": "2023-10-06T14:43:59.447Z"
   },
   {
    "duration": 35,
    "start_time": "2023-10-06T14:43:59.756Z"
   },
   {
    "duration": 123,
    "start_time": "2023-10-06T14:43:59.792Z"
   },
   {
    "duration": 695,
    "start_time": "2023-10-06T14:43:59.917Z"
   },
   {
    "duration": 163,
    "start_time": "2023-10-06T14:44:00.614Z"
   },
   {
    "duration": 4,
    "start_time": "2023-10-06T14:44:00.779Z"
   },
   {
    "duration": 152,
    "start_time": "2023-10-06T14:44:00.784Z"
   },
   {
    "duration": 84,
    "start_time": "2023-10-06T14:44:00.938Z"
   },
   {
    "duration": 0,
    "start_time": "2023-10-06T14:44:01.024Z"
   },
   {
    "duration": 0,
    "start_time": "2023-10-06T14:44:01.025Z"
   },
   {
    "duration": 0,
    "start_time": "2023-10-06T14:44:01.026Z"
   },
   {
    "duration": 0,
    "start_time": "2023-10-06T14:44:01.027Z"
   },
   {
    "duration": 0,
    "start_time": "2023-10-06T14:44:01.029Z"
   },
   {
    "duration": 0,
    "start_time": "2023-10-06T14:44:01.030Z"
   },
   {
    "duration": 1,
    "start_time": "2023-10-06T14:44:01.030Z"
   },
   {
    "duration": 0,
    "start_time": "2023-10-06T14:44:01.031Z"
   },
   {
    "duration": 0,
    "start_time": "2023-10-06T14:44:01.032Z"
   },
   {
    "duration": 0,
    "start_time": "2023-10-06T14:44:01.033Z"
   },
   {
    "duration": 0,
    "start_time": "2023-10-06T14:44:01.034Z"
   },
   {
    "duration": 0,
    "start_time": "2023-10-06T14:44:01.036Z"
   },
   {
    "duration": 0,
    "start_time": "2023-10-06T14:44:01.037Z"
   },
   {
    "duration": 0,
    "start_time": "2023-10-06T14:44:01.038Z"
   },
   {
    "duration": 100,
    "start_time": "2023-10-06T14:44:05.887Z"
   },
   {
    "duration": 3,
    "start_time": "2023-10-06T14:44:23.204Z"
   },
   {
    "duration": 36,
    "start_time": "2023-10-06T14:44:23.209Z"
   },
   {
    "duration": 57,
    "start_time": "2023-10-06T14:44:23.246Z"
   },
   {
    "duration": 14,
    "start_time": "2023-10-06T14:44:23.305Z"
   },
   {
    "duration": 38,
    "start_time": "2023-10-06T14:44:23.320Z"
   },
   {
    "duration": 16,
    "start_time": "2023-10-06T14:44:23.360Z"
   },
   {
    "duration": 44,
    "start_time": "2023-10-06T14:44:23.378Z"
   },
   {
    "duration": 32,
    "start_time": "2023-10-06T14:44:23.423Z"
   },
   {
    "duration": 11,
    "start_time": "2023-10-06T14:44:23.458Z"
   },
   {
    "duration": 10,
    "start_time": "2023-10-06T14:44:23.470Z"
   },
   {
    "duration": 26,
    "start_time": "2023-10-06T14:44:23.481Z"
   },
   {
    "duration": 16,
    "start_time": "2023-10-06T14:44:23.508Z"
   },
   {
    "duration": 12,
    "start_time": "2023-10-06T14:44:23.526Z"
   },
   {
    "duration": 224,
    "start_time": "2023-10-06T14:44:23.540Z"
   },
   {
    "duration": 12,
    "start_time": "2023-10-06T14:44:23.766Z"
   },
   {
    "duration": 35,
    "start_time": "2023-10-06T14:44:23.780Z"
   },
   {
    "duration": 43,
    "start_time": "2023-10-06T14:44:23.817Z"
   },
   {
    "duration": 81,
    "start_time": "2023-10-06T14:44:23.862Z"
   },
   {
    "duration": 4,
    "start_time": "2023-10-06T14:44:23.945Z"
   },
   {
    "duration": 27,
    "start_time": "2023-10-06T14:44:23.951Z"
   },
   {
    "duration": 25,
    "start_time": "2023-10-06T14:44:23.979Z"
   },
   {
    "duration": 36,
    "start_time": "2023-10-06T14:44:24.005Z"
   },
   {
    "duration": 9,
    "start_time": "2023-10-06T14:44:25.424Z"
   },
   {
    "duration": 16,
    "start_time": "2023-10-06T14:44:25.762Z"
   },
   {
    "duration": 25,
    "start_time": "2023-10-06T14:44:27.111Z"
   },
   {
    "duration": 317,
    "start_time": "2023-10-06T14:44:27.619Z"
   },
   {
    "duration": 22,
    "start_time": "2023-10-06T14:44:30.057Z"
   },
   {
    "duration": 298,
    "start_time": "2023-10-06T14:44:30.551Z"
   },
   {
    "duration": 39,
    "start_time": "2023-10-06T14:44:32.261Z"
   },
   {
    "duration": 110,
    "start_time": "2023-10-06T14:44:32.584Z"
   },
   {
    "duration": 714,
    "start_time": "2023-10-06T14:44:33.387Z"
   },
   {
    "duration": 169,
    "start_time": "2023-10-06T14:44:34.103Z"
   },
   {
    "duration": 4,
    "start_time": "2023-10-06T14:44:36.889Z"
   },
   {
    "duration": 2,
    "start_time": "2023-10-06T14:44:37.871Z"
   },
   {
    "duration": 2,
    "start_time": "2023-10-06T14:44:39.406Z"
   },
   {
    "duration": 18,
    "start_time": "2023-10-06T14:44:40.961Z"
   },
   {
    "duration": 23,
    "start_time": "2023-10-06T14:44:41.341Z"
   },
   {
    "duration": 313,
    "start_time": "2023-10-06T14:44:41.935Z"
   },
   {
    "duration": 87,
    "start_time": "2023-10-06T14:44:42.460Z"
   },
   {
    "duration": 282,
    "start_time": "2023-10-06T14:44:42.964Z"
   },
   {
    "duration": 152,
    "start_time": "2023-10-06T14:44:43.865Z"
   },
   {
    "duration": 2874,
    "start_time": "2023-10-06T14:44:44.970Z"
   },
   {
    "duration": 2998,
    "start_time": "2023-10-06T14:44:47.848Z"
   },
   {
    "duration": 177,
    "start_time": "2023-10-06T14:44:55.206Z"
   },
   {
    "duration": 164,
    "start_time": "2023-10-06T14:44:55.911Z"
   },
   {
    "duration": 122,
    "start_time": "2023-10-06T14:44:57.006Z"
   },
   {
    "duration": 2553,
    "start_time": "2023-10-06T14:44:57.366Z"
   },
   {
    "duration": 2357,
    "start_time": "2023-10-06T14:44:59.922Z"
   },
   {
    "duration": 2678,
    "start_time": "2023-10-06T14:45:02.280Z"
   },
   {
    "duration": 125,
    "start_time": "2023-10-06T14:45:04.960Z"
   },
   {
    "duration": 2032,
    "start_time": "2023-10-06T14:45:07.883Z"
   },
   {
    "duration": 130,
    "start_time": "2023-10-06T14:45:30.775Z"
   },
   {
    "duration": 19,
    "start_time": "2023-10-06T14:45:32.428Z"
   },
   {
    "duration": 149,
    "start_time": "2023-10-06T14:45:32.896Z"
   },
   {
    "duration": 23,
    "start_time": "2023-10-06T14:46:06.440Z"
   },
   {
    "duration": 844157,
    "start_time": "2023-10-06T14:46:17.520Z"
   },
   {
    "duration": 1028,
    "start_time": "2023-10-06T15:17:34.707Z"
   },
   {
    "duration": 16,
    "start_time": "2023-10-06T15:17:54.899Z"
   },
   {
    "duration": 132,
    "start_time": "2023-10-06T15:17:56.303Z"
   },
   {
    "duration": 74,
    "start_time": "2023-10-06T15:18:49.785Z"
   },
   {
    "duration": 4,
    "start_time": "2023-10-06T15:19:15.921Z"
   },
   {
    "duration": 27,
    "start_time": "2023-10-06T15:19:15.926Z"
   },
   {
    "duration": 50,
    "start_time": "2023-10-06T15:19:15.955Z"
   },
   {
    "duration": 14,
    "start_time": "2023-10-06T15:19:16.007Z"
   },
   {
    "duration": 16,
    "start_time": "2023-10-06T15:19:16.022Z"
   },
   {
    "duration": 8,
    "start_time": "2023-10-06T15:19:16.039Z"
   },
   {
    "duration": 18,
    "start_time": "2023-10-06T15:19:16.049Z"
   },
   {
    "duration": 7,
    "start_time": "2023-10-06T15:19:16.068Z"
   },
   {
    "duration": 12,
    "start_time": "2023-10-06T15:19:16.077Z"
   },
   {
    "duration": 17,
    "start_time": "2023-10-06T15:19:16.090Z"
   },
   {
    "duration": 16,
    "start_time": "2023-10-06T15:19:16.109Z"
   },
   {
    "duration": 4,
    "start_time": "2023-10-06T15:19:16.126Z"
   },
   {
    "duration": 10,
    "start_time": "2023-10-06T15:19:16.132Z"
   },
   {
    "duration": 210,
    "start_time": "2023-10-06T15:19:16.143Z"
   },
   {
    "duration": 9,
    "start_time": "2023-10-06T15:19:16.355Z"
   },
   {
    "duration": 15,
    "start_time": "2023-10-06T15:19:16.366Z"
   },
   {
    "duration": 41,
    "start_time": "2023-10-06T15:19:16.383Z"
   },
   {
    "duration": 75,
    "start_time": "2023-10-06T15:19:16.425Z"
   },
   {
    "duration": 4,
    "start_time": "2023-10-06T15:19:16.502Z"
   },
   {
    "duration": 12,
    "start_time": "2023-10-06T15:19:16.508Z"
   },
   {
    "duration": 5,
    "start_time": "2023-10-06T15:19:16.522Z"
   },
   {
    "duration": 19,
    "start_time": "2023-10-06T15:19:16.529Z"
   },
   {
    "duration": 15,
    "start_time": "2023-10-06T15:19:16.549Z"
   },
   {
    "duration": 80,
    "start_time": "2023-10-06T15:19:16.567Z"
   },
   {
    "duration": 399,
    "start_time": "2023-10-06T15:19:16.649Z"
   },
   {
    "duration": 36,
    "start_time": "2023-10-06T15:19:17.050Z"
   },
   {
    "duration": 130,
    "start_time": "2023-10-06T15:19:17.087Z"
   },
   {
    "duration": 702,
    "start_time": "2023-10-06T15:19:17.219Z"
   },
   {
    "duration": 172,
    "start_time": "2023-10-06T15:19:17.923Z"
   },
   {
    "duration": 4,
    "start_time": "2023-10-06T15:19:18.097Z"
   },
   {
    "duration": 10,
    "start_time": "2023-10-06T15:19:18.103Z"
   },
   {
    "duration": 6,
    "start_time": "2023-10-06T15:19:18.115Z"
   },
   {
    "duration": 31,
    "start_time": "2023-10-06T15:19:18.122Z"
   },
   {
    "duration": 92,
    "start_time": "2023-10-06T15:19:18.154Z"
   },
   {
    "duration": 303,
    "start_time": "2023-10-06T15:19:18.343Z"
   },
   {
    "duration": 97,
    "start_time": "2023-10-06T15:19:18.648Z"
   },
   {
    "duration": 396,
    "start_time": "2023-10-06T15:19:18.747Z"
   },
   {
    "duration": 164,
    "start_time": "2023-10-06T15:19:19.145Z"
   },
   {
    "duration": 2935,
    "start_time": "2023-10-06T15:19:19.311Z"
   },
   {
    "duration": 3098,
    "start_time": "2023-10-06T15:19:22.248Z"
   },
   {
    "duration": 332,
    "start_time": "2023-10-06T15:19:25.349Z"
   },
   {
    "duration": 171,
    "start_time": "2023-10-06T15:19:25.683Z"
   },
   {
    "duration": 122,
    "start_time": "2023-10-06T15:19:25.856Z"
   },
   {
    "duration": 2568,
    "start_time": "2023-10-06T15:19:25.979Z"
   },
   {
    "duration": 2398,
    "start_time": "2023-10-06T15:19:28.548Z"
   },
   {
    "duration": 2716,
    "start_time": "2023-10-06T15:19:30.948Z"
   },
   {
    "duration": 148,
    "start_time": "2023-10-06T15:19:33.665Z"
   },
   {
    "duration": 1143,
    "start_time": "2023-10-06T15:19:33.815Z"
   },
   {
    "duration": 138,
    "start_time": "2023-10-06T15:19:34.960Z"
   },
   {
    "duration": 16,
    "start_time": "2023-10-06T15:19:35.099Z"
   },
   {
    "duration": 140,
    "start_time": "2023-10-06T15:19:35.117Z"
   },
   {
    "duration": 1779,
    "start_time": "2023-10-06T19:57:43.471Z"
   },
   {
    "duration": 5,
    "start_time": "2023-10-06T19:57:45.252Z"
   },
   {
    "duration": 130,
    "start_time": "2023-10-06T19:57:45.259Z"
   },
   {
    "duration": 19,
    "start_time": "2023-10-06T19:57:45.391Z"
   },
   {
    "duration": 34,
    "start_time": "2023-10-06T19:57:45.411Z"
   },
   {
    "duration": 20,
    "start_time": "2023-10-06T19:57:45.451Z"
   },
   {
    "duration": 25,
    "start_time": "2023-10-06T19:57:45.473Z"
   },
   {
    "duration": 42,
    "start_time": "2023-10-06T19:57:45.500Z"
   },
   {
    "duration": 19,
    "start_time": "2023-10-06T19:57:45.544Z"
   },
   {
    "duration": 33,
    "start_time": "2023-10-06T19:57:45.566Z"
   },
   {
    "duration": 44,
    "start_time": "2023-10-06T19:57:45.600Z"
   },
   {
    "duration": 24,
    "start_time": "2023-10-06T19:57:45.646Z"
   },
   {
    "duration": 31,
    "start_time": "2023-10-06T19:57:45.672Z"
   },
   {
    "duration": 321,
    "start_time": "2023-10-06T19:57:45.705Z"
   },
   {
    "duration": 12,
    "start_time": "2023-10-06T19:57:46.038Z"
   },
   {
    "duration": 27,
    "start_time": "2023-10-06T19:57:46.052Z"
   },
   {
    "duration": 32,
    "start_time": "2023-10-06T19:57:46.081Z"
   },
   {
    "duration": 148,
    "start_time": "2023-10-06T19:57:46.116Z"
   },
   {
    "duration": 8,
    "start_time": "2023-10-06T19:57:46.268Z"
   },
   {
    "duration": 15,
    "start_time": "2023-10-06T19:57:46.278Z"
   },
   {
    "duration": 15,
    "start_time": "2023-10-06T19:57:46.295Z"
   },
   {
    "duration": 42,
    "start_time": "2023-10-06T19:57:46.312Z"
   },
   {
    "duration": 10,
    "start_time": "2023-10-06T19:57:47.811Z"
   },
   {
    "duration": 21,
    "start_time": "2023-10-06T19:57:48.845Z"
   },
   {
    "duration": 77,
    "start_time": "2023-10-06T19:57:52.156Z"
   },
   {
    "duration": 280,
    "start_time": "2023-10-06T19:57:53.450Z"
   },
   {
    "duration": 119,
    "start_time": "2023-10-06T19:58:24.247Z"
   },
   {
    "duration": 47,
    "start_time": "2023-10-06T19:58:29.315Z"
   },
   {
    "duration": 305,
    "start_time": "2023-10-06T19:58:30.149Z"
   },
   {
    "duration": 37,
    "start_time": "2023-10-06T19:58:31.763Z"
   },
   {
    "duration": 126,
    "start_time": "2023-10-06T19:58:34.156Z"
   },
   {
    "duration": 768,
    "start_time": "2023-10-06T19:58:38.583Z"
   },
   {
    "duration": 186,
    "start_time": "2023-10-06T19:58:40.749Z"
   },
   {
    "duration": 9,
    "start_time": "2023-10-06T19:58:52.322Z"
   },
   {
    "duration": 3,
    "start_time": "2023-10-06T19:58:53.261Z"
   },
   {
    "duration": 3,
    "start_time": "2023-10-06T19:58:55.481Z"
   },
   {
    "duration": 18,
    "start_time": "2023-10-06T19:59:06.351Z"
   },
   {
    "duration": 53,
    "start_time": "2023-10-06T19:59:07.492Z"
   },
   {
    "duration": 330,
    "start_time": "2023-10-06T19:59:10.193Z"
   },
   {
    "duration": 138,
    "start_time": "2023-10-06T19:59:22.011Z"
   },
   {
    "duration": 328,
    "start_time": "2023-10-06T19:59:32.048Z"
   },
   {
    "duration": 166,
    "start_time": "2023-10-06T19:59:35.355Z"
   },
   {
    "duration": 2782,
    "start_time": "2023-10-06T19:59:43.657Z"
   },
   {
    "duration": 2682,
    "start_time": "2023-10-06T19:59:48.063Z"
   },
   {
    "duration": 171,
    "start_time": "2023-10-06T19:59:54.243Z"
   },
   {
    "duration": 182,
    "start_time": "2023-10-06T19:59:57.576Z"
   },
   {
    "duration": 130,
    "start_time": "2023-10-06T19:59:59.470Z"
   },
   {
    "duration": 3056,
    "start_time": "2023-10-06T20:00:00.612Z"
   },
   {
    "duration": 2749,
    "start_time": "2023-10-06T20:00:03.671Z"
   },
   {
    "duration": 3170,
    "start_time": "2023-10-06T20:00:12.852Z"
   },
   {
    "duration": 136,
    "start_time": "2023-10-06T20:00:19.375Z"
   },
   {
    "duration": 1251,
    "start_time": "2023-10-06T20:00:22.684Z"
   },
   {
    "duration": 171,
    "start_time": "2023-10-06T20:00:33.081Z"
   },
   {
    "duration": 21,
    "start_time": "2023-10-06T20:00:37.017Z"
   },
   {
    "duration": 166,
    "start_time": "2023-10-06T20:00:38.473Z"
   },
   {
    "duration": 4,
    "start_time": "2023-10-06T20:01:26.266Z"
   },
   {
    "duration": 28,
    "start_time": "2023-10-06T20:01:26.272Z"
   },
   {
    "duration": 77,
    "start_time": "2023-10-06T20:01:26.302Z"
   },
   {
    "duration": 15,
    "start_time": "2023-10-06T20:01:26.381Z"
   },
   {
    "duration": 104,
    "start_time": "2023-10-06T20:01:26.399Z"
   },
   {
    "duration": 146,
    "start_time": "2023-10-06T20:01:26.505Z"
   },
   {
    "duration": 149,
    "start_time": "2023-10-06T20:01:26.653Z"
   },
   {
    "duration": 81,
    "start_time": "2023-10-06T20:01:26.804Z"
   },
   {
    "duration": 63,
    "start_time": "2023-10-06T20:01:26.887Z"
   },
   {
    "duration": 31,
    "start_time": "2023-10-06T20:01:26.952Z"
   },
   {
    "duration": 14,
    "start_time": "2023-10-06T20:01:26.987Z"
   },
   {
    "duration": 23,
    "start_time": "2023-10-06T20:01:27.002Z"
   },
   {
    "duration": 65,
    "start_time": "2023-10-06T20:01:27.027Z"
   },
   {
    "duration": 245,
    "start_time": "2023-10-06T20:01:27.095Z"
   },
   {
    "duration": 14,
    "start_time": "2023-10-06T20:01:27.342Z"
   },
   {
    "duration": 75,
    "start_time": "2023-10-06T20:01:27.357Z"
   },
   {
    "duration": 37,
    "start_time": "2023-10-06T20:01:27.433Z"
   },
   {
    "duration": 148,
    "start_time": "2023-10-06T20:01:27.472Z"
   },
   {
    "duration": 15,
    "start_time": "2023-10-06T20:01:27.622Z"
   },
   {
    "duration": 20,
    "start_time": "2023-10-06T20:01:27.639Z"
   },
   {
    "duration": 17,
    "start_time": "2023-10-06T20:01:27.661Z"
   },
   {
    "duration": 41,
    "start_time": "2023-10-06T20:01:27.680Z"
   },
   {
    "duration": 20,
    "start_time": "2023-10-06T20:01:27.722Z"
   },
   {
    "duration": 88,
    "start_time": "2023-10-06T20:01:27.744Z"
   },
   {
    "duration": 293,
    "start_time": "2023-10-06T20:01:27.835Z"
   },
   {
    "duration": 41,
    "start_time": "2023-10-06T20:01:28.130Z"
   },
   {
    "duration": 216,
    "start_time": "2023-10-06T20:01:28.173Z"
   },
   {
    "duration": 784,
    "start_time": "2023-10-06T20:01:28.390Z"
   },
   {
    "duration": 187,
    "start_time": "2023-10-06T20:01:29.177Z"
   },
   {
    "duration": 4,
    "start_time": "2023-10-06T20:01:29.365Z"
   },
   {
    "duration": 16,
    "start_time": "2023-10-06T20:01:29.371Z"
   },
   {
    "duration": 15,
    "start_time": "2023-10-06T20:01:29.389Z"
   },
   {
    "duration": 56,
    "start_time": "2023-10-06T20:01:29.405Z"
   },
   {
    "duration": 71,
    "start_time": "2023-10-06T20:01:29.463Z"
   },
   {
    "duration": 385,
    "start_time": "2023-10-06T20:01:29.535Z"
   },
   {
    "duration": 41,
    "start_time": "2023-10-06T20:01:29.924Z"
   },
   {
    "duration": 623,
    "start_time": "2023-10-06T20:01:29.967Z"
   },
   {
    "duration": 392,
    "start_time": "2023-10-06T20:01:30.592Z"
   },
   {
    "duration": 2765,
    "start_time": "2023-10-06T20:01:30.986Z"
   },
   {
    "duration": 2785,
    "start_time": "2023-10-06T20:01:33.754Z"
   },
   {
    "duration": 311,
    "start_time": "2023-10-06T20:01:36.547Z"
   },
   {
    "duration": 200,
    "start_time": "2023-10-06T20:01:36.859Z"
   },
   {
    "duration": 203,
    "start_time": "2023-10-06T20:01:37.061Z"
   },
   {
    "duration": 2900,
    "start_time": "2023-10-06T20:01:37.267Z"
   },
   {
    "duration": 2616,
    "start_time": "2023-10-06T20:01:40.169Z"
   },
   {
    "duration": 2955,
    "start_time": "2023-10-06T20:01:42.787Z"
   },
   {
    "duration": 227,
    "start_time": "2023-10-06T20:01:45.744Z"
   },
   {
    "duration": 1319,
    "start_time": "2023-10-06T20:01:45.973Z"
   },
   {
    "duration": 143,
    "start_time": "2023-10-06T20:01:47.294Z"
   },
   {
    "duration": 24,
    "start_time": "2023-10-06T20:01:47.445Z"
   },
   {
    "duration": 139,
    "start_time": "2023-10-06T20:01:47.470Z"
   },
   {
    "duration": 1449,
    "start_time": "2023-11-01T18:58:15.762Z"
   },
   {
    "duration": 3,
    "start_time": "2023-11-01T18:58:17.213Z"
   },
   {
    "duration": 119,
    "start_time": "2023-11-01T18:58:17.217Z"
   },
   {
    "duration": 22,
    "start_time": "2023-11-01T18:58:17.338Z"
   },
   {
    "duration": 23,
    "start_time": "2023-11-01T18:58:17.362Z"
   },
   {
    "duration": 29,
    "start_time": "2023-11-01T18:58:17.387Z"
   },
   {
    "duration": 37,
    "start_time": "2023-11-01T18:58:17.417Z"
   },
   {
    "duration": 17,
    "start_time": "2023-11-01T18:58:17.456Z"
   },
   {
    "duration": 52,
    "start_time": "2023-11-01T18:58:17.475Z"
   },
   {
    "duration": 42,
    "start_time": "2023-11-01T18:58:17.529Z"
   },
   {
    "duration": 47,
    "start_time": "2023-11-01T18:58:17.573Z"
   },
   {
    "duration": 11,
    "start_time": "2023-11-01T18:58:17.622Z"
   },
   {
    "duration": 26,
    "start_time": "2023-11-01T18:58:17.635Z"
   },
   {
    "duration": 184,
    "start_time": "2023-11-01T18:58:17.662Z"
   },
   {
    "duration": 18,
    "start_time": "2023-11-01T18:58:17.847Z"
   },
   {
    "duration": 24,
    "start_time": "2023-11-01T18:58:17.867Z"
   },
   {
    "duration": 27,
    "start_time": "2023-11-01T18:58:17.893Z"
   },
   {
    "duration": 117,
    "start_time": "2023-11-01T18:58:17.922Z"
   },
   {
    "duration": 15,
    "start_time": "2023-11-01T18:58:18.041Z"
   },
   {
    "duration": 29,
    "start_time": "2023-11-01T18:58:18.058Z"
   },
   {
    "duration": 14,
    "start_time": "2023-11-01T18:58:18.089Z"
   },
   {
    "duration": 49,
    "start_time": "2023-11-01T18:58:18.105Z"
   },
   {
    "duration": 10,
    "start_time": "2023-11-01T18:58:19.383Z"
   },
   {
    "duration": 15,
    "start_time": "2023-11-01T18:58:22.358Z"
   },
   {
    "duration": 29,
    "start_time": "2023-11-01T18:58:28.330Z"
   },
   {
    "duration": 1519,
    "start_time": "2023-12-16T11:32:03.298Z"
   },
   {
    "duration": 2,
    "start_time": "2023-12-16T11:32:04.819Z"
   },
   {
    "duration": 177,
    "start_time": "2023-12-16T11:32:04.823Z"
   },
   {
    "duration": 19,
    "start_time": "2023-12-16T11:32:05.003Z"
   },
   {
    "duration": 22,
    "start_time": "2023-12-16T11:32:05.023Z"
   },
   {
    "duration": 25,
    "start_time": "2023-12-16T11:32:05.047Z"
   },
   {
    "duration": 38,
    "start_time": "2023-12-16T11:32:05.074Z"
   },
   {
    "duration": 21,
    "start_time": "2023-12-16T11:32:05.114Z"
   },
   {
    "duration": 17,
    "start_time": "2023-12-16T11:32:05.136Z"
   },
   {
    "duration": 31,
    "start_time": "2023-12-16T11:32:05.155Z"
   },
   {
    "duration": 37,
    "start_time": "2023-12-16T11:32:05.188Z"
   },
   {
    "duration": 32,
    "start_time": "2023-12-16T11:32:05.226Z"
   },
   {
    "duration": 8,
    "start_time": "2023-12-16T11:32:05.259Z"
   },
   {
    "duration": 201,
    "start_time": "2023-12-16T11:32:20.632Z"
   }
  ],
  "kernelspec": {
   "display_name": "Python 3 (ipykernel)",
   "language": "python",
   "name": "python3"
  },
  "language_info": {
   "codemirror_mode": {
    "name": "ipython",
    "version": 3
   },
   "file_extension": ".py",
   "mimetype": "text/x-python",
   "name": "python",
   "nbconvert_exporter": "python",
   "pygments_lexer": "ipython3",
   "version": "3.9.5"
  },
  "toc": {
   "base_numbering": 1,
   "nav_menu": {},
   "number_sections": true,
   "sideBar": true,
   "skip_h1_title": true,
   "title_cell": "Содержание",
   "title_sidebar": "Contents",
   "toc_cell": true,
   "toc_position": {},
   "toc_section_display": true,
   "toc_window_display": false
  }
 },
 "nbformat": 4,
 "nbformat_minor": 2
}
